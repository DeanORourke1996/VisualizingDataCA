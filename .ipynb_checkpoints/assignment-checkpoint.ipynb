{
 "cells": [
  {
   "cell_type": "markdown",
   "metadata": {},
   "source": [
    "# Don't forget to upload the dataset as well \n",
    "\n",
    "## Data Visualising Assignment\n",
    "## Sahil Sahil\n",
    "## D17124269"
   ]
  },
  {
   "cell_type": "code",
   "execution_count": 1,
   "metadata": {},
   "outputs": [],
   "source": [
    "# install.packages(\"tidyverse\")\n",
    "# install.packages(\"lubridate\")\n",
    "# install.packages(\"zoo\")\n",
    "# install.packages(\"ggplot2\")\n",
    "# install.packages(\"magrittr\") # package installations are only needed the first time you use it\n",
    "# install.packages(\"dplyr\")\n",
    "# install.packages(\"reshape2\")\n",
    "# install.packages(\"GGally\")\n",
    "# install.packages(\"ggExtra\")\n",
    "# install.packages(\"ggalluvial\")\n",
    "# install.packages(\"plotly\")\n",
    "# install.packages(\"corrplot\")\n",
    "# install.packages(\"sqldf\")\n",
    "# install.packages(\"tm\")\n",
    "# install.packages(\"wordcloud\")\n"
   ]
  },
  {
   "cell_type": "code",
   "execution_count": 2,
   "metadata": {},
   "outputs": [
    {
     "name": "stderr",
     "output_type": "stream",
     "text": [
      "Warning message:\n",
      "\"package 'tidyverse' was built under R version 4.0.5\"\n",
      "-- \u001b[1mAttaching packages\u001b[22m ------------------------------------------------------------------------------- tidyverse 1.3.1 --\n",
      "\n",
      "\u001b[32mv\u001b[39m \u001b[34mggplot2\u001b[39m 3.3.3     \u001b[32mv\u001b[39m \u001b[34mpurrr  \u001b[39m 0.3.4\n",
      "\u001b[32mv\u001b[39m \u001b[34mtibble \u001b[39m 3.1.0     \u001b[32mv\u001b[39m \u001b[34mdplyr  \u001b[39m 1.0.5\n",
      "\u001b[32mv\u001b[39m \u001b[34mtidyr  \u001b[39m 1.1.3     \u001b[32mv\u001b[39m \u001b[34mstringr\u001b[39m 1.4.0\n",
      "\u001b[32mv\u001b[39m \u001b[34mreadr  \u001b[39m 1.4.0     \u001b[32mv\u001b[39m \u001b[34mforcats\u001b[39m 0.5.1\n",
      "\n",
      "Warning message:\n",
      "\"package 'ggplot2' was built under R version 4.0.5\"\n",
      "Warning message:\n",
      "\"package 'tibble' was built under R version 4.0.5\"\n",
      "Warning message:\n",
      "\"package 'tidyr' was built under R version 4.0.5\"\n",
      "Warning message:\n",
      "\"package 'dplyr' was built under R version 4.0.5\"\n",
      "-- \u001b[1mConflicts\u001b[22m ---------------------------------------------------------------------------------- tidyverse_conflicts() --\n",
      "\u001b[31mx\u001b[39m \u001b[34mdplyr\u001b[39m::\u001b[32mfilter()\u001b[39m masks \u001b[34mstats\u001b[39m::filter()\n",
      "\u001b[31mx\u001b[39m \u001b[34mdplyr\u001b[39m::\u001b[32mlag()\u001b[39m    masks \u001b[34mstats\u001b[39m::lag()\n",
      "\n",
      "Warning message:\n",
      "\"package 'lubridate' was built under R version 4.0.5\"\n",
      "\n",
      "Attaching package: 'lubridate'\n",
      "\n",
      "\n",
      "The following objects are masked from 'package:base':\n",
      "\n",
      "    date, intersect, setdiff, union\n",
      "\n",
      "\n",
      "Warning message:\n",
      "\"package 'zoo' was built under R version 4.0.5\"\n",
      "\n",
      "Attaching package: 'zoo'\n",
      "\n",
      "\n",
      "The following objects are masked from 'package:base':\n",
      "\n",
      "    as.Date, as.Date.numeric\n",
      "\n",
      "\n",
      "Warning message:\n",
      "\"package 'magrittr' was built under R version 4.0.5\"\n",
      "\n",
      "Attaching package: 'magrittr'\n",
      "\n",
      "\n",
      "The following object is masked from 'package:purrr':\n",
      "\n",
      "    set_names\n",
      "\n",
      "\n",
      "The following object is masked from 'package:tidyr':\n",
      "\n",
      "    extract\n",
      "\n",
      "\n",
      "Warning message:\n",
      "\"package 'reshape2' was built under R version 4.0.5\"\n",
      "\n",
      "Attaching package: 'reshape2'\n",
      "\n",
      "\n",
      "The following object is masked from 'package:tidyr':\n",
      "\n",
      "    smiths\n",
      "\n",
      "\n",
      "Warning message:\n",
      "\"package 'GGally' was built under R version 4.0.5\"\n",
      "Registered S3 method overwritten by 'GGally':\n",
      "  method from   \n",
      "  +.gg   ggplot2\n",
      "\n",
      "Warning message:\n",
      "\"package 'ggExtra' was built under R version 4.0.5\"\n",
      "Warning message:\n",
      "\"package 'ggalluvial' was built under R version 4.0.5\"\n",
      "Warning message:\n",
      "\"package 'plotly' was built under R version 4.0.5\"\n",
      "\n",
      "Attaching package: 'plotly'\n",
      "\n",
      "\n",
      "The following object is masked from 'package:ggplot2':\n",
      "\n",
      "    last_plot\n",
      "\n",
      "\n",
      "The following object is masked from 'package:stats':\n",
      "\n",
      "    filter\n",
      "\n",
      "\n",
      "The following object is masked from 'package:graphics':\n",
      "\n",
      "    layout\n",
      "\n",
      "\n",
      "Warning message:\n",
      "\"package 'corrplot' was built under R version 4.0.5\"\n",
      "corrplot 0.84 loaded\n",
      "\n",
      "Warning message:\n",
      "\"package 'sqldf' was built under R version 4.0.5\"\n",
      "Loading required package: gsubfn\n",
      "\n",
      "Loading required package: proto\n",
      "\n",
      "Loading required package: RSQLite\n",
      "\n",
      "Warning message:\n",
      "\"package 'tm' was built under R version 4.0.5\"\n",
      "Loading required package: NLP\n",
      "\n",
      "\n",
      "Attaching package: 'NLP'\n",
      "\n",
      "\n",
      "The following object is masked from 'package:ggplot2':\n",
      "\n",
      "    annotate\n",
      "\n",
      "\n",
      "Warning message:\n",
      "\"package 'wordcloud' was built under R version 4.0.5\"\n",
      "Loading required package: RColorBrewer\n",
      "\n"
     ]
    }
   ],
   "source": [
    "library(tidyverse)\n",
    "library(lubridate)\n",
    "library(zoo)\n",
    "library(ggplot2)\n",
    "library(magrittr) # needs to be run every time you start R and want to use %>%\n",
    "library(dplyr)\n",
    "library(reshape2)\n",
    "library(GGally)\n",
    "library(ggExtra)\n",
    "library(ggalluvial)\n",
    "library(plotly)\n",
    "library(corrplot)\n",
    "library(sqldf)\n",
    "library(tm)\n",
    "library(wordcloud)\n"
   ]
  },
  {
   "cell_type": "code",
   "execution_count": 3,
   "metadata": {},
   "outputs": [],
   "source": [
    "dfsource<-\"./data/Movie.csv\"\n",
    "movie <- read.csv(dfsource, stringsAsFactors = FALSE)\n",
    "\n",
    "dfsource1<-\"./data/Movies_Tidy.csv\"\n",
    "movietidy <- read.csv(dfsource1, stringsAsFactors = FALSE)\n",
    "\n",
    "dfsource2<-\"./data/TV.csv\"\n",
    "tv <- read.csv(dfsource2, stringsAsFactors = FALSE)\n",
    "\n",
    "dfsource3<-\"./data/TV_Tidy.csv\"\n",
    "tv1 <- read.csv(dfsource3, stringsAsFactors = FALSE)"
   ]
  },
  {
   "cell_type": "code",
   "execution_count": 4,
   "metadata": {},
   "outputs": [
    {
     "data": {
      "text/html": [
       "<table class=\"dataframe\">\n",
       "<caption>A data.frame: 6 × 12</caption>\n",
       "<thead>\n",
       "\t<tr><th></th><th scope=col>Date</th><th scope=col>MOVIE_NAME</th><th scope=col>WATCH_LINK</th><th scope=col>DATE_ADDED</th><th scope=col>SITE_RANK</th><th scope=col>STARS</th><th scope=col>IMDB</th><th scope=col>DIRECTOR</th><th scope=col>COUNTRY</th><th scope=col>GENRE</th><th scope=col>USER_REVIEWS_LOCAL</th><th scope=col>NUMBER_REVIEWS_LOCAL</th></tr>\n",
       "\t<tr><th></th><th scope=col>&lt;chr&gt;</th><th scope=col>&lt;chr&gt;</th><th scope=col>&lt;chr&gt;</th><th scope=col>&lt;chr&gt;</th><th scope=col>&lt;int&gt;</th><th scope=col>&lt;chr&gt;</th><th scope=col>&lt;dbl&gt;</th><th scope=col>&lt;chr&gt;</th><th scope=col>&lt;chr&gt;</th><th scope=col>&lt;chr&gt;</th><th scope=col>&lt;dbl&gt;</th><th scope=col>&lt;chr&gt;</th></tr>\n",
       "</thead>\n",
       "<tbody>\n",
       "\t<tr><th scope=row>1</th><td>2019-04-22</td><td>Avengers: Endgame     </td><td>https://fmovies.to/film/avengers-endgame.xjm5v     </td><td>2020-07-14</td><td>1</td><td>Don Cheadle,Anthony Mackie,Rene Russo,Mark Ruffalo,Chris Hemsworth,Scarlett Johansson,Elizabeth Olsen,Tilda Swinton,Brie Larson,Jon Favreau        </td><td>8.4</td><td>Anthony Russo,Joe Russo</td><td>United States</td><td>Sci-Fi   </td><td>7.1</td><td>12,640</td></tr>\n",
       "\t<tr><th scope=row>2</th><td>2019-04-22</td><td>Avengers: Endgame     </td><td>https://fmovies.to/film/avengers-endgame.xjm5v     </td><td>2020-07-14</td><td>1</td><td>Don Cheadle,Anthony Mackie,Rene Russo,Mark Ruffalo,Chris Hemsworth,Scarlett Johansson,Elizabeth Olsen,Tilda Swinton,Brie Larson,Jon Favreau        </td><td>8.4</td><td>Anthony Russo,Joe Russo</td><td>United States</td><td>Adventure</td><td>7.1</td><td>12,640</td></tr>\n",
       "\t<tr><th scope=row>3</th><td>2019-04-22</td><td>Avengers: Endgame     </td><td>https://fmovies.to/film/avengers-endgame.xjm5v     </td><td>2020-07-14</td><td>1</td><td>Don Cheadle,Anthony Mackie,Rene Russo,Mark Ruffalo,Chris Hemsworth,Scarlett Johansson,Elizabeth Olsen,Tilda Swinton,Brie Larson,Jon Favreau        </td><td>8.4</td><td>Anthony Russo,Joe Russo</td><td>United States</td><td>Action   </td><td>7.1</td><td>12,640</td></tr>\n",
       "\t<tr><th scope=row>4</th><td>2019-04-22</td><td>Avengers: Endgame     </td><td>https://fmovies.to/film/avengers-endgame.xjm5v     </td><td>2020-07-14</td><td>1</td><td>Don Cheadle,Anthony Mackie,Rene Russo,Mark Ruffalo,Chris Hemsworth,Scarlett Johansson,Elizabeth Olsen,Tilda Swinton,Brie Larson,Jon Favreau        </td><td>8.4</td><td>Anthony Russo,Joe Russo</td><td>United States</td><td>Fantasy  </td><td>7.1</td><td>12,640</td></tr>\n",
       "\t<tr><th scope=row>5</th><td>2018-04-23</td><td>Avengers: Infinity War</td><td>https://fmovies.to/film/avengers-infinity-war.z12k2</td><td>2020-07-14</td><td>3</td><td>William Hurt,Don Cheadle,Anthony Mackie,Benicio Del Toro,Gwyneth Paltrow,Mark Ruffalo,Chris Hemsworth,Idris Elba,Scarlett Johansson,Elizabeth Olsen</td><td>8.5</td><td>Anthony Russo,Joe Russo</td><td>United States</td><td>Sci-Fi   </td><td>6.2</td><td>21,830</td></tr>\n",
       "\t<tr><th scope=row>6</th><td>2018-04-23</td><td>Avengers: Infinity War</td><td>https://fmovies.to/film/avengers-infinity-war.z12k2</td><td>2020-07-14</td><td>3</td><td>William Hurt,Don Cheadle,Anthony Mackie,Benicio Del Toro,Gwyneth Paltrow,Mark Ruffalo,Chris Hemsworth,Idris Elba,Scarlett Johansson,Elizabeth Olsen</td><td>8.5</td><td>Anthony Russo,Joe Russo</td><td>United States</td><td>Adventure</td><td>6.2</td><td>21,830</td></tr>\n",
       "</tbody>\n",
       "</table>\n"
      ],
      "text/latex": [
       "A data.frame: 6 × 12\n",
       "\\begin{tabular}{r|llllllllllll}\n",
       "  & Date & MOVIE\\_NAME & WATCH\\_LINK & DATE\\_ADDED & SITE\\_RANK & STARS & IMDB & DIRECTOR & COUNTRY & GENRE & USER\\_REVIEWS\\_LOCAL & NUMBER\\_REVIEWS\\_LOCAL\\\\\n",
       "  & <chr> & <chr> & <chr> & <chr> & <int> & <chr> & <dbl> & <chr> & <chr> & <chr> & <dbl> & <chr>\\\\\n",
       "\\hline\n",
       "\t1 & 2019-04-22 & Avengers: Endgame      & https://fmovies.to/film/avengers-endgame.xjm5v      & 2020-07-14 & 1 & Don Cheadle,Anthony Mackie,Rene Russo,Mark Ruffalo,Chris Hemsworth,Scarlett Johansson,Elizabeth Olsen,Tilda Swinton,Brie Larson,Jon Favreau         & 8.4 & Anthony Russo,Joe Russo & United States & Sci-Fi    & 7.1 & 12,640\\\\\n",
       "\t2 & 2019-04-22 & Avengers: Endgame      & https://fmovies.to/film/avengers-endgame.xjm5v      & 2020-07-14 & 1 & Don Cheadle,Anthony Mackie,Rene Russo,Mark Ruffalo,Chris Hemsworth,Scarlett Johansson,Elizabeth Olsen,Tilda Swinton,Brie Larson,Jon Favreau         & 8.4 & Anthony Russo,Joe Russo & United States & Adventure & 7.1 & 12,640\\\\\n",
       "\t3 & 2019-04-22 & Avengers: Endgame      & https://fmovies.to/film/avengers-endgame.xjm5v      & 2020-07-14 & 1 & Don Cheadle,Anthony Mackie,Rene Russo,Mark Ruffalo,Chris Hemsworth,Scarlett Johansson,Elizabeth Olsen,Tilda Swinton,Brie Larson,Jon Favreau         & 8.4 & Anthony Russo,Joe Russo & United States & Action    & 7.1 & 12,640\\\\\n",
       "\t4 & 2019-04-22 & Avengers: Endgame      & https://fmovies.to/film/avengers-endgame.xjm5v      & 2020-07-14 & 1 & Don Cheadle,Anthony Mackie,Rene Russo,Mark Ruffalo,Chris Hemsworth,Scarlett Johansson,Elizabeth Olsen,Tilda Swinton,Brie Larson,Jon Favreau         & 8.4 & Anthony Russo,Joe Russo & United States & Fantasy   & 7.1 & 12,640\\\\\n",
       "\t5 & 2018-04-23 & Avengers: Infinity War & https://fmovies.to/film/avengers-infinity-war.z12k2 & 2020-07-14 & 3 & William Hurt,Don Cheadle,Anthony Mackie,Benicio Del Toro,Gwyneth Paltrow,Mark Ruffalo,Chris Hemsworth,Idris Elba,Scarlett Johansson,Elizabeth Olsen & 8.5 & Anthony Russo,Joe Russo & United States & Sci-Fi    & 6.2 & 21,830\\\\\n",
       "\t6 & 2018-04-23 & Avengers: Infinity War & https://fmovies.to/film/avengers-infinity-war.z12k2 & 2020-07-14 & 3 & William Hurt,Don Cheadle,Anthony Mackie,Benicio Del Toro,Gwyneth Paltrow,Mark Ruffalo,Chris Hemsworth,Idris Elba,Scarlett Johansson,Elizabeth Olsen & 8.5 & Anthony Russo,Joe Russo & United States & Adventure & 6.2 & 21,830\\\\\n",
       "\\end{tabular}\n"
      ],
      "text/markdown": [
       "\n",
       "A data.frame: 6 × 12\n",
       "\n",
       "| <!--/--> | Date &lt;chr&gt; | MOVIE_NAME &lt;chr&gt; | WATCH_LINK &lt;chr&gt; | DATE_ADDED &lt;chr&gt; | SITE_RANK &lt;int&gt; | STARS &lt;chr&gt; | IMDB &lt;dbl&gt; | DIRECTOR &lt;chr&gt; | COUNTRY &lt;chr&gt; | GENRE &lt;chr&gt; | USER_REVIEWS_LOCAL &lt;dbl&gt; | NUMBER_REVIEWS_LOCAL &lt;chr&gt; |\n",
       "|---|---|---|---|---|---|---|---|---|---|---|---|---|\n",
       "| 1 | 2019-04-22 | Avengers: Endgame      | https://fmovies.to/film/avengers-endgame.xjm5v      | 2020-07-14 | 1 | Don Cheadle,Anthony Mackie,Rene Russo,Mark Ruffalo,Chris Hemsworth,Scarlett Johansson,Elizabeth Olsen,Tilda Swinton,Brie Larson,Jon Favreau         | 8.4 | Anthony Russo,Joe Russo | United States | Sci-Fi    | 7.1 | 12,640 |\n",
       "| 2 | 2019-04-22 | Avengers: Endgame      | https://fmovies.to/film/avengers-endgame.xjm5v      | 2020-07-14 | 1 | Don Cheadle,Anthony Mackie,Rene Russo,Mark Ruffalo,Chris Hemsworth,Scarlett Johansson,Elizabeth Olsen,Tilda Swinton,Brie Larson,Jon Favreau         | 8.4 | Anthony Russo,Joe Russo | United States | Adventure | 7.1 | 12,640 |\n",
       "| 3 | 2019-04-22 | Avengers: Endgame      | https://fmovies.to/film/avengers-endgame.xjm5v      | 2020-07-14 | 1 | Don Cheadle,Anthony Mackie,Rene Russo,Mark Ruffalo,Chris Hemsworth,Scarlett Johansson,Elizabeth Olsen,Tilda Swinton,Brie Larson,Jon Favreau         | 8.4 | Anthony Russo,Joe Russo | United States | Action    | 7.1 | 12,640 |\n",
       "| 4 | 2019-04-22 | Avengers: Endgame      | https://fmovies.to/film/avengers-endgame.xjm5v      | 2020-07-14 | 1 | Don Cheadle,Anthony Mackie,Rene Russo,Mark Ruffalo,Chris Hemsworth,Scarlett Johansson,Elizabeth Olsen,Tilda Swinton,Brie Larson,Jon Favreau         | 8.4 | Anthony Russo,Joe Russo | United States | Fantasy   | 7.1 | 12,640 |\n",
       "| 5 | 2018-04-23 | Avengers: Infinity War | https://fmovies.to/film/avengers-infinity-war.z12k2 | 2020-07-14 | 3 | William Hurt,Don Cheadle,Anthony Mackie,Benicio Del Toro,Gwyneth Paltrow,Mark Ruffalo,Chris Hemsworth,Idris Elba,Scarlett Johansson,Elizabeth Olsen | 8.5 | Anthony Russo,Joe Russo | United States | Sci-Fi    | 6.2 | 21,830 |\n",
       "| 6 | 2018-04-23 | Avengers: Infinity War | https://fmovies.to/film/avengers-infinity-war.z12k2 | 2020-07-14 | 3 | William Hurt,Don Cheadle,Anthony Mackie,Benicio Del Toro,Gwyneth Paltrow,Mark Ruffalo,Chris Hemsworth,Idris Elba,Scarlett Johansson,Elizabeth Olsen | 8.5 | Anthony Russo,Joe Russo | United States | Adventure | 6.2 | 21,830 |\n",
       "\n"
      ],
      "text/plain": [
       "  Date       MOVIE_NAME            \n",
       "1 2019-04-22 Avengers: Endgame     \n",
       "2 2019-04-22 Avengers: Endgame     \n",
       "3 2019-04-22 Avengers: Endgame     \n",
       "4 2019-04-22 Avengers: Endgame     \n",
       "5 2018-04-23 Avengers: Infinity War\n",
       "6 2018-04-23 Avengers: Infinity War\n",
       "  WATCH_LINK                                          DATE_ADDED SITE_RANK\n",
       "1 https://fmovies.to/film/avengers-endgame.xjm5v      2020-07-14 1        \n",
       "2 https://fmovies.to/film/avengers-endgame.xjm5v      2020-07-14 1        \n",
       "3 https://fmovies.to/film/avengers-endgame.xjm5v      2020-07-14 1        \n",
       "4 https://fmovies.to/film/avengers-endgame.xjm5v      2020-07-14 1        \n",
       "5 https://fmovies.to/film/avengers-infinity-war.z12k2 2020-07-14 3        \n",
       "6 https://fmovies.to/film/avengers-infinity-war.z12k2 2020-07-14 3        \n",
       "  STARS                                                                                                                                              \n",
       "1 Don Cheadle,Anthony Mackie,Rene Russo,Mark Ruffalo,Chris Hemsworth,Scarlett Johansson,Elizabeth Olsen,Tilda Swinton,Brie Larson,Jon Favreau        \n",
       "2 Don Cheadle,Anthony Mackie,Rene Russo,Mark Ruffalo,Chris Hemsworth,Scarlett Johansson,Elizabeth Olsen,Tilda Swinton,Brie Larson,Jon Favreau        \n",
       "3 Don Cheadle,Anthony Mackie,Rene Russo,Mark Ruffalo,Chris Hemsworth,Scarlett Johansson,Elizabeth Olsen,Tilda Swinton,Brie Larson,Jon Favreau        \n",
       "4 Don Cheadle,Anthony Mackie,Rene Russo,Mark Ruffalo,Chris Hemsworth,Scarlett Johansson,Elizabeth Olsen,Tilda Swinton,Brie Larson,Jon Favreau        \n",
       "5 William Hurt,Don Cheadle,Anthony Mackie,Benicio Del Toro,Gwyneth Paltrow,Mark Ruffalo,Chris Hemsworth,Idris Elba,Scarlett Johansson,Elizabeth Olsen\n",
       "6 William Hurt,Don Cheadle,Anthony Mackie,Benicio Del Toro,Gwyneth Paltrow,Mark Ruffalo,Chris Hemsworth,Idris Elba,Scarlett Johansson,Elizabeth Olsen\n",
       "  IMDB DIRECTOR                COUNTRY       GENRE     USER_REVIEWS_LOCAL\n",
       "1 8.4  Anthony Russo,Joe Russo United States Sci-Fi    7.1               \n",
       "2 8.4  Anthony Russo,Joe Russo United States Adventure 7.1               \n",
       "3 8.4  Anthony Russo,Joe Russo United States Action    7.1               \n",
       "4 8.4  Anthony Russo,Joe Russo United States Fantasy   7.1               \n",
       "5 8.5  Anthony Russo,Joe Russo United States Sci-Fi    6.2               \n",
       "6 8.5  Anthony Russo,Joe Russo United States Adventure 6.2               \n",
       "  NUMBER_REVIEWS_LOCAL\n",
       "1 12,640              \n",
       "2 12,640              \n",
       "3 12,640              \n",
       "4 12,640              \n",
       "5 21,830              \n",
       "6 21,830              "
      ]
     },
     "metadata": {},
     "output_type": "display_data"
    }
   ],
   "source": [
    "head(movie)"
   ]
  },
  {
   "cell_type": "markdown",
   "metadata": {},
   "source": [
    "## Merge Dataset ?"
   ]
  },
  {
   "cell_type": "code",
   "execution_count": 5,
   "metadata": {},
   "outputs": [],
   "source": [
    "# changed the coloumn headers as to look much more nicer and understandable\n",
    "movie<-movie %>% \n",
    "  rename(\n",
    "    MovieName = MOVIE_NAME,\n",
    "    WatchLink = WATCH_LINK,\n",
    "    DateAdded = DATE_ADDED,\n",
    "    SiteRank = SITE_RANK,\n",
    "    Stars = STARS,\n",
    "    Imdb = IMDB,\n",
    "    Director = DIRECTOR,\n",
    "    Country = COUNTRY,\n",
    "    Genre = GENRE,\n",
    "    LocalUserReviews = USER_REVIEWS_LOCAL,\n",
    "    NumberOfLocalReviews = NUMBER_REVIEWS_LOCAL\n",
    "    )"
   ]
  },
  {
   "cell_type": "code",
   "execution_count": 6,
   "metadata": {},
   "outputs": [],
   "source": [
    "# changing the variable types <chr> to <date> format\n",
    "movie$Date<-ymd(movie$Date)\n",
    "movie$DateAdded<-ymd(movie$DateAdded)"
   ]
  },
  {
   "cell_type": "code",
   "execution_count": 7,
   "metadata": {},
   "outputs": [
    {
     "name": "stdout",
     "output_type": "stream",
     "text": [
      "'data.frame':\t3788 obs. of  12 variables:\n",
      " $ Date                : Date, format: \"2019-04-22\" \"2019-04-22\" ...\n",
      " $ MovieName           : chr  \"Avengers: Endgame\" \"Avengers: Endgame\" \"Avengers: Endgame\" \"Avengers: Endgame\" ...\n",
      " $ WatchLink           : chr  \"https://fmovies.to/film/avengers-endgame.xjm5v\" \"https://fmovies.to/film/avengers-endgame.xjm5v\" \"https://fmovies.to/film/avengers-endgame.xjm5v\" \"https://fmovies.to/film/avengers-endgame.xjm5v\" ...\n",
      " $ DateAdded           : Date, format: \"2020-07-14\" \"2020-07-14\" ...\n",
      " $ SiteRank            : int  1 1 1 1 3 3 3 3 4 4 ...\n",
      " $ Stars               : chr  \"Don Cheadle,Anthony Mackie,Rene Russo,Mark Ruffalo,Chris Hemsworth,Scarlett Johansson,Elizabeth Olsen,Tilda Swi\"| __truncated__ \"Don Cheadle,Anthony Mackie,Rene Russo,Mark Ruffalo,Chris Hemsworth,Scarlett Johansson,Elizabeth Olsen,Tilda Swi\"| __truncated__ \"Don Cheadle,Anthony Mackie,Rene Russo,Mark Ruffalo,Chris Hemsworth,Scarlett Johansson,Elizabeth Olsen,Tilda Swi\"| __truncated__ \"Don Cheadle,Anthony Mackie,Rene Russo,Mark Ruffalo,Chris Hemsworth,Scarlett Johansson,Elizabeth Olsen,Tilda Swi\"| __truncated__ ...\n",
      " $ Imdb                : num  8.4 8.4 8.4 8.4 8.5 8.5 8.5 8.5 7 7 ...\n",
      " $ Director            : chr  \"Anthony Russo,Joe Russo\" \"Anthony Russo,Joe Russo\" \"Anthony Russo,Joe Russo\" \"Anthony Russo,Joe Russo\" ...\n",
      " $ Country             : chr  \"United States\" \"United States\" \"United States\" \"United States\" ...\n",
      " $ Genre               : chr  \"Sci-Fi\" \"Adventure\" \"Action\" \"Fantasy\" ...\n",
      " $ LocalUserReviews    : num  7.1 7.1 7.1 7.1 6.2 6.2 6.2 6.2 6.7 6.7 ...\n",
      " $ NumberOfLocalReviews: chr  \"12,640\" \"12,640\" \"12,640\" \"12,640\" ...\n"
     ]
    }
   ],
   "source": [
    "str(movie)"
   ]
  },
  {
   "cell_type": "code",
   "execution_count": 8,
   "metadata": {},
   "outputs": [
    {
     "data": {
      "text/html": [
       "<table class=\"dataframe\">\n",
       "<caption>A data.frame: 6 × 12</caption>\n",
       "<thead>\n",
       "\t<tr><th></th><th scope=col>Date</th><th scope=col>MovieName</th><th scope=col>WatchLink</th><th scope=col>DateAdded</th><th scope=col>SiteRank</th><th scope=col>Stars</th><th scope=col>Imdb</th><th scope=col>Director</th><th scope=col>Country</th><th scope=col>Genre</th><th scope=col>LocalUserReviews</th><th scope=col>NumberOfLocalReviews</th></tr>\n",
       "\t<tr><th></th><th scope=col>&lt;date&gt;</th><th scope=col>&lt;chr&gt;</th><th scope=col>&lt;chr&gt;</th><th scope=col>&lt;date&gt;</th><th scope=col>&lt;int&gt;</th><th scope=col>&lt;chr&gt;</th><th scope=col>&lt;dbl&gt;</th><th scope=col>&lt;chr&gt;</th><th scope=col>&lt;chr&gt;</th><th scope=col>&lt;chr&gt;</th><th scope=col>&lt;dbl&gt;</th><th scope=col>&lt;chr&gt;</th></tr>\n",
       "</thead>\n",
       "<tbody>\n",
       "\t<tr><th scope=row>1</th><td>2019-04-22</td><td>Avengers: Endgame     </td><td>https://fmovies.to/film/avengers-endgame.xjm5v     </td><td>2020-07-14</td><td>1</td><td>Don Cheadle,Anthony Mackie,Rene Russo,Mark Ruffalo,Chris Hemsworth,Scarlett Johansson,Elizabeth Olsen,Tilda Swinton,Brie Larson,Jon Favreau        </td><td>8.4</td><td>Anthony Russo,Joe Russo</td><td>United States</td><td>Sci-Fi   </td><td>7.1</td><td>12,640</td></tr>\n",
       "\t<tr><th scope=row>2</th><td>2019-04-22</td><td>Avengers: Endgame     </td><td>https://fmovies.to/film/avengers-endgame.xjm5v     </td><td>2020-07-14</td><td>1</td><td>Don Cheadle,Anthony Mackie,Rene Russo,Mark Ruffalo,Chris Hemsworth,Scarlett Johansson,Elizabeth Olsen,Tilda Swinton,Brie Larson,Jon Favreau        </td><td>8.4</td><td>Anthony Russo,Joe Russo</td><td>United States</td><td>Adventure</td><td>7.1</td><td>12,640</td></tr>\n",
       "\t<tr><th scope=row>3</th><td>2019-04-22</td><td>Avengers: Endgame     </td><td>https://fmovies.to/film/avengers-endgame.xjm5v     </td><td>2020-07-14</td><td>1</td><td>Don Cheadle,Anthony Mackie,Rene Russo,Mark Ruffalo,Chris Hemsworth,Scarlett Johansson,Elizabeth Olsen,Tilda Swinton,Brie Larson,Jon Favreau        </td><td>8.4</td><td>Anthony Russo,Joe Russo</td><td>United States</td><td>Action   </td><td>7.1</td><td>12,640</td></tr>\n",
       "\t<tr><th scope=row>4</th><td>2019-04-22</td><td>Avengers: Endgame     </td><td>https://fmovies.to/film/avengers-endgame.xjm5v     </td><td>2020-07-14</td><td>1</td><td>Don Cheadle,Anthony Mackie,Rene Russo,Mark Ruffalo,Chris Hemsworth,Scarlett Johansson,Elizabeth Olsen,Tilda Swinton,Brie Larson,Jon Favreau        </td><td>8.4</td><td>Anthony Russo,Joe Russo</td><td>United States</td><td>Fantasy  </td><td>7.1</td><td>12,640</td></tr>\n",
       "\t<tr><th scope=row>5</th><td>2018-04-23</td><td>Avengers: Infinity War</td><td>https://fmovies.to/film/avengers-infinity-war.z12k2</td><td>2020-07-14</td><td>3</td><td>William Hurt,Don Cheadle,Anthony Mackie,Benicio Del Toro,Gwyneth Paltrow,Mark Ruffalo,Chris Hemsworth,Idris Elba,Scarlett Johansson,Elizabeth Olsen</td><td>8.5</td><td>Anthony Russo,Joe Russo</td><td>United States</td><td>Sci-Fi   </td><td>6.2</td><td>21,830</td></tr>\n",
       "\t<tr><th scope=row>6</th><td>2018-04-23</td><td>Avengers: Infinity War</td><td>https://fmovies.to/film/avengers-infinity-war.z12k2</td><td>2020-07-14</td><td>3</td><td>William Hurt,Don Cheadle,Anthony Mackie,Benicio Del Toro,Gwyneth Paltrow,Mark Ruffalo,Chris Hemsworth,Idris Elba,Scarlett Johansson,Elizabeth Olsen</td><td>8.5</td><td>Anthony Russo,Joe Russo</td><td>United States</td><td>Adventure</td><td>6.2</td><td>21,830</td></tr>\n",
       "</tbody>\n",
       "</table>\n"
      ],
      "text/latex": [
       "A data.frame: 6 × 12\n",
       "\\begin{tabular}{r|llllllllllll}\n",
       "  & Date & MovieName & WatchLink & DateAdded & SiteRank & Stars & Imdb & Director & Country & Genre & LocalUserReviews & NumberOfLocalReviews\\\\\n",
       "  & <date> & <chr> & <chr> & <date> & <int> & <chr> & <dbl> & <chr> & <chr> & <chr> & <dbl> & <chr>\\\\\n",
       "\\hline\n",
       "\t1 & 2019-04-22 & Avengers: Endgame      & https://fmovies.to/film/avengers-endgame.xjm5v      & 2020-07-14 & 1 & Don Cheadle,Anthony Mackie,Rene Russo,Mark Ruffalo,Chris Hemsworth,Scarlett Johansson,Elizabeth Olsen,Tilda Swinton,Brie Larson,Jon Favreau         & 8.4 & Anthony Russo,Joe Russo & United States & Sci-Fi    & 7.1 & 12,640\\\\\n",
       "\t2 & 2019-04-22 & Avengers: Endgame      & https://fmovies.to/film/avengers-endgame.xjm5v      & 2020-07-14 & 1 & Don Cheadle,Anthony Mackie,Rene Russo,Mark Ruffalo,Chris Hemsworth,Scarlett Johansson,Elizabeth Olsen,Tilda Swinton,Brie Larson,Jon Favreau         & 8.4 & Anthony Russo,Joe Russo & United States & Adventure & 7.1 & 12,640\\\\\n",
       "\t3 & 2019-04-22 & Avengers: Endgame      & https://fmovies.to/film/avengers-endgame.xjm5v      & 2020-07-14 & 1 & Don Cheadle,Anthony Mackie,Rene Russo,Mark Ruffalo,Chris Hemsworth,Scarlett Johansson,Elizabeth Olsen,Tilda Swinton,Brie Larson,Jon Favreau         & 8.4 & Anthony Russo,Joe Russo & United States & Action    & 7.1 & 12,640\\\\\n",
       "\t4 & 2019-04-22 & Avengers: Endgame      & https://fmovies.to/film/avengers-endgame.xjm5v      & 2020-07-14 & 1 & Don Cheadle,Anthony Mackie,Rene Russo,Mark Ruffalo,Chris Hemsworth,Scarlett Johansson,Elizabeth Olsen,Tilda Swinton,Brie Larson,Jon Favreau         & 8.4 & Anthony Russo,Joe Russo & United States & Fantasy   & 7.1 & 12,640\\\\\n",
       "\t5 & 2018-04-23 & Avengers: Infinity War & https://fmovies.to/film/avengers-infinity-war.z12k2 & 2020-07-14 & 3 & William Hurt,Don Cheadle,Anthony Mackie,Benicio Del Toro,Gwyneth Paltrow,Mark Ruffalo,Chris Hemsworth,Idris Elba,Scarlett Johansson,Elizabeth Olsen & 8.5 & Anthony Russo,Joe Russo & United States & Sci-Fi    & 6.2 & 21,830\\\\\n",
       "\t6 & 2018-04-23 & Avengers: Infinity War & https://fmovies.to/film/avengers-infinity-war.z12k2 & 2020-07-14 & 3 & William Hurt,Don Cheadle,Anthony Mackie,Benicio Del Toro,Gwyneth Paltrow,Mark Ruffalo,Chris Hemsworth,Idris Elba,Scarlett Johansson,Elizabeth Olsen & 8.5 & Anthony Russo,Joe Russo & United States & Adventure & 6.2 & 21,830\\\\\n",
       "\\end{tabular}\n"
      ],
      "text/markdown": [
       "\n",
       "A data.frame: 6 × 12\n",
       "\n",
       "| <!--/--> | Date &lt;date&gt; | MovieName &lt;chr&gt; | WatchLink &lt;chr&gt; | DateAdded &lt;date&gt; | SiteRank &lt;int&gt; | Stars &lt;chr&gt; | Imdb &lt;dbl&gt; | Director &lt;chr&gt; | Country &lt;chr&gt; | Genre &lt;chr&gt; | LocalUserReviews &lt;dbl&gt; | NumberOfLocalReviews &lt;chr&gt; |\n",
       "|---|---|---|---|---|---|---|---|---|---|---|---|---|\n",
       "| 1 | 2019-04-22 | Avengers: Endgame      | https://fmovies.to/film/avengers-endgame.xjm5v      | 2020-07-14 | 1 | Don Cheadle,Anthony Mackie,Rene Russo,Mark Ruffalo,Chris Hemsworth,Scarlett Johansson,Elizabeth Olsen,Tilda Swinton,Brie Larson,Jon Favreau         | 8.4 | Anthony Russo,Joe Russo | United States | Sci-Fi    | 7.1 | 12,640 |\n",
       "| 2 | 2019-04-22 | Avengers: Endgame      | https://fmovies.to/film/avengers-endgame.xjm5v      | 2020-07-14 | 1 | Don Cheadle,Anthony Mackie,Rene Russo,Mark Ruffalo,Chris Hemsworth,Scarlett Johansson,Elizabeth Olsen,Tilda Swinton,Brie Larson,Jon Favreau         | 8.4 | Anthony Russo,Joe Russo | United States | Adventure | 7.1 | 12,640 |\n",
       "| 3 | 2019-04-22 | Avengers: Endgame      | https://fmovies.to/film/avengers-endgame.xjm5v      | 2020-07-14 | 1 | Don Cheadle,Anthony Mackie,Rene Russo,Mark Ruffalo,Chris Hemsworth,Scarlett Johansson,Elizabeth Olsen,Tilda Swinton,Brie Larson,Jon Favreau         | 8.4 | Anthony Russo,Joe Russo | United States | Action    | 7.1 | 12,640 |\n",
       "| 4 | 2019-04-22 | Avengers: Endgame      | https://fmovies.to/film/avengers-endgame.xjm5v      | 2020-07-14 | 1 | Don Cheadle,Anthony Mackie,Rene Russo,Mark Ruffalo,Chris Hemsworth,Scarlett Johansson,Elizabeth Olsen,Tilda Swinton,Brie Larson,Jon Favreau         | 8.4 | Anthony Russo,Joe Russo | United States | Fantasy   | 7.1 | 12,640 |\n",
       "| 5 | 2018-04-23 | Avengers: Infinity War | https://fmovies.to/film/avengers-infinity-war.z12k2 | 2020-07-14 | 3 | William Hurt,Don Cheadle,Anthony Mackie,Benicio Del Toro,Gwyneth Paltrow,Mark Ruffalo,Chris Hemsworth,Idris Elba,Scarlett Johansson,Elizabeth Olsen | 8.5 | Anthony Russo,Joe Russo | United States | Sci-Fi    | 6.2 | 21,830 |\n",
       "| 6 | 2018-04-23 | Avengers: Infinity War | https://fmovies.to/film/avengers-infinity-war.z12k2 | 2020-07-14 | 3 | William Hurt,Don Cheadle,Anthony Mackie,Benicio Del Toro,Gwyneth Paltrow,Mark Ruffalo,Chris Hemsworth,Idris Elba,Scarlett Johansson,Elizabeth Olsen | 8.5 | Anthony Russo,Joe Russo | United States | Adventure | 6.2 | 21,830 |\n",
       "\n"
      ],
      "text/plain": [
       "  Date       MovieName             \n",
       "1 2019-04-22 Avengers: Endgame     \n",
       "2 2019-04-22 Avengers: Endgame     \n",
       "3 2019-04-22 Avengers: Endgame     \n",
       "4 2019-04-22 Avengers: Endgame     \n",
       "5 2018-04-23 Avengers: Infinity War\n",
       "6 2018-04-23 Avengers: Infinity War\n",
       "  WatchLink                                           DateAdded  SiteRank\n",
       "1 https://fmovies.to/film/avengers-endgame.xjm5v      2020-07-14 1       \n",
       "2 https://fmovies.to/film/avengers-endgame.xjm5v      2020-07-14 1       \n",
       "3 https://fmovies.to/film/avengers-endgame.xjm5v      2020-07-14 1       \n",
       "4 https://fmovies.to/film/avengers-endgame.xjm5v      2020-07-14 1       \n",
       "5 https://fmovies.to/film/avengers-infinity-war.z12k2 2020-07-14 3       \n",
       "6 https://fmovies.to/film/avengers-infinity-war.z12k2 2020-07-14 3       \n",
       "  Stars                                                                                                                                              \n",
       "1 Don Cheadle,Anthony Mackie,Rene Russo,Mark Ruffalo,Chris Hemsworth,Scarlett Johansson,Elizabeth Olsen,Tilda Swinton,Brie Larson,Jon Favreau        \n",
       "2 Don Cheadle,Anthony Mackie,Rene Russo,Mark Ruffalo,Chris Hemsworth,Scarlett Johansson,Elizabeth Olsen,Tilda Swinton,Brie Larson,Jon Favreau        \n",
       "3 Don Cheadle,Anthony Mackie,Rene Russo,Mark Ruffalo,Chris Hemsworth,Scarlett Johansson,Elizabeth Olsen,Tilda Swinton,Brie Larson,Jon Favreau        \n",
       "4 Don Cheadle,Anthony Mackie,Rene Russo,Mark Ruffalo,Chris Hemsworth,Scarlett Johansson,Elizabeth Olsen,Tilda Swinton,Brie Larson,Jon Favreau        \n",
       "5 William Hurt,Don Cheadle,Anthony Mackie,Benicio Del Toro,Gwyneth Paltrow,Mark Ruffalo,Chris Hemsworth,Idris Elba,Scarlett Johansson,Elizabeth Olsen\n",
       "6 William Hurt,Don Cheadle,Anthony Mackie,Benicio Del Toro,Gwyneth Paltrow,Mark Ruffalo,Chris Hemsworth,Idris Elba,Scarlett Johansson,Elizabeth Olsen\n",
       "  Imdb Director                Country       Genre     LocalUserReviews\n",
       "1 8.4  Anthony Russo,Joe Russo United States Sci-Fi    7.1             \n",
       "2 8.4  Anthony Russo,Joe Russo United States Adventure 7.1             \n",
       "3 8.4  Anthony Russo,Joe Russo United States Action    7.1             \n",
       "4 8.4  Anthony Russo,Joe Russo United States Fantasy   7.1             \n",
       "5 8.5  Anthony Russo,Joe Russo United States Sci-Fi    6.2             \n",
       "6 8.5  Anthony Russo,Joe Russo United States Adventure 6.2             \n",
       "  NumberOfLocalReviews\n",
       "1 12,640              \n",
       "2 12,640              \n",
       "3 12,640              \n",
       "4 12,640              \n",
       "5 21,830              \n",
       "6 21,830              "
      ]
     },
     "metadata": {},
     "output_type": "display_data"
    }
   ],
   "source": [
    "head(movie)"
   ]
  },
  {
   "cell_type": "markdown",
   "metadata": {},
   "source": [
    "### Used for counting the missing values in the dataset \n"
   ]
  },
  {
   "cell_type": "code",
   "execution_count": 9,
   "metadata": {
    "scrolled": false
   },
   "outputs": [
    {
     "data": {
      "text/html": [
       "0"
      ],
      "text/latex": [
       "0"
      ],
      "text/markdown": [
       "0"
      ],
      "text/plain": [
       "[1] 0"
      ]
     },
     "metadata": {},
     "output_type": "display_data"
    }
   ],
   "source": [
    "# is.na(movie)\n",
    "sum(is.na(movie))"
   ]
  },
  {
   "cell_type": "code",
   "execution_count": 10,
   "metadata": {},
   "outputs": [
    {
     "data": {
      "text/html": [
       "<style>\n",
       ".list-inline {list-style: none; margin:0; padding: 0}\n",
       ".list-inline>li {display: inline-block}\n",
       ".list-inline>li:not(:last-child)::after {content: \"\\00b7\"; padding: 0 .5ex}\n",
       "</style>\n",
       "<ol class=list-inline><li>3788</li><li>12</li></ol>\n"
      ],
      "text/latex": [
       "\\begin{enumerate*}\n",
       "\\item 3788\n",
       "\\item 12\n",
       "\\end{enumerate*}\n"
      ],
      "text/markdown": [
       "1. 3788\n",
       "2. 12\n",
       "\n",
       "\n"
      ],
      "text/plain": [
       "[1] 3788   12"
      ]
     },
     "metadata": {},
     "output_type": "display_data"
    }
   ],
   "source": [
    "dim(movie)"
   ]
  },
  {
   "cell_type": "code",
   "execution_count": 11,
   "metadata": {},
   "outputs": [
    {
     "data": {
      "text/plain": [
       "      Date             MovieName          WatchLink        \n",
       " Min.   :1972-03-24   Length:3788        Length:3788       \n",
       " 1st Qu.:2014-03-21   Class :character   Class :character  \n",
       " Median :2017-08-08   Mode  :character   Mode  :character  \n",
       " Mean   :2014-12-05                                        \n",
       " 3rd Qu.:2019-01-31                                        \n",
       " Max.   :2020-07-03                                        \n",
       "   DateAdded             SiteRank         Stars                Imdb      \n",
       " Min.   :2020-07-14   Min.   :   1.0   Length:3788        Min.   :0.000  \n",
       " 1st Qu.:2020-07-14   1st Qu.: 361.0   Class :character   1st Qu.:6.000  \n",
       " Median :2020-07-14   Median : 738.0   Mode  :character   Median :6.800  \n",
       " Mean   :2020-07-14   Mean   : 764.6                      Mean   :6.671  \n",
       " 3rd Qu.:2020-07-14   3rd Qu.:1172.0                      3rd Qu.:7.500  \n",
       " Max.   :2020-07-14   Max.   :1600.0                      Max.   :9.400  \n",
       "   Director           Country             Genre           LocalUserReviews\n",
       " Length:3788        Length:3788        Length:3788        Min.   :4.500   \n",
       " Class :character   Class :character   Class :character   1st Qu.:6.300   \n",
       " Mode  :character   Mode  :character   Mode  :character   Median :6.700   \n",
       "                                                          Mean   :6.652   \n",
       "                                                          3rd Qu.:7.000   \n",
       "                                                          Max.   :8.300   \n",
       " NumberOfLocalReviews\n",
       " Length:3788         \n",
       " Class :character    \n",
       " Mode  :character    \n",
       "                     \n",
       "                     \n",
       "                     "
      ]
     },
     "metadata": {},
     "output_type": "display_data"
    }
   ],
   "source": [
    "summary(movie)"
   ]
  },
  {
   "cell_type": "markdown",
   "metadata": {},
   "source": [
    "## remove DateAdded column ^^"
   ]
  },
  {
   "cell_type": "code",
   "execution_count": 12,
   "metadata": {},
   "outputs": [
    {
     "data": {
      "text/html": [
       "<style>\n",
       ".list-inline {list-style: none; margin:0; padding: 0}\n",
       ".list-inline>li {display: inline-block}\n",
       ".list-inline>li:not(:last-child)::after {content: \"\\00b7\"; padding: 0 .5ex}\n",
       "</style>\n",
       "<ol class=list-inline><li>'Date'</li><li>'MovieName'</li><li>'WatchLink'</li><li>'DateAdded'</li><li>'SiteRank'</li><li>'Stars'</li><li>'Imdb'</li><li>'Director'</li><li>'Country'</li><li>'Genre'</li><li>'LocalUserReviews'</li><li>'NumberOfLocalReviews'</li></ol>\n"
      ],
      "text/latex": [
       "\\begin{enumerate*}\n",
       "\\item 'Date'\n",
       "\\item 'MovieName'\n",
       "\\item 'WatchLink'\n",
       "\\item 'DateAdded'\n",
       "\\item 'SiteRank'\n",
       "\\item 'Stars'\n",
       "\\item 'Imdb'\n",
       "\\item 'Director'\n",
       "\\item 'Country'\n",
       "\\item 'Genre'\n",
       "\\item 'LocalUserReviews'\n",
       "\\item 'NumberOfLocalReviews'\n",
       "\\end{enumerate*}\n"
      ],
      "text/markdown": [
       "1. 'Date'\n",
       "2. 'MovieName'\n",
       "3. 'WatchLink'\n",
       "4. 'DateAdded'\n",
       "5. 'SiteRank'\n",
       "6. 'Stars'\n",
       "7. 'Imdb'\n",
       "8. 'Director'\n",
       "9. 'Country'\n",
       "10. 'Genre'\n",
       "11. 'LocalUserReviews'\n",
       "12. 'NumberOfLocalReviews'\n",
       "\n",
       "\n"
      ],
      "text/plain": [
       " [1] \"Date\"                 \"MovieName\"            \"WatchLink\"           \n",
       " [4] \"DateAdded\"            \"SiteRank\"             \"Stars\"               \n",
       " [7] \"Imdb\"                 \"Director\"             \"Country\"             \n",
       "[10] \"Genre\"                \"LocalUserReviews\"     \"NumberOfLocalReviews\""
      ]
     },
     "metadata": {},
     "output_type": "display_data"
    }
   ],
   "source": [
    "names(movie)"
   ]
  },
  {
   "cell_type": "markdown",
   "metadata": {},
   "source": [
    " ## Generate some histograms"
   ]
  },
  {
   "cell_type": "code",
   "execution_count": 13,
   "metadata": {},
   "outputs": [],
   "source": [
    "# used it at the bottom\n",
    "# Histogram for Imdb ratings\n",
    "# ggplot(data=movie,aes(x=Imdb))+\n",
    "#     geom_histogram(binwidth=0.5)"
   ]
  },
  {
   "cell_type": "code",
   "execution_count": 14,
   "metadata": {},
   "outputs": [
    {
     "data": {
      "image/png": "[encoded data removed]",
      "text/plain": [
       "plot without title"
      ]
     },
     "metadata": {
      "image/png": {
       "height": 420,
       "width": 420
      }
     },
     "output_type": "display_data"
    }
   ],
   "source": [
    "# Histogram for Date or the year movie was released\n",
    "ggplot(data=movie,aes(x=Date))+\n",
    "    geom_histogram(binwidth=1)"
   ]
  },
  {
   "cell_type": "markdown",
   "metadata": {},
   "source": [
    "## Create a legend for displaying different genres like action, adventure,etc. ^^"
   ]
  },
  {
   "cell_type": "code",
   "execution_count": 15,
   "metadata": {},
   "outputs": [
    {
     "data": {
      "image/png": "[encoded data removed]",
      "text/plain": [
       "plot without title"
      ]
     },
     "metadata": {
      "image/png": {
       "height": 420,
       "width": 420
      }
     },
     "output_type": "display_data"
    }
   ],
   "source": [
    "ggplot(data=movie,aes(x=Date))+\n",
    "    geom_histogram(binwidth=1)+\n",
    "    geom_vline(xintercept=1972,col=3,lwd=1,alpha=1/2)"
   ]
  },
  {
   "cell_type": "code",
   "execution_count": 16,
   "metadata": {},
   "outputs": [
    {
     "data": {
      "image/png": "[encoded data removed]",
      "text/plain": [
       "plot without title"
      ]
     },
     "metadata": {
      "image/png": {
       "height": 420,
       "width": 420
      }
     },
     "output_type": "display_data"
    }
   ],
   "source": [
    "# comparison between Imdb ratings and user ratings\n",
    "movie %>% filter(LocalUserReviews < 8) %>%\n",
    "    ggplot(aes(x = Imdb, y = LocalUserReviews)) +\n",
    "    geom_point()"
   ]
  },
  {
   "cell_type": "code",
   "execution_count": 17,
   "metadata": {},
   "outputs": [
    {
     "name": "stderr",
     "output_type": "stream",
     "text": [
      "`geom_smooth()` using formula 'y ~ x'\n",
      "\n"
     ]
    },
    {
     "data": {
      "image/png": "[encoded data removed]",
      "text/plain": [
       "plot without title"
      ]
     },
     "metadata": {
      "image/png": {
       "height": 420,
       "width": 420
      }
     },
     "output_type": "display_data"
    }
   ],
   "source": [
    "# geom_smooth function to add a regression line (without confidence bands) to the plot\n",
    "movie %>% filter(LocalUserReviews < 8) %>%\n",
    "    ggplot(aes(x = Imdb, y = LocalUserReviews)) +\n",
    "    geom_point() +\n",
    "    geom_smooth(method = \"lm\", se = FALSE)"
   ]
  },
  {
   "cell_type": "code",
   "execution_count": 18,
   "metadata": {},
   "outputs": [
    {
     "data": {
      "image/png": "[encoded data removed]",
      "text/plain": [
       "plot without title"
      ]
     },
     "metadata": {
      "image/png": {
       "height": 420,
       "width": 420
      }
     },
     "output_type": "display_data"
    }
   ],
   "source": [
    "sp <- ggplot(movie, aes(x=Imdb, y=LocalUserReviews/Imdb)) + geom_point(shape=1)\n",
    "sp"
   ]
  },
  {
   "cell_type": "code",
   "execution_count": 19,
   "metadata": {},
   "outputs": [
    {
     "data": {
      "text/plain": [
       "NULL"
      ]
     },
     "metadata": {},
     "output_type": "display_data"
    }
   ],
   "source": [
    "levels(movie$Director)"
   ]
  },
  {
   "cell_type": "code",
   "execution_count": 20,
   "metadata": {},
   "outputs": [
    {
     "data": {
      "image/png": "[encoded data removed]",
      "text/plain": [
       "plot without title"
      ]
     },
     "metadata": {
      "image/png": {
       "height": 420,
       "width": 420
      }
     },
     "output_type": "display_data"
    }
   ],
   "source": [
    "# created a 6 table figure in order to check the results \n",
    "a <- head(movie)\n",
    "ggplot(a, aes(x = MovieName, y = Imdb)) + \n",
    "    geom_point(position = position_jitter(0.5))"
   ]
  },
  {
   "cell_type": "code",
   "execution_count": 21,
   "metadata": {},
   "outputs": [
    {
     "data": {
      "image/png": "[encoded data removed]",
      "text/plain": [
       "plot without title"
      ]
     },
     "metadata": {
      "image/png": {
       "height": 420,
       "width": 420
      }
     },
     "output_type": "display_data"
    }
   ],
   "source": [
    "# box plots\n",
    "ggplot(movie, aes(x = MovieName, y = Imdb)) + \n",
    "    geom_boxplot(varwidth=TRUE)"
   ]
  },
  {
   "cell_type": "code",
   "execution_count": 22,
   "metadata": {},
   "outputs": [
    {
     "data": {
      "image/png": "[encoded data removed]",
      "text/plain": [
       "plot without title"
      ]
     },
     "metadata": {
      "image/png": {
       "height": 420,
       "width": 420
      }
     },
     "output_type": "display_data"
    }
   ],
   "source": [
    "ggplot(data = movie, mapping = aes(x = Country, y = Imdb)) +\n",
    "  geom_boxplot() +\n",
    "  labs(x=NULL, y=\"Imdb ratings\") +\n",
    "  theme_bw()\n"
   ]
  },
  {
   "cell_type": "code",
   "execution_count": 23,
   "metadata": {},
   "outputs": [
    {
     "data": {
      "image/png": "[encoded data removed]",
      "text/plain": [
       "plot without title"
      ]
     },
     "metadata": {
      "image/png": {
       "height": 420,
       "width": 420
      }
     },
     "output_type": "display_data"
    }
   ],
   "source": [
    "ggplot(data = movie, mapping = aes(x = Country, y = Imdb)) +\n",
    "  geom_boxplot() +\n",
    "  labs(x=NULL, y=\"Imdb ratings\") +\n",
    "  coord_flip() +\n",
    "  theme_bw()\n"
   ]
  },
  {
   "cell_type": "code",
   "execution_count": 24,
   "metadata": {},
   "outputs": [
    {
     "data": {
      "text/html": [
       "3788"
      ],
      "text/latex": [
       "3788"
      ],
      "text/markdown": [
       "3788"
      ],
      "text/plain": [
       "[1] 3788"
      ]
     },
     "metadata": {},
     "output_type": "display_data"
    }
   ],
   "source": [
    "nrow(movie)"
   ]
  },
  {
   "cell_type": "code",
   "execution_count": 25,
   "metadata": {},
   "outputs": [
    {
     "data": {
      "text/plain": [
       "NULL"
      ]
     },
     "metadata": {},
     "output_type": "display_data"
    }
   ],
   "source": [
    "levels(movie$d)"
   ]
  },
  {
   "cell_type": "code",
   "execution_count": 26,
   "metadata": {},
   "outputs": [],
   "source": [
    "# ggplot(data=movie,aes(x=Imdb))+\n",
    "#     geom_histogram(binwidth=10,color='blue',aes(fill=Genre)"
   ]
  },
  {
   "cell_type": "code",
   "execution_count": 27,
   "metadata": {},
   "outputs": [
    {
     "data": {
      "image/png": "[encoded data removed]",
      "text/plain": [
       "plot without title"
      ]
     },
     "metadata": {
      "image/png": {
       "height": 420,
       "width": 420
      }
     },
     "output_type": "display_data"
    }
   ],
   "source": [
    "# genre mapping\n",
    "ggplot(data=movie,aes(x=Imdb))+\n",
    "  geom_histogram(binwidth=1,color='black',aes(fill=Genre))\n"
   ]
  },
  {
   "cell_type": "code",
   "execution_count": 28,
   "metadata": {},
   "outputs": [
    {
     "data": {
      "image/png": "[encoded data removed]",
      "text/plain": [
       "plot without title"
      ]
     },
     "metadata": {
      "image/png": {
       "height": 420,
       "width": 420
      }
     },
     "output_type": "display_data"
    }
   ],
   "source": [
    "# histograms with facet grid\n",
    "ggplot(data=movie,aes(x=Imdb))+\n",
    "  geom_histogram(binwidth=10,color='black',aes(fill=Genre))+\n",
    "  facet_grid(Genre~.,scales='free')\n"
   ]
  },
  {
   "cell_type": "code",
   "execution_count": 29,
   "metadata": {},
   "outputs": [
    {
     "data": {
      "image/png": "[encoded data removed]",
      "text/plain": [
       "plot without title"
      ]
     },
     "metadata": {
      "image/png": {
       "height": 420,
       "width": 420
      }
     },
     "output_type": "display_data"
    }
   ],
   "source": [
    "#Using facet grid to divide the graph according to genre\n",
    "ggplot(data=movie,aes(x=LocalUserReviews,y=Imdb))+geom_point(color='red',size=3)+\n",
    "  facet_grid(.~Genre)\n"
   ]
  },
  {
   "cell_type": "code",
   "execution_count": 30,
   "metadata": {},
   "outputs": [
    {
     "name": "stderr",
     "output_type": "stream",
     "text": [
      "Warning message:\n",
      "\"Ignoring unknown parameters: stack\"\n"
     ]
    },
    {
     "data": {
      "image/png": "[encoded data removed]",
      "text/plain": [
       "plot without title"
      ]
     },
     "metadata": {
      "image/png": {
       "height": 420,
       "width": 420
      }
     },
     "output_type": "display_data"
    }
   ],
   "source": [
    "# density graph\n",
    "d <- ggplot(data=movie,aes(x=Imdb))+\n",
    "  geom_density(color='black',stack=1,aes(fill=Genre))\n",
    "d\n"
   ]
  },
  {
   "cell_type": "code",
   "execution_count": null,
   "metadata": {},
   "outputs": [],
   "source": []
  },
  {
   "cell_type": "code",
   "execution_count": 31,
   "metadata": {},
   "outputs": [
    {
     "data": {
      "text/html": [
       "<style>\n",
       ".list-inline {list-style: none; margin:0; padding: 0}\n",
       ".list-inline>li {display: inline-block}\n",
       ".list-inline>li:not(:last-child)::after {content: \"\\00b7\"; padding: 0 .5ex}\n",
       "</style>\n",
       "<ol class=list-inline><li>'Sci-Fi'</li><li>'Adventure'</li><li>'Action'</li><li>'Fantasy'</li><li>'Sci-Fi'</li><li>'Adventure'</li><li>'Action'</li><li>'Fantasy'</li><li>'Sci-Fi'</li><li>'Adventure'</li><li>'Action'</li><li>'Fantasy'</li><li>'Sci-Fi'</li><li>'Adventure'</li><li>'Action'</li><li>'Comedy'</li><li>'Adventure'</li><li>'Romance'</li><li>'Fantasy'</li><li>'Family'</li><li>'Sci-Fi'</li><li>'Adventure'</li><li>'Action'</li><li>'Drama'</li><li>'Animation'</li><li>'Adventure'</li><li>'Family'</li><li>'Adventure'</li><li>'Action'</li><li>'Thriller'</li><li>'Sci-Fi'</li><li>'Action'</li><li>'Horror'</li><li>'Thriller'</li><li>'Action'</li><li>'Crime'</li><li>'Comedy'</li><li>'Sci-Fi'</li><li>'Adventure'</li><li>'Action'</li><li>'Drama'</li><li>'Thriller'</li><li>'Crime'</li><li>'Comedy'</li><li>'Adventure'</li><li>'Action'</li><li>'Fantasy'</li><li>'Comedy'</li><li>'Sci-Fi'</li><li>'Adventure'</li><li>'Action'</li><li>'Animation'</li><li>'Comedy'</li><li>'Adventure'</li><li>'Fantasy'</li><li>'Family'</li><li>'Sci-Fi'</li><li>'Adventure'</li><li>'Action'</li><li>'Animation'</li><li>'Comedy'</li><li>'Sci-Fi'</li><li>'Adventure'</li><li>'Action'</li><li>'Family'</li><li>'Animation'</li><li>'Comedy'</li><li>'Sci-Fi'</li><li>'Adventure'</li><li>'Action'</li><li>'Family'</li><li>'Comedy'</li><li>'Adventure'</li><li>'Action'</li><li>'Fantasy'</li><li>'Sci-Fi'</li><li>'Adventure'</li><li>'Action'</li><li>'Fantasy'</li><li>'Sci-Fi'</li><li>'Adventure'</li><li>'Action'</li><li>'Fantasy'</li><li>'Thriller'</li><li>'Sci-Fi'</li><li>'Adventure'</li><li>'Romance'</li><li>'Action'</li><li>'Sci-Fi'</li><li>'Adventure'</li><li>'Action'</li><li>'Drama'</li><li>'Thriller'</li><li>'Sci-Fi'</li><li>'Mystery'</li><li>'Sci-Fi'</li><li>'Adventure'</li><li>'Action'</li><li>'Sci-Fi'</li><li>'Adventure'</li><li>'Action'</li><li>'Comedy'</li><li>'Sci-Fi'</li><li>'Adventure'</li><li>'Action'</li><li>'Thriller'</li><li>'Horror'</li><li>'Horror'</li><li>'Animation'</li><li>'Comedy'</li><li>'Adventure'</li><li>'Fantasy'</li><li>'Family'</li><li>'Sci-Fi'</li><li>'Adventure'</li><li>'Action'</li><li>'Drama'</li><li>'Thriller'</li><li>'Romance'</li><li>'Sci-Fi'</li><li>'Adventure'</li><li>'Action'</li><li>'Fantasy'</li><li>'Horror'</li><li>'Sci-Fi'</li><li>'Adventure'</li><li>'Action'</li><li>'Animation'</li><li>'Comedy'</li><li>'Adventure'</li><li>'Action'</li><li>'Fantasy'</li><li>'Family'</li><li>'Drama'</li><li>'Sport'</li><li>'Thriller'</li><li>'Action'</li><li>'Crime'</li><li>'Animation'</li><li>'Comedy'</li><li>'Sci-Fi'</li><li>'Adventure'</li><li>'Action'</li><li>'Fantasy'</li><li>'Animation'</li><li>'Comedy'</li><li>'Adventure'</li><li>'Family'</li><li>'Action'</li><li>'Comedy'</li><li>'Thriller'</li><li>'Sci-Fi'</li><li>'Action'</li><li>'Horror'</li><li>'Drama'</li><li>'History'</li><li>'Comedy'</li><li>'Adventure'</li><li>'Action'</li><li>'Fantasy'</li><li>'Adventure'</li><li>'Fantasy'</li><li>'Family'</li><li>'Thriller'</li><li>'Sci-Fi'</li><li>'Adventure'</li><li>'Action'</li><li>'Comedy'</li><li>'Action'</li><li>'Crime'</li><li>'Comedy'</li><li>'Sci-Fi'</li><li>'Adventure'</li><li>'Action'</li><li>'Family'</li><li>'Mystery'</li><li>'Sci-Fi'</li><li>'Adventure'</li><li>'Action'</li><li>'Thriller'</li><li>'Adventure'</li><li>'Action'</li><li>'Drama'</li><li>'Music'</li><li>'Biography'</li><li>'Drama'</li><li>'Horror'</li><li>'Thriller'</li><li>'Action'</li><li>'Crime'</li><li>'Drama'</li><li>'Comedy'</li><li>'Sci-Fi'</li><li>'Action'</li><li>'Crime'</li><li>'Comedy'</li><li>'Romance'</li><li>'Fantasy'</li><li>'Animation'</li><li>'Comedy'</li><li>...</li><li>'Drama'</li><li>'Comedy'</li><li>'Family'</li><li>'Drama'</li><li>'Thriller'</li><li>'Drama'</li><li>'Thriller'</li><li>'Crime'</li><li>'Mystery'</li><li>'Drama'</li><li>'Thriller'</li><li>'Sci-Fi'</li><li>'Sci-Fi'</li><li>'Horror'</li><li>'Drama'</li><li>'Horror'</li><li>'Animation'</li><li>'Comedy'</li><li>'Adventure'</li><li>'Drama'</li><li>'Thriller'</li><li>'Adventure'</li><li>'Action'</li><li>'History'</li><li>'Biography'</li><li>'Comedy'</li><li>'Fantasy'</li><li>'Drama'</li><li>'Sci-Fi'</li><li>'Crime'</li><li>'Drama'</li><li>'Thriller'</li><li>'Crime'</li><li>'Comedy'</li><li>'Romance'</li><li>'Drama'</li><li>'Comedy'</li><li>'Romance'</li><li>'Family'</li><li>'Music'</li><li>'Thriller'</li><li>'Horror'</li><li>'Thriller'</li><li>'Animation'</li><li>'Adventure'</li><li>'Action'</li><li>'Fantasy'</li><li>'Family'</li><li>'Drama'</li><li>'Sport'</li><li>'Animation'</li><li>'Comedy'</li><li>'Reality-TV'</li><li>'Thriller'</li><li>'Mystery'</li><li>'Horror'</li><li>'Animation'</li><li>'Comedy'</li><li>'Adventure'</li><li>'Family'</li><li>'Comedy'</li><li>'Fantasy'</li><li>'Family'</li><li>'Drama'</li><li>'Drama'</li><li>'Romance'</li><li>'Drama'</li><li>'Thriller'</li><li>'Crime'</li><li>'Mystery'</li><li>'Adventure'</li><li>'Fantasy'</li><li>'Drama'</li><li>'Comedy'</li><li>'History'</li><li>'Documentary'</li><li>'Drama'</li><li>'Comedy'</li><li>'Romance'</li><li>'Thriller'</li><li>'Action'</li><li>'Sci-Fi'</li><li>'Adventure'</li><li>'Action'</li><li>'Drama'</li><li>'Thriller'</li><li>'Comedy'</li><li>'Horror'</li><li>'Drama'</li><li>'Romance'</li><li>'Fantasy'</li><li>'Family'</li><li>'Drama'</li><li>'Thriller'</li><li>'Drama'</li><li>'Thriller'</li><li>'Action'</li><li>'Drama'</li><li>'Thriller'</li><li>'Sci-Fi'</li><li>'Mystery'</li><li>'Action'</li><li>'Drama'</li><li>'Thriller'</li><li>'Action'</li><li>'Crime'</li><li>'Mystery'</li><li>'Drama'</li><li>'Comedy'</li><li>'Romance'</li><li>'Thriller'</li><li>'Adventure'</li><li>'Action'</li><li>'Comedy'</li><li>'Crime'</li><li>'Mystery'</li><li>'Animation'</li><li>'Adventure'</li><li>'Action'</li><li>'Drama'</li><li>'Drama'</li><li>'Romance'</li><li>'History'</li><li>'War'</li><li>'Drama'</li><li>'Thriller'</li><li>'Action'</li><li>'War'</li><li>'Action'</li><li>'History'</li><li>'War'</li><li>'Horror'</li><li>'Animation'</li><li>'Comedy'</li><li>'Adventure'</li><li>'Fantasy'</li><li>'Family'</li><li>'Adventure'</li><li>'Action'</li><li>'Fantasy'</li><li>'Action'</li><li>'Drama'</li><li>'Sci-Fi'</li><li>'Romance'</li><li>'Action'</li><li>'Drama'</li><li>'Thriller'</li><li>'Action'</li><li>'Crime'</li><li>'Thriller'</li><li>'Comedy'</li><li>'Drama'</li><li>'Comedy'</li><li>'Family'</li><li>'Drama'</li><li>'Action'</li><li>'Drama'</li><li>'Animation'</li><li>'Comedy'</li><li>'Adventure'</li><li>'Fantasy'</li><li>'Comedy'</li><li>'Adventure'</li><li>'Action'</li><li>'Drama'</li><li>'Comedy'</li><li>'Romance'</li><li>'Comedy'</li><li>'Romance'</li><li>'Thriller'</li><li>'Drama'</li><li>'Action'</li><li>'Horror'</li><li>'Comedy'</li><li>'Romance'</li><li>'Family'</li><li>'Comedy'</li><li>'Thriller'</li><li>'Action'</li><li>'Drama'</li><li>'Crime'</li><li>'Action'</li><li>'Drama'</li><li>'Action'</li><li>'Sport'</li><li>'Thriller'</li><li>'Action'</li><li>'Crime'</li><li>'Thriller'</li><li>'Action'</li><li>'Crime'</li><li>'Fantasy'</li><li>'Thriller'</li><li>'Comedy'</li><li>'Action'</li><li>'Drama'</li><li>'Mystery'</li><li>'Drama'</li><li>'Comedy'</li><li>'Romance'</li></ol>\n"
      ],
      "text/latex": [
       "\\begin{enumerate*}\n",
       "\\item 'Sci-Fi'\n",
       "\\item 'Adventure'\n",
       "\\item 'Action'\n",
       "\\item 'Fantasy'\n",
       "\\item 'Sci-Fi'\n",
       "\\item 'Adventure'\n",
       "\\item 'Action'\n",
       "\\item 'Fantasy'\n",
       "\\item 'Sci-Fi'\n",
       "\\item 'Adventure'\n",
       "\\item 'Action'\n",
       "\\item 'Fantasy'\n",
       "\\item 'Sci-Fi'\n",
       "\\item 'Adventure'\n",
       "\\item 'Action'\n",
       "\\item 'Comedy'\n",
       "\\item 'Adventure'\n",
       "\\item 'Romance'\n",
       "\\item 'Fantasy'\n",
       "\\item 'Family'\n",
       "\\item 'Sci-Fi'\n",
       "\\item 'Adventure'\n",
       "\\item 'Action'\n",
       "\\item 'Drama'\n",
       "\\item 'Animation'\n",
       "\\item 'Adventure'\n",
       "\\item 'Family'\n",
       "\\item 'Adventure'\n",
       "\\item 'Action'\n",
       "\\item 'Thriller'\n",
       "\\item 'Sci-Fi'\n",
       "\\item 'Action'\n",
       "\\item 'Horror'\n",
       "\\item 'Thriller'\n",
       "\\item 'Action'\n",
       "\\item 'Crime'\n",
       "\\item 'Comedy'\n",
       "\\item 'Sci-Fi'\n",
       "\\item 'Adventure'\n",
       "\\item 'Action'\n",
       "\\item 'Drama'\n",
       "\\item 'Thriller'\n",
       "\\item 'Crime'\n",
       "\\item 'Comedy'\n",
       "\\item 'Adventure'\n",
       "\\item 'Action'\n",
       "\\item 'Fantasy'\n",
       "\\item 'Comedy'\n",
       "\\item 'Sci-Fi'\n",
       "\\item 'Adventure'\n",
       "\\item 'Action'\n",
       "\\item 'Animation'\n",
       "\\item 'Comedy'\n",
       "\\item 'Adventure'\n",
       "\\item 'Fantasy'\n",
       "\\item 'Family'\n",
       "\\item 'Sci-Fi'\n",
       "\\item 'Adventure'\n",
       "\\item 'Action'\n",
       "\\item 'Animation'\n",
       "\\item 'Comedy'\n",
       "\\item 'Sci-Fi'\n",
       "\\item 'Adventure'\n",
       "\\item 'Action'\n",
       "\\item 'Family'\n",
       "\\item 'Animation'\n",
       "\\item 'Comedy'\n",
       "\\item 'Sci-Fi'\n",
       "\\item 'Adventure'\n",
       "\\item 'Action'\n",
       "\\item 'Family'\n",
       "\\item 'Comedy'\n",
       "\\item 'Adventure'\n",
       "\\item 'Action'\n",
       "\\item 'Fantasy'\n",
       "\\item 'Sci-Fi'\n",
       "\\item 'Adventure'\n",
       "\\item 'Action'\n",
       "\\item 'Fantasy'\n",
       "\\item 'Sci-Fi'\n",
       "\\item 'Adventure'\n",
       "\\item 'Action'\n",
       "\\item 'Fantasy'\n",
       "\\item 'Thriller'\n",
       "\\item 'Sci-Fi'\n",
       "\\item 'Adventure'\n",
       "\\item 'Romance'\n",
       "\\item 'Action'\n",
       "\\item 'Sci-Fi'\n",
       "\\item 'Adventure'\n",
       "\\item 'Action'\n",
       "\\item 'Drama'\n",
       "\\item 'Thriller'\n",
       "\\item 'Sci-Fi'\n",
       "\\item 'Mystery'\n",
       "\\item 'Sci-Fi'\n",
       "\\item 'Adventure'\n",
       "\\item 'Action'\n",
       "\\item 'Sci-Fi'\n",
       "\\item 'Adventure'\n",
       "\\item 'Action'\n",
       "\\item 'Comedy'\n",
       "\\item 'Sci-Fi'\n",
       "\\item 'Adventure'\n",
       "\\item 'Action'\n",
       "\\item 'Thriller'\n",
       "\\item 'Horror'\n",
       "\\item 'Horror'\n",
       "\\item 'Animation'\n",
       "\\item 'Comedy'\n",
       "\\item 'Adventure'\n",
       "\\item 'Fantasy'\n",
       "\\item 'Family'\n",
       "\\item 'Sci-Fi'\n",
       "\\item 'Adventure'\n",
       "\\item 'Action'\n",
       "\\item 'Drama'\n",
       "\\item 'Thriller'\n",
       "\\item 'Romance'\n",
       "\\item 'Sci-Fi'\n",
       "\\item 'Adventure'\n",
       "\\item 'Action'\n",
       "\\item 'Fantasy'\n",
       "\\item 'Horror'\n",
       "\\item 'Sci-Fi'\n",
       "\\item 'Adventure'\n",
       "\\item 'Action'\n",
       "\\item 'Animation'\n",
       "\\item 'Comedy'\n",
       "\\item 'Adventure'\n",
       "\\item 'Action'\n",
       "\\item 'Fantasy'\n",
       "\\item 'Family'\n",
       "\\item 'Drama'\n",
       "\\item 'Sport'\n",
       "\\item 'Thriller'\n",
       "\\item 'Action'\n",
       "\\item 'Crime'\n",
       "\\item 'Animation'\n",
       "\\item 'Comedy'\n",
       "\\item 'Sci-Fi'\n",
       "\\item 'Adventure'\n",
       "\\item 'Action'\n",
       "\\item 'Fantasy'\n",
       "\\item 'Animation'\n",
       "\\item 'Comedy'\n",
       "\\item 'Adventure'\n",
       "\\item 'Family'\n",
       "\\item 'Action'\n",
       "\\item 'Comedy'\n",
       "\\item 'Thriller'\n",
       "\\item 'Sci-Fi'\n",
       "\\item 'Action'\n",
       "\\item 'Horror'\n",
       "\\item 'Drama'\n",
       "\\item 'History'\n",
       "\\item 'Comedy'\n",
       "\\item 'Adventure'\n",
       "\\item 'Action'\n",
       "\\item 'Fantasy'\n",
       "\\item 'Adventure'\n",
       "\\item 'Fantasy'\n",
       "\\item 'Family'\n",
       "\\item 'Thriller'\n",
       "\\item 'Sci-Fi'\n",
       "\\item 'Adventure'\n",
       "\\item 'Action'\n",
       "\\item 'Comedy'\n",
       "\\item 'Action'\n",
       "\\item 'Crime'\n",
       "\\item 'Comedy'\n",
       "\\item 'Sci-Fi'\n",
       "\\item 'Adventure'\n",
       "\\item 'Action'\n",
       "\\item 'Family'\n",
       "\\item 'Mystery'\n",
       "\\item 'Sci-Fi'\n",
       "\\item 'Adventure'\n",
       "\\item 'Action'\n",
       "\\item 'Thriller'\n",
       "\\item 'Adventure'\n",
       "\\item 'Action'\n",
       "\\item 'Drama'\n",
       "\\item 'Music'\n",
       "\\item 'Biography'\n",
       "\\item 'Drama'\n",
       "\\item 'Horror'\n",
       "\\item 'Thriller'\n",
       "\\item 'Action'\n",
       "\\item 'Crime'\n",
       "\\item 'Drama'\n",
       "\\item 'Comedy'\n",
       "\\item 'Sci-Fi'\n",
       "\\item 'Action'\n",
       "\\item 'Crime'\n",
       "\\item 'Comedy'\n",
       "\\item 'Romance'\n",
       "\\item 'Fantasy'\n",
       "\\item 'Animation'\n",
       "\\item 'Comedy'\n",
       "\\item ...\n",
       "\\item 'Drama'\n",
       "\\item 'Comedy'\n",
       "\\item 'Family'\n",
       "\\item 'Drama'\n",
       "\\item 'Thriller'\n",
       "\\item 'Drama'\n",
       "\\item 'Thriller'\n",
       "\\item 'Crime'\n",
       "\\item 'Mystery'\n",
       "\\item 'Drama'\n",
       "\\item 'Thriller'\n",
       "\\item 'Sci-Fi'\n",
       "\\item 'Sci-Fi'\n",
       "\\item 'Horror'\n",
       "\\item 'Drama'\n",
       "\\item 'Horror'\n",
       "\\item 'Animation'\n",
       "\\item 'Comedy'\n",
       "\\item 'Adventure'\n",
       "\\item 'Drama'\n",
       "\\item 'Thriller'\n",
       "\\item 'Adventure'\n",
       "\\item 'Action'\n",
       "\\item 'History'\n",
       "\\item 'Biography'\n",
       "\\item 'Comedy'\n",
       "\\item 'Fantasy'\n",
       "\\item 'Drama'\n",
       "\\item 'Sci-Fi'\n",
       "\\item 'Crime'\n",
       "\\item 'Drama'\n",
       "\\item 'Thriller'\n",
       "\\item 'Crime'\n",
       "\\item 'Comedy'\n",
       "\\item 'Romance'\n",
       "\\item 'Drama'\n",
       "\\item 'Comedy'\n",
       "\\item 'Romance'\n",
       "\\item 'Family'\n",
       "\\item 'Music'\n",
       "\\item 'Thriller'\n",
       "\\item 'Horror'\n",
       "\\item 'Thriller'\n",
       "\\item 'Animation'\n",
       "\\item 'Adventure'\n",
       "\\item 'Action'\n",
       "\\item 'Fantasy'\n",
       "\\item 'Family'\n",
       "\\item 'Drama'\n",
       "\\item 'Sport'\n",
       "\\item 'Animation'\n",
       "\\item 'Comedy'\n",
       "\\item 'Reality-TV'\n",
       "\\item 'Thriller'\n",
       "\\item 'Mystery'\n",
       "\\item 'Horror'\n",
       "\\item 'Animation'\n",
       "\\item 'Comedy'\n",
       "\\item 'Adventure'\n",
       "\\item 'Family'\n",
       "\\item 'Comedy'\n",
       "\\item 'Fantasy'\n",
       "\\item 'Family'\n",
       "\\item 'Drama'\n",
       "\\item 'Drama'\n",
       "\\item 'Romance'\n",
       "\\item 'Drama'\n",
       "\\item 'Thriller'\n",
       "\\item 'Crime'\n",
       "\\item 'Mystery'\n",
       "\\item 'Adventure'\n",
       "\\item 'Fantasy'\n",
       "\\item 'Drama'\n",
       "\\item 'Comedy'\n",
       "\\item 'History'\n",
       "\\item 'Documentary'\n",
       "\\item 'Drama'\n",
       "\\item 'Comedy'\n",
       "\\item 'Romance'\n",
       "\\item 'Thriller'\n",
       "\\item 'Action'\n",
       "\\item 'Sci-Fi'\n",
       "\\item 'Adventure'\n",
       "\\item 'Action'\n",
       "\\item 'Drama'\n",
       "\\item 'Thriller'\n",
       "\\item 'Comedy'\n",
       "\\item 'Horror'\n",
       "\\item 'Drama'\n",
       "\\item 'Romance'\n",
       "\\item 'Fantasy'\n",
       "\\item 'Family'\n",
       "\\item 'Drama'\n",
       "\\item 'Thriller'\n",
       "\\item 'Drama'\n",
       "\\item 'Thriller'\n",
       "\\item 'Action'\n",
       "\\item 'Drama'\n",
       "\\item 'Thriller'\n",
       "\\item 'Sci-Fi'\n",
       "\\item 'Mystery'\n",
       "\\item 'Action'\n",
       "\\item 'Drama'\n",
       "\\item 'Thriller'\n",
       "\\item 'Action'\n",
       "\\item 'Crime'\n",
       "\\item 'Mystery'\n",
       "\\item 'Drama'\n",
       "\\item 'Comedy'\n",
       "\\item 'Romance'\n",
       "\\item 'Thriller'\n",
       "\\item 'Adventure'\n",
       "\\item 'Action'\n",
       "\\item 'Comedy'\n",
       "\\item 'Crime'\n",
       "\\item 'Mystery'\n",
       "\\item 'Animation'\n",
       "\\item 'Adventure'\n",
       "\\item 'Action'\n",
       "\\item 'Drama'\n",
       "\\item 'Drama'\n",
       "\\item 'Romance'\n",
       "\\item 'History'\n",
       "\\item 'War'\n",
       "\\item 'Drama'\n",
       "\\item 'Thriller'\n",
       "\\item 'Action'\n",
       "\\item 'War'\n",
       "\\item 'Action'\n",
       "\\item 'History'\n",
       "\\item 'War'\n",
       "\\item 'Horror'\n",
       "\\item 'Animation'\n",
       "\\item 'Comedy'\n",
       "\\item 'Adventure'\n",
       "\\item 'Fantasy'\n",
       "\\item 'Family'\n",
       "\\item 'Adventure'\n",
       "\\item 'Action'\n",
       "\\item 'Fantasy'\n",
       "\\item 'Action'\n",
       "\\item 'Drama'\n",
       "\\item 'Sci-Fi'\n",
       "\\item 'Romance'\n",
       "\\item 'Action'\n",
       "\\item 'Drama'\n",
       "\\item 'Thriller'\n",
       "\\item 'Action'\n",
       "\\item 'Crime'\n",
       "\\item 'Thriller'\n",
       "\\item 'Comedy'\n",
       "\\item 'Drama'\n",
       "\\item 'Comedy'\n",
       "\\item 'Family'\n",
       "\\item 'Drama'\n",
       "\\item 'Action'\n",
       "\\item 'Drama'\n",
       "\\item 'Animation'\n",
       "\\item 'Comedy'\n",
       "\\item 'Adventure'\n",
       "\\item 'Fantasy'\n",
       "\\item 'Comedy'\n",
       "\\item 'Adventure'\n",
       "\\item 'Action'\n",
       "\\item 'Drama'\n",
       "\\item 'Comedy'\n",
       "\\item 'Romance'\n",
       "\\item 'Comedy'\n",
       "\\item 'Romance'\n",
       "\\item 'Thriller'\n",
       "\\item 'Drama'\n",
       "\\item 'Action'\n",
       "\\item 'Horror'\n",
       "\\item 'Comedy'\n",
       "\\item 'Romance'\n",
       "\\item 'Family'\n",
       "\\item 'Comedy'\n",
       "\\item 'Thriller'\n",
       "\\item 'Action'\n",
       "\\item 'Drama'\n",
       "\\item 'Crime'\n",
       "\\item 'Action'\n",
       "\\item 'Drama'\n",
       "\\item 'Action'\n",
       "\\item 'Sport'\n",
       "\\item 'Thriller'\n",
       "\\item 'Action'\n",
       "\\item 'Crime'\n",
       "\\item 'Thriller'\n",
       "\\item 'Action'\n",
       "\\item 'Crime'\n",
       "\\item 'Fantasy'\n",
       "\\item 'Thriller'\n",
       "\\item 'Comedy'\n",
       "\\item 'Action'\n",
       "\\item 'Drama'\n",
       "\\item 'Mystery'\n",
       "\\item 'Drama'\n",
       "\\item 'Comedy'\n",
       "\\item 'Romance'\n",
       "\\end{enumerate*}\n"
      ],
      "text/markdown": [
       "1. 'Sci-Fi'\n",
       "2. 'Adventure'\n",
       "3. 'Action'\n",
       "4. 'Fantasy'\n",
       "5. 'Sci-Fi'\n",
       "6. 'Adventure'\n",
       "7. 'Action'\n",
       "8. 'Fantasy'\n",
       "9. 'Sci-Fi'\n",
       "10. 'Adventure'\n",
       "11. 'Action'\n",
       "12. 'Fantasy'\n",
       "13. 'Sci-Fi'\n",
       "14. 'Adventure'\n",
       "15. 'Action'\n",
       "16. 'Comedy'\n",
       "17. 'Adventure'\n",
       "18. 'Romance'\n",
       "19. 'Fantasy'\n",
       "20. 'Family'\n",
       "21. 'Sci-Fi'\n",
       "22. 'Adventure'\n",
       "23. 'Action'\n",
       "24. 'Drama'\n",
       "25. 'Animation'\n",
       "26. 'Adventure'\n",
       "27. 'Family'\n",
       "28. 'Adventure'\n",
       "29. 'Action'\n",
       "30. 'Thriller'\n",
       "31. 'Sci-Fi'\n",
       "32. 'Action'\n",
       "33. 'Horror'\n",
       "34. 'Thriller'\n",
       "35. 'Action'\n",
       "36. 'Crime'\n",
       "37. 'Comedy'\n",
       "38. 'Sci-Fi'\n",
       "39. 'Adventure'\n",
       "40. 'Action'\n",
       "41. 'Drama'\n",
       "42. 'Thriller'\n",
       "43. 'Crime'\n",
       "44. 'Comedy'\n",
       "45. 'Adventure'\n",
       "46. 'Action'\n",
       "47. 'Fantasy'\n",
       "48. 'Comedy'\n",
       "49. 'Sci-Fi'\n",
       "50. 'Adventure'\n",
       "51. 'Action'\n",
       "52. 'Animation'\n",
       "53. 'Comedy'\n",
       "54. 'Adventure'\n",
       "55. 'Fantasy'\n",
       "56. 'Family'\n",
       "57. 'Sci-Fi'\n",
       "58. 'Adventure'\n",
       "59. 'Action'\n",
       "60. 'Animation'\n",
       "61. 'Comedy'\n",
       "62. 'Sci-Fi'\n",
       "63. 'Adventure'\n",
       "64. 'Action'\n",
       "65. 'Family'\n",
       "66. 'Animation'\n",
       "67. 'Comedy'\n",
       "68. 'Sci-Fi'\n",
       "69. 'Adventure'\n",
       "70. 'Action'\n",
       "71. 'Family'\n",
       "72. 'Comedy'\n",
       "73. 'Adventure'\n",
       "74. 'Action'\n",
       "75. 'Fantasy'\n",
       "76. 'Sci-Fi'\n",
       "77. 'Adventure'\n",
       "78. 'Action'\n",
       "79. 'Fantasy'\n",
       "80. 'Sci-Fi'\n",
       "81. 'Adventure'\n",
       "82. 'Action'\n",
       "83. 'Fantasy'\n",
       "84. 'Thriller'\n",
       "85. 'Sci-Fi'\n",
       "86. 'Adventure'\n",
       "87. 'Romance'\n",
       "88. 'Action'\n",
       "89. 'Sci-Fi'\n",
       "90. 'Adventure'\n",
       "91. 'Action'\n",
       "92. 'Drama'\n",
       "93. 'Thriller'\n",
       "94. 'Sci-Fi'\n",
       "95. 'Mystery'\n",
       "96. 'Sci-Fi'\n",
       "97. 'Adventure'\n",
       "98. 'Action'\n",
       "99. 'Sci-Fi'\n",
       "100. 'Adventure'\n",
       "101. 'Action'\n",
       "102. 'Comedy'\n",
       "103. 'Sci-Fi'\n",
       "104. 'Adventure'\n",
       "105. 'Action'\n",
       "106. 'Thriller'\n",
       "107. 'Horror'\n",
       "108. 'Horror'\n",
       "109. 'Animation'\n",
       "110. 'Comedy'\n",
       "111. 'Adventure'\n",
       "112. 'Fantasy'\n",
       "113. 'Family'\n",
       "114. 'Sci-Fi'\n",
       "115. 'Adventure'\n",
       "116. 'Action'\n",
       "117. 'Drama'\n",
       "118. 'Thriller'\n",
       "119. 'Romance'\n",
       "120. 'Sci-Fi'\n",
       "121. 'Adventure'\n",
       "122. 'Action'\n",
       "123. 'Fantasy'\n",
       "124. 'Horror'\n",
       "125. 'Sci-Fi'\n",
       "126. 'Adventure'\n",
       "127. 'Action'\n",
       "128. 'Animation'\n",
       "129. 'Comedy'\n",
       "130. 'Adventure'\n",
       "131. 'Action'\n",
       "132. 'Fantasy'\n",
       "133. 'Family'\n",
       "134. 'Drama'\n",
       "135. 'Sport'\n",
       "136. 'Thriller'\n",
       "137. 'Action'\n",
       "138. 'Crime'\n",
       "139. 'Animation'\n",
       "140. 'Comedy'\n",
       "141. 'Sci-Fi'\n",
       "142. 'Adventure'\n",
       "143. 'Action'\n",
       "144. 'Fantasy'\n",
       "145. 'Animation'\n",
       "146. 'Comedy'\n",
       "147. 'Adventure'\n",
       "148. 'Family'\n",
       "149. 'Action'\n",
       "150. 'Comedy'\n",
       "151. 'Thriller'\n",
       "152. 'Sci-Fi'\n",
       "153. 'Action'\n",
       "154. 'Horror'\n",
       "155. 'Drama'\n",
       "156. 'History'\n",
       "157. 'Comedy'\n",
       "158. 'Adventure'\n",
       "159. 'Action'\n",
       "160. 'Fantasy'\n",
       "161. 'Adventure'\n",
       "162. 'Fantasy'\n",
       "163. 'Family'\n",
       "164. 'Thriller'\n",
       "165. 'Sci-Fi'\n",
       "166. 'Adventure'\n",
       "167. 'Action'\n",
       "168. 'Comedy'\n",
       "169. 'Action'\n",
       "170. 'Crime'\n",
       "171. 'Comedy'\n",
       "172. 'Sci-Fi'\n",
       "173. 'Adventure'\n",
       "174. 'Action'\n",
       "175. 'Family'\n",
       "176. 'Mystery'\n",
       "177. 'Sci-Fi'\n",
       "178. 'Adventure'\n",
       "179. 'Action'\n",
       "180. 'Thriller'\n",
       "181. 'Adventure'\n",
       "182. 'Action'\n",
       "183. 'Drama'\n",
       "184. 'Music'\n",
       "185. 'Biography'\n",
       "186. 'Drama'\n",
       "187. 'Horror'\n",
       "188. 'Thriller'\n",
       "189. 'Action'\n",
       "190. 'Crime'\n",
       "191. 'Drama'\n",
       "192. 'Comedy'\n",
       "193. 'Sci-Fi'\n",
       "194. 'Action'\n",
       "195. 'Crime'\n",
       "196. 'Comedy'\n",
       "197. 'Romance'\n",
       "198. 'Fantasy'\n",
       "199. 'Animation'\n",
       "200. 'Comedy'\n",
       "201. ...\n",
       "202. 'Drama'\n",
       "203. 'Comedy'\n",
       "204. 'Family'\n",
       "205. 'Drama'\n",
       "206. 'Thriller'\n",
       "207. 'Drama'\n",
       "208. 'Thriller'\n",
       "209. 'Crime'\n",
       "210. 'Mystery'\n",
       "211. 'Drama'\n",
       "212. 'Thriller'\n",
       "213. 'Sci-Fi'\n",
       "214. 'Sci-Fi'\n",
       "215. 'Horror'\n",
       "216. 'Drama'\n",
       "217. 'Horror'\n",
       "218. 'Animation'\n",
       "219. 'Comedy'\n",
       "220. 'Adventure'\n",
       "221. 'Drama'\n",
       "222. 'Thriller'\n",
       "223. 'Adventure'\n",
       "224. 'Action'\n",
       "225. 'History'\n",
       "226. 'Biography'\n",
       "227. 'Comedy'\n",
       "228. 'Fantasy'\n",
       "229. 'Drama'\n",
       "230. 'Sci-Fi'\n",
       "231. 'Crime'\n",
       "232. 'Drama'\n",
       "233. 'Thriller'\n",
       "234. 'Crime'\n",
       "235. 'Comedy'\n",
       "236. 'Romance'\n",
       "237. 'Drama'\n",
       "238. 'Comedy'\n",
       "239. 'Romance'\n",
       "240. 'Family'\n",
       "241. 'Music'\n",
       "242. 'Thriller'\n",
       "243. 'Horror'\n",
       "244. 'Thriller'\n",
       "245. 'Animation'\n",
       "246. 'Adventure'\n",
       "247. 'Action'\n",
       "248. 'Fantasy'\n",
       "249. 'Family'\n",
       "250. 'Drama'\n",
       "251. 'Sport'\n",
       "252. 'Animation'\n",
       "253. 'Comedy'\n",
       "254. 'Reality-TV'\n",
       "255. 'Thriller'\n",
       "256. 'Mystery'\n",
       "257. 'Horror'\n",
       "258. 'Animation'\n",
       "259. 'Comedy'\n",
       "260. 'Adventure'\n",
       "261. 'Family'\n",
       "262. 'Comedy'\n",
       "263. 'Fantasy'\n",
       "264. 'Family'\n",
       "265. 'Drama'\n",
       "266. 'Drama'\n",
       "267. 'Romance'\n",
       "268. 'Drama'\n",
       "269. 'Thriller'\n",
       "270. 'Crime'\n",
       "271. 'Mystery'\n",
       "272. 'Adventure'\n",
       "273. 'Fantasy'\n",
       "274. 'Drama'\n",
       "275. 'Comedy'\n",
       "276. 'History'\n",
       "277. 'Documentary'\n",
       "278. 'Drama'\n",
       "279. 'Comedy'\n",
       "280. 'Romance'\n",
       "281. 'Thriller'\n",
       "282. 'Action'\n",
       "283. 'Sci-Fi'\n",
       "284. 'Adventure'\n",
       "285. 'Action'\n",
       "286. 'Drama'\n",
       "287. 'Thriller'\n",
       "288. 'Comedy'\n",
       "289. 'Horror'\n",
       "290. 'Drama'\n",
       "291. 'Romance'\n",
       "292. 'Fantasy'\n",
       "293. 'Family'\n",
       "294. 'Drama'\n",
       "295. 'Thriller'\n",
       "296. 'Drama'\n",
       "297. 'Thriller'\n",
       "298. 'Action'\n",
       "299. 'Drama'\n",
       "300. 'Thriller'\n",
       "301. 'Sci-Fi'\n",
       "302. 'Mystery'\n",
       "303. 'Action'\n",
       "304. 'Drama'\n",
       "305. 'Thriller'\n",
       "306. 'Action'\n",
       "307. 'Crime'\n",
       "308. 'Mystery'\n",
       "309. 'Drama'\n",
       "310. 'Comedy'\n",
       "311. 'Romance'\n",
       "312. 'Thriller'\n",
       "313. 'Adventure'\n",
       "314. 'Action'\n",
       "315. 'Comedy'\n",
       "316. 'Crime'\n",
       "317. 'Mystery'\n",
       "318. 'Animation'\n",
       "319. 'Adventure'\n",
       "320. 'Action'\n",
       "321. 'Drama'\n",
       "322. 'Drama'\n",
       "323. 'Romance'\n",
       "324. 'History'\n",
       "325. 'War'\n",
       "326. 'Drama'\n",
       "327. 'Thriller'\n",
       "328. 'Action'\n",
       "329. 'War'\n",
       "330. 'Action'\n",
       "331. 'History'\n",
       "332. 'War'\n",
       "333. 'Horror'\n",
       "334. 'Animation'\n",
       "335. 'Comedy'\n",
       "336. 'Adventure'\n",
       "337. 'Fantasy'\n",
       "338. 'Family'\n",
       "339. 'Adventure'\n",
       "340. 'Action'\n",
       "341. 'Fantasy'\n",
       "342. 'Action'\n",
       "343. 'Drama'\n",
       "344. 'Sci-Fi'\n",
       "345. 'Romance'\n",
       "346. 'Action'\n",
       "347. 'Drama'\n",
       "348. 'Thriller'\n",
       "349. 'Action'\n",
       "350. 'Crime'\n",
       "351. 'Thriller'\n",
       "352. 'Comedy'\n",
       "353. 'Drama'\n",
       "354. 'Comedy'\n",
       "355. 'Family'\n",
       "356. 'Drama'\n",
       "357. 'Action'\n",
       "358. 'Drama'\n",
       "359. 'Animation'\n",
       "360. 'Comedy'\n",
       "361. 'Adventure'\n",
       "362. 'Fantasy'\n",
       "363. 'Comedy'\n",
       "364. 'Adventure'\n",
       "365. 'Action'\n",
       "366. 'Drama'\n",
       "367. 'Comedy'\n",
       "368. 'Romance'\n",
       "369. 'Comedy'\n",
       "370. 'Romance'\n",
       "371. 'Thriller'\n",
       "372. 'Drama'\n",
       "373. 'Action'\n",
       "374. 'Horror'\n",
       "375. 'Comedy'\n",
       "376. 'Romance'\n",
       "377. 'Family'\n",
       "378. 'Comedy'\n",
       "379. 'Thriller'\n",
       "380. 'Action'\n",
       "381. 'Drama'\n",
       "382. 'Crime'\n",
       "383. 'Action'\n",
       "384. 'Drama'\n",
       "385. 'Action'\n",
       "386. 'Sport'\n",
       "387. 'Thriller'\n",
       "388. 'Action'\n",
       "389. 'Crime'\n",
       "390. 'Thriller'\n",
       "391. 'Action'\n",
       "392. 'Crime'\n",
       "393. 'Fantasy'\n",
       "394. 'Thriller'\n",
       "395. 'Comedy'\n",
       "396. 'Action'\n",
       "397. 'Drama'\n",
       "398. 'Mystery'\n",
       "399. 'Drama'\n",
       "400. 'Comedy'\n",
       "401. 'Romance'\n",
       "\n",
       "\n"
      ],
      "text/plain": [
       "   [1] \"Sci-Fi\"      \"Adventure\"   \"Action\"      \"Fantasy\"     \"Sci-Fi\"     \n",
       "   [6] \"Adventure\"   \"Action\"      \"Fantasy\"     \"Sci-Fi\"      \"Adventure\"  \n",
       "  [11] \"Action\"      \"Fantasy\"     \"Sci-Fi\"      \"Adventure\"   \"Action\"     \n",
       "  [16] \"Comedy\"      \"Adventure\"   \"Romance\"     \"Fantasy\"     \"Family\"     \n",
       "  [21] \"Sci-Fi\"      \"Adventure\"   \"Action\"      \"Drama\"       \"Animation\"  \n",
       "  [26] \"Adventure\"   \"Family\"      \"Adventure\"   \"Action\"      \"Thriller\"   \n",
       "  [31] \"Sci-Fi\"      \"Action\"      \"Horror\"      \"Thriller\"    \"Action\"     \n",
       "  [36] \"Crime\"       \"Comedy\"      \"Sci-Fi\"      \"Adventure\"   \"Action\"     \n",
       "  [41] \"Drama\"       \"Thriller\"    \"Crime\"       \"Comedy\"      \"Adventure\"  \n",
       "  [46] \"Action\"      \"Fantasy\"     \"Comedy\"      \"Sci-Fi\"      \"Adventure\"  \n",
       "  [51] \"Action\"      \"Animation\"   \"Comedy\"      \"Adventure\"   \"Fantasy\"    \n",
       "  [56] \"Family\"      \"Sci-Fi\"      \"Adventure\"   \"Action\"      \"Animation\"  \n",
       "  [61] \"Comedy\"      \"Sci-Fi\"      \"Adventure\"   \"Action\"      \"Family\"     \n",
       "  [66] \"Animation\"   \"Comedy\"      \"Sci-Fi\"      \"Adventure\"   \"Action\"     \n",
       "  [71] \"Family\"      \"Comedy\"      \"Adventure\"   \"Action\"      \"Fantasy\"    \n",
       "  [76] \"Sci-Fi\"      \"Adventure\"   \"Action\"      \"Fantasy\"     \"Sci-Fi\"     \n",
       "  [81] \"Adventure\"   \"Action\"      \"Fantasy\"     \"Thriller\"    \"Sci-Fi\"     \n",
       "  [86] \"Adventure\"   \"Romance\"     \"Action\"      \"Sci-Fi\"      \"Adventure\"  \n",
       "  [91] \"Action\"      \"Drama\"       \"Thriller\"    \"Sci-Fi\"      \"Mystery\"    \n",
       "  [96] \"Sci-Fi\"      \"Adventure\"   \"Action\"      \"Sci-Fi\"      \"Adventure\"  \n",
       " [101] \"Action\"      \"Comedy\"      \"Sci-Fi\"      \"Adventure\"   \"Action\"     \n",
       " [106] \"Thriller\"    \"Horror\"      \"Horror\"      \"Animation\"   \"Comedy\"     \n",
       " [111] \"Adventure\"   \"Fantasy\"     \"Family\"      \"Sci-Fi\"      \"Adventure\"  \n",
       " [116] \"Action\"      \"Drama\"       \"Thriller\"    \"Romance\"     \"Sci-Fi\"     \n",
       " [121] \"Adventure\"   \"Action\"      \"Fantasy\"     \"Horror\"      \"Sci-Fi\"     \n",
       " [126] \"Adventure\"   \"Action\"      \"Animation\"   \"Comedy\"      \"Adventure\"  \n",
       " [131] \"Action\"      \"Fantasy\"     \"Family\"      \"Drama\"       \"Sport\"      \n",
       " [136] \"Thriller\"    \"Action\"      \"Crime\"       \"Animation\"   \"Comedy\"     \n",
       " [141] \"Sci-Fi\"      \"Adventure\"   \"Action\"      \"Fantasy\"     \"Animation\"  \n",
       " [146] \"Comedy\"      \"Adventure\"   \"Family\"      \"Action\"      \"Comedy\"     \n",
       " [151] \"Thriller\"    \"Sci-Fi\"      \"Action\"      \"Horror\"      \"Drama\"      \n",
       " [156] \"History\"     \"Comedy\"      \"Adventure\"   \"Action\"      \"Fantasy\"    \n",
       " [161] \"Adventure\"   \"Fantasy\"     \"Family\"      \"Thriller\"    \"Sci-Fi\"     \n",
       " [166] \"Adventure\"   \"Action\"      \"Comedy\"      \"Action\"      \"Crime\"      \n",
       " [171] \"Comedy\"      \"Sci-Fi\"      \"Adventure\"   \"Action\"      \"Family\"     \n",
       " [176] \"Mystery\"     \"Sci-Fi\"      \"Adventure\"   \"Action\"      \"Thriller\"   \n",
       " [181] \"Adventure\"   \"Action\"      \"Drama\"       \"Music\"       \"Biography\"  \n",
       " [186] \"Drama\"       \"Horror\"      \"Thriller\"    \"Action\"      \"Crime\"      \n",
       " [191] \"Drama\"       \"Comedy\"      \"Sci-Fi\"      \"Action\"      \"Crime\"      \n",
       " [196] \"Comedy\"      \"Romance\"     \"Fantasy\"     \"Animation\"   \"Comedy\"     \n",
       " [201] \"Adventure\"   \"Fantasy\"     \"Family\"      \"Thriller\"    \"Sci-Fi\"     \n",
       " [206] \"Adventure\"   \"Action\"      \"Horror\"      \"Thriller\"    \"Mystery\"    \n",
       " [211] \"Horror\"      \"Drama\"       \"Thriller\"    \"Action\"      \"Crime\"      \n",
       " [216] \"Sci-Fi\"      \"Adventure\"   \"Action\"      \"Drama\"       \"Thriller\"   \n",
       " [221] \"Sci-Fi\"      \"Action\"      \"Thriller\"    \"Mystery\"     \"Horror\"     \n",
       " [226] \"Drama\"       \"Romance\"     \"Thriller\"    \"Comedy\"      \"Sci-Fi\"     \n",
       " [231] \"Adventure\"   \"Action\"      \"Crime\"       \"Thriller\"    \"Horror\"     \n",
       " [236] \"Thriller\"    \"Comedy\"      \"Action\"      \"Crime\"       \"Drama\"      \n",
       " [241] \"Romance\"     \"Thriller\"    \"Adventure\"   \"Action\"      \"Comedy\"     \n",
       " [246] \"Adventure\"   \"Fantasy\"     \"Family\"      \"Sci-Fi\"      \"Adventure\"  \n",
       " [251] \"Action\"      \"Thriller\"    \"Adventure\"   \"Action\"      \"Horror\"     \n",
       " [256] \"Thriller\"    \"Adventure\"   \"Action\"      \"Western\"     \"Drama\"      \n",
       " [261] \"Romance\"     \"Fantasy\"     \"Family\"      \"Sci-Fi\"      \"Adventure\"  \n",
       " [266] \"Action\"      \"Drama\"       \"Comedy\"      \"Thriller\"    \"Action\"     \n",
       " [271] \"Comedy\"      \"Adventure\"   \"Action\"      \"Animation\"   \"Comedy\"     \n",
       " [276] \"Fantasy\"     \"Family\"      \"Animation\"   \"Comedy\"      \"Fantasy\"    \n",
       " [281] \"Family\"      \"Adventure\"   \"Fantasy\"     \"Family\"      \"Thriller\"   \n",
       " [286] \"Sci-Fi\"      \"Action\"      \"Thriller\"    \"Sci-Fi\"      \"Adventure\"  \n",
       " [291] \"Action\"      \"Fantasy\"     \"Animation\"   \"Comedy\"      \"Adventure\"  \n",
       " [296] \"Fantasy\"     \"Family\"      \"Mystery\"     \"Comedy\"      \"Drama\"      \n",
       " [301] \"Romance\"     \"Music\"       \"Comedy\"      \"Romance\"     \"Horror\"     \n",
       " [306] \"Sci-Fi\"      \"Adventure\"   \"Action\"      \"Fantasy\"     \"Drama\"      \n",
       " [311] \"Adventure\"   \"Action\"      \"Fantasy\"     \"Drama\"       \"Comedy\"     \n",
       " [316] \"Crime\"       \"Biography\"   \"Drama\"       \"Thriller\"    \"Crime\"      \n",
       " [321] \"Thriller\"    \"Horror\"      \"Comedy\"      \"Romance\"     \"Drama\"      \n",
       " [326] \"Thriller\"    \"Comedy\"      \"Crime\"       \"Thriller\"    \"Sci-Fi\"     \n",
       " [331] \"Adventure\"   \"Action\"      \"Fantasy\"     \"Thriller\"    \"Horror\"     \n",
       " [336] \"Sci-Fi\"      \"Adventure\"   \"Action\"      \"Sci-Fi\"      \"Adventure\"  \n",
       " [341] \"Action\"      \"Animation\"   \"Comedy\"      \"Adventure\"   \"Fantasy\"    \n",
       " [346] \"Family\"      \"Thriller\"    \"Comedy\"      \"Action\"      \"Crime\"      \n",
       " [351] \"Drama\"       \"Comedy\"      \"Drama\"       \"Sci-Fi\"      \"Action\"     \n",
       " [356] \"Animation\"   \"Action\"      \"Fantasy\"     \"Sci-Fi\"      \"Adventure\"  \n",
       " [361] \"Action\"      \"Fantasy\"     \"Drama\"       \"Biography\"   \"Sci-Fi\"     \n",
       " [366] \"Adventure\"   \"Action\"      \"Drama\"       \"Comedy\"      \"Comedy\"     \n",
       " [371] \"Action\"      \"Horror\"      \"Adventure\"   \"Action\"      \"Drama\"      \n",
       " [376] \"Thriller\"    \"Comedy\"      \"Drama\"       \"Thriller\"    \"Action\"     \n",
       " [381] \"Drama\"       \"Thriller\"    \"Mystery\"     \"Horror\"      \"Comedy\"     \n",
       " [386] \"Romance\"     \"Fantasy\"     \"Drama\"       \"Thriller\"    \"Horror\"     \n",
       " [391] \"Drama\"       \"Thriller\"    \"Sci-Fi\"      \"Mystery\"     \"Adventure\"  \n",
       " [396] \"Action\"      \"Crime\"       \"Thriller\"    \"Action\"      \"Comedy\"     \n",
       " [401] \"Adventure\"   \"Drama\"       \"Thriller\"    \"Sci-Fi\"      \"Horror\"     \n",
       " [406] \"Drama\"       \"Romance\"     \"Sci-Fi\"      \"Adventure\"   \"Action\"     \n",
       " [411] \"Fantasy\"     \"Drama\"       \"Adventure\"   \"Family\"      \"Thriller\"   \n",
       " [416] \"Action\"      \"Animation\"   \"Comedy\"      \"Adventure\"   \"Family\"     \n",
       " [421] \"Adventure\"   \"Fantasy\"     \"Family\"      \"Thriller\"    \"Comedy\"     \n",
       " [426] \"Action\"      \"Thriller\"    \"Action\"      \"Sci-Fi\"      \"Adventure\"  \n",
       " [431] \"Action\"      \"Family\"      \"Thriller\"    \"Mystery\"     \"Horror\"     \n",
       " [436] \"Comedy\"      \"Adventure\"   \"Action\"      \"Thriller\"    \"Sci-Fi\"     \n",
       " [441] \"Drama\"       \"Thriller\"    \"Action\"      \"Crime\"       \"Comedy\"     \n",
       " [446] \"Thriller\"    \"Sci-Fi\"      \"Action\"      \"Horror\"      \"Adventure\"  \n",
       " [451] \"Family\"      \"Drama\"       \"Action\"      \"Fantasy\"     \"Mystery\"    \n",
       " [456] \"Drama\"       \"Crime\"       \"Horror\"      \"Sci-Fi\"      \"Adventure\"  \n",
       " [461] \"Action\"      \"Fantasy\"     \"Drama\"       \"Romance\"     \"Thriller\"   \n",
       " [466] \"Action\"      \"Thriller\"    \"Action\"      \"Comedy\"      \"Comedy\"     \n",
       " [471] \"Crime\"       \"Comedy\"      \"Fantasy\"     \"Family\"      \"Sci-Fi\"     \n",
       " [476] \"Adventure\"   \"Action\"      \"Comedy\"      \"Romance\"     \"Fantasy\"    \n",
       " [481] \"Drama\"       \"Action\"      \"Sport\"       \"Biography\"   \"Animation\"  \n",
       " [486] \"Comedy\"      \"Adventure\"   \"Family\"      \"Sci-Fi\"      \"Adventure\"  \n",
       " [491] \"Action\"      \"Comedy\"      \"Music\"       \"Thriller\"    \"Comedy\"     \n",
       " [496] \"Sci-Fi\"      \"Fantasy\"     \"Family\"      \"Mystery\"     \"Horror\"     \n",
       " [501] \"Thriller\"    \"Mystery\"     \"Horror\"      \"Animation\"   \"Comedy\"     \n",
       " [506] \"Adventure\"   \"Fantasy\"     \"Family\"      \"Drama\"       \"War\"        \n",
       " [511] \"Thriller\"    \"Mystery\"     \"Horror\"      \"Adventure\"   \"Fantasy\"    \n",
       " [516] \"Family\"      \"Sci-Fi\"      \"Adventure\"   \"Action\"      \"Drama\"      \n",
       " [521] \"Thriller\"    \"Comedy\"      \"Crime\"       \"Mystery\"     \"Adventure\"  \n",
       " [526] \"Fantasy\"     \"Family\"      \"Animation\"   \"Comedy\"      \"Family\"     \n",
       " [531] \"Thriller\"    \"Horror\"      \"Thriller\"    \"Mystery\"     \"Horror\"     \n",
       " [536] \"Drama\"       \"Thriller\"    \"Action\"      \"Sci-Fi\"      \"Adventure\"  \n",
       " [541] \"Action\"      \"Fantasy\"     \"War\"         \"Drama\"       \"Music\"      \n",
       " [546] \"Biography\"   \"Drama\"       \"Thriller\"    \"Action\"      \"Drama\"      \n",
       " [551] \"Thriller\"    \"Action\"      \"Crime\"       \"Mystery\"     \"Adventure\"  \n",
       " [556] \"Fantasy\"     \"Family\"      \"Comedy\"      \"Romance\"     \"Fantasy\"    \n",
       " [561] \"Music\"       \"Drama\"       \"Thriller\"    \"Crime\"       \"Drama\"      \n",
       " [566] \"Crime\"       \"Drama\"       \"Romance\"     \"Sci-Fi\"      \"Adventure\"  \n",
       " [571] \"Action\"      \"Sci-Fi\"      \"Adventure\"   \"Action\"      \"Comedy\"     \n",
       " [576] \"Adventure\"   \"Fantasy\"     \"Family\"      \"Drama\"       \"Comedy\"     \n",
       " [581] \"Sport\"       \"Biography\"   \"Comedy\"      \"Sport\"       \"Animation\"  \n",
       " [586] \"Comedy\"      \"Adventure\"   \"Action\"      \"Fantasy\"     \"Family\"     \n",
       " [591] \"Comedy\"      \"Sci-Fi\"      \"Adventure\"   \"Action\"      \"Drama\"      \n",
       " [596] \"Thriller\"    \"Mystery\"     \"Horror\"      \"Drama\"       \"Action\"     \n",
       " [601] \"History\"     \"War\"         \"Thriller\"    \"Sci-Fi\"      \"Action\"     \n",
       " [606] \"Horror\"      \"Drama\"       \"Crime\"       \"Drama\"       \"Romance\"    \n",
       " [611] \"Drama\"       \"Thriller\"    \"Adventure\"   \"Horror\"      \"Thriller\"   \n",
       " [616] \"Sci-Fi\"      \"Action\"      \"Thriller\"    \"Action\"      \"Crime\"      \n",
       " [621] \"Adventure\"   \"Fantasy\"     \"Family\"      \"Drama\"       \"Thriller\"   \n",
       " [626] \"Action\"      \"Crime\"       \"Mystery\"     \"Drama\"       \"Sci-Fi\"     \n",
       " [631] \"Adventure\"   \"Action\"      \"Crime\"       \"Thriller\"    \"Comedy\"     \n",
       " [636] \"Action\"      \"Crime\"       \"Animation\"   \"Comedy\"      \"Adventure\"  \n",
       " [641] \"Fantasy\"     \"Family\"      \"Horror\"      \"Drama\"       \"Thriller\"   \n",
       " [646] \"Adventure\"   \"Action\"      \"Crime\"       \"Sci-Fi\"      \"Action\"     \n",
       " [651] \"War\"         \"Mystery\"     \"Horror\"      \"Sci-Fi\"      \"Adventure\"  \n",
       " [656] \"Action\"      \"Drama\"       \"Sci-Fi\"      \"Action\"      \"Comedy\"     \n",
       " [661] \"Adventure\"   \"Crime\"       \"Mystery\"     \"Thriller\"    \"Comedy\"     \n",
       " [666] \"Crime\"       \"Mystery\"     \"Comedy\"      \"Romance\"     \"Action\"     \n",
       " [671] \"Adventure\"   \"Action\"      \"Fantasy\"     \"Sci-Fi\"      \"Adventure\"  \n",
       " [676] \"Action\"      \"Fantasy\"     \"Thriller\"    \"Sci-Fi\"      \"Thriller\"   \n",
       " [681] \"Sci-Fi\"      \"Mystery\"     \"Horror\"      \"Sci-Fi\"      \"Adventure\"  \n",
       " [686] \"Action\"      \"Drama\"       \"Animation\"   \"Adventure\"   \"Family\"     \n",
       " [691] \"Drama\"       \"Action\"      \"History\"     \"Biography\"   \"Drama\"      \n",
       " [696] \"Thriller\"    \"Sci-Fi\"      \"Adventure\"   \"Mystery\"     \"Drama\"      \n",
       " [701] \"Sci-Fi\"      \"Action\"      \"Mystery\"     \"Adventure\"   \"Fantasy\"    \n",
       " [706] \"Family\"      \"Animation\"   \"Comedy\"      \"Adventure\"   \"Fantasy\"    \n",
       " [711] \"Drama\"       \"Comedy\"      \"Music\"       \"Biography\"   \"Thriller\"   \n",
       " [716] \"Action\"      \"Comedy\"      \"Mystery\"     \"Horror\"      \"Comedy\"     \n",
       " [721] \"Action\"      \"Animation\"   \"Comedy\"      \"Adventure\"   \"Action\"     \n",
       " [726] \"Family\"      \"Drama\"       \"Thriller\"    \"Sci-Fi\"      \"Action\"     \n",
       " [731] \"Thriller\"    \"Action\"      \"Crime\"       \"Drama\"       \"Romance\"    \n",
       " [736] \"Adventure\"   \"Fantasy\"     \"Family\"      \"Mystery\"     \"Drama\"      \n",
       " [741] \"Animation\"   \"Comedy\"      \"Adventure\"   \"Fantasy\"     \"Family\"     \n",
       " [746] \"Comedy\"      \"Romance\"     \"Comedy\"      \"Adventure\"   \"Action\"     \n",
       " [751] \"Thriller\"    \"Thriller\"    \"Sci-Fi\"      \"Adventure\"   \"Action\"     \n",
       " [756] \"Thriller\"    \"Sci-Fi\"      \"Drama\"       \"Thriller\"    \"Action\"     \n",
       " [761] \"Crime\"       \"Sci-Fi\"      \"Adventure\"   \"Action\"      \"Drama\"      \n",
       " [766] \"Animation\"   \"Comedy\"      \"Adventure\"   \"Fantasy\"     \"Family\"     \n",
       " [771] \"Drama\"       \"Romance\"     \"Fantasy\"     \"Drama\"       \"Thriller\"   \n",
       " [776] \"Action\"      \"Crime\"       \"Animation\"   \"Comedy\"      \"Family\"     \n",
       " [781] \"Comedy\"      \"Action\"      \"Crime\"       \"Drama\"       \"History\"    \n",
       " [786] \"Biography\"   \"Drama\"       \"Comedy\"      \"Drama\"       \"Thriller\"   \n",
       " [791] \"Fantasy\"     \"Mystery\"     \"Thriller\"    \"Mystery\"     \"Horror\"     \n",
       " [796] \"Drama\"       \"Action\"      \"Crime\"       \"Adventure\"   \"Family\"     \n",
       " [801] \"Drama\"       \"Sci-Fi\"      \"Adventure\"   \"Thriller\"    \"Sci-Fi\"     \n",
       " [806] \"Crime\"       \"Mystery\"     \"Drama\"       \"Thriller\"    \"Adventure\"  \n",
       " [811] \"Western\"     \"Drama\"       \"Action\"      \"Adventure\"   \"Fantasy\"    \n",
       " [816] \"Action\"      \"Fantasy\"     \"Mystery\"     \"Animation\"   \"Comedy\"     \n",
       " [821] \"Fantasy\"     \"Family\"      \"Horror\"      \"Sci-Fi\"      \"Adventure\"  \n",
       " [826] \"Action\"      \"Reality-TV\"  \"Drama\"       \"Adventure\"   \"Action\"     \n",
       " [831] \"Drama\"       \"Adventure\"   \"Action\"      \"Fantasy\"     \"Horror\"     \n",
       " [836] \"Drama\"       \"Biography\"   \"Drama\"       \"Thriller\"    \"Action\"     \n",
       " [841] \"Crime\"       \"Animation\"   \"Comedy\"      \"Adventure\"   \"Action\"     \n",
       " [846] \"Drama\"       \"Comedy\"      \"Romance\"     \"Adventure\"   \"Action\"     \n",
       " [851] \"Thriller\"    \"Sci-Fi\"      \"Action\"      \"Horror\"      \"Thriller\"   \n",
       " [856] \"Sci-Fi\"      \"Action\"      \"Comedy\"      \"Fantasy\"     \"Drama\"      \n",
       " [861] \"Comedy\"      \"Action\"      \"Drama\"       \"Crime\"       \"Drama\"      \n",
       " [866] \"Thriller\"    \"History\"     \"Drama\"       \"Adventure\"   \"Family\"     \n",
       " [871] \"Drama\"       \"Action\"      \"History\"     \"Drama\"       \"Romance\"    \n",
       " [876] \"History\"     \"Thriller\"    \"Mystery\"     \"Drama\"       \"Sci-Fi\"     \n",
       " [881] \"Adventure\"   \"Action\"      \"Drama\"       \"Sport\"       \"Thriller\"   \n",
       " [886] \"Horror\"      \"Drama\"       \"Romance\"     \"Horror\"      \"Animation\"  \n",
       " [891] \"Comedy\"      \"Adventure\"   \"Fantasy\"     \"Family\"      \"Drama\"      \n",
       " [896] \"Action\"      \"History\"     \"War\"         \"Thriller\"    \"Action\"     \n",
       " [901] \"Romance\"     \"Fantasy\"     \"Family\"      \"Drama\"       \"Romance\"    \n",
       " [906] \"Comedy\"      \"Fantasy\"     \"Horror\"      \"Thriller\"    \"Comedy\"     \n",
       " [911] \"Adventure\"   \"Action\"      \"Crime\"       \"Sci-Fi\"      \"Adventure\"  \n",
       " [916] \"Action\"      \"Fantasy\"     \"Thriller\"    \"Action\"      \"Horror\"     \n",
       " [921] \"Animation\"   \"Comedy\"      \"Adventure\"   \"Fantasy\"     \"Family\"     \n",
       " [926] \"Sci-Fi\"      \"Adventure\"   \"Action\"      \"Fantasy\"     \"Comedy\"     \n",
       " [931] \"Romance\"     \"Sci-Fi\"      \"Adventure\"   \"Action\"      \"Family\"     \n",
       " [936] \"Drama\"       \"Thriller\"    \"Action\"      \"Mystery\"     \"Horror\"     \n",
       " [941] \"Comedy\"      \"Action\"      \"Crime\"       \"Drama\"       \"Sci-Fi\"     \n",
       " [946] \"Action\"      \"Fantasy\"     \"Horror\"      \"Thriller\"    \"Action\"     \n",
       " [951] \"Sci-Fi\"      \"Adventure\"   \"Action\"      \"Fantasy\"     \"Animation\"  \n",
       " [956] \"Comedy\"      \"Action\"      \"Family\"      \"Animation\"   \"Comedy\"     \n",
       " [961] \"Adventure\"   \"Fantasy\"     \"Family\"      \"Animation\"   \"Comedy\"     \n",
       " [966] \"Sci-Fi\"      \"Adventure\"   \"Action\"      \"Family\"      \"Drama\"      \n",
       " [971] \"Thriller\"    \"Mystery\"     \"Horror\"      \"Romance\"     \"Adventure\"  \n",
       " [976] \"Action\"      \"Fantasy\"     \"Drama\"       \"Thriller\"    \"Sci-Fi\"     \n",
       " [981] \"Adventure\"   \"Fantasy\"     \"Mystery\"     \"Horror\"      \"Drama\"      \n",
       " [986] \"Thriller\"    \"Crime\"       \"Mystery\"     \"Comedy\"      \"Sci-Fi\"     \n",
       " [991] \"Adventure\"   \"Action\"      \"Romance\"     \"Action\"      \"Mystery\"    \n",
       " [996] \"Drama\"       \"Romance\"     \"Fantasy\"     \"Comedy\"      \"Animation\"  \n",
       "[1001] \"Comedy\"      \"Adventure\"   \"Fantasy\"     \"Family\"      \"Thriller\"   \n",
       "[1006] \"Action\"      \"Crime\"       \"Music\"       \"Comedy\"      \"Action\"     \n",
       "[1011] \"Drama\"       \"Adventure\"   \"Fantasy\"     \"Mystery\"     \"Animation\"  \n",
       "[1016] \"Comedy\"      \"Adventure\"   \"Fantasy\"     \"Family\"      \"Drama\"      \n",
       "[1021] \"Crime\"       \"Mystery\"     \"Comedy\"      \"Romance\"     \"Action\"     \n",
       "[1026] \"Mystery\"     \"Animation\"   \"Sci-Fi\"      \"Adventure\"   \"Action\"     \n",
       "[1031] \"Drama\"       \"Action\"      \"Crime\"       \"Adventure\"   \"Fantasy\"    \n",
       "[1036] \"Family\"      \"Adventure\"   \"Action\"      \"Fantasy\"     \"Drama\"      \n",
       "[1041] \"Documentary\" \"Thriller\"    \"Mystery\"     \"Drama\"       \"Comedy\"     \n",
       "[1046] \"Crime\"       \"Biography\"   \"Animation\"   \"Comedy\"      \"Adventure\"  \n",
       "[1051] \"Action\"      \"Family\"      \"Adventure\"   \"Fantasy\"     \"Comedy\"     \n",
       "[1056] \"Sci-Fi\"      \"Adventure\"   \"Action\"      \"Fantasy\"     \"Thriller\"   \n",
       "[1061] \"Action\"      \"Crime\"       \"Drama\"       \"Action\"      \"History\"    \n",
       "[1066] \"War\"         \"Thriller\"    \"Fantasy\"     \"Horror\"      \"Thriller\"   \n",
       "[1071] \"Sci-Fi\"      \"Adventure\"   \"Action\"      \"Drama\"       \"Action\"     \n",
       "[1076] \"History\"     \"War\"         \"Drama\"       \"Music\"       \"Biography\"  \n",
       "[1081] \"Drama\"       \"Action\"      \"Crime\"       \"Adventure\"   \"Fantasy\"    \n",
       "[1086] \"Drama\"       \"Thriller\"    \"Animation\"   \"Comedy\"      \"Sci-Fi\"     \n",
       "[1091] \"Adventure\"   \"Action\"      \"Fantasy\"     \"Horror\"      \"Thriller\"   \n",
       "[1096] \"Adventure\"   \"Crime\"       \"Mystery\"     \"Drama\"       \"Biography\"  \n",
       "[1101] \"Drama\"       \"Thriller\"    \"Adventure\"   \"Romance\"     \"Fantasy\"    \n",
       "[1106] \"Horror\"      \"Drama\"       \"Thriller\"    \"Mystery\"     \"Drama\"      \n",
       "[1111] \"Adventure\"   \"Fantasy\"     \"Family\"      \"Thriller\"    \"Crime\"      \n",
       "[1116] \"Mystery\"     \"Horror\"      \"Animation\"   \"Sci-Fi\"      \"Action\"     \n",
       "[1121] \"Comedy\"      \"Sci-Fi\"      \"Fantasy\"     \"Drama\"       \"Thriller\"   \n",
       "[1126] \"Sci-Fi\"      \"Adventure\"   \"Action\"      \"Thriller\"    \"Comedy\"     \n",
       "[1131] \"Action\"      \"Crime\"       \"Mystery\"     \"Thriller\"    \"Horror\"     \n",
       "[1136] \"Comedy\"      \"Drama\"       \"Comedy\"      \"Adventure\"   \"Fantasy\"    \n",
       "[1141] \"Thriller\"    \"Action\"      \"Crime\"       \"Drama\"       \"Thriller\"   \n",
       "[1146] \"Crime\"       \"Comedy\"      \"Adventure\"   \"Fantasy\"     \"Family\"     \n",
       "[1151] \"Horror\"      \"Thriller\"    \"Horror\"      \"Animation\"   \"Comedy\"     \n",
       "[1156] \"Adventure\"   \"Family\"      \"Thriller\"    \"Crime\"       \"Mystery\"    \n",
       "[1161] \"Comedy\"      \"Animation\"   \"Comedy\"      \"Adventure\"   \"Family\"     \n",
       "[1166] \"Sport\"       \"Sci-Fi\"      \"Adventure\"   \"Action\"      \"Drama\"      \n",
       "[1171] \"History\"     \"Biography\"   \"Thriller\"    \"Action\"      \"Horror\"     \n",
       "[1176] \"Horror\"      \"Drama\"       \"Thriller\"    \"Action\"      \"Animation\"  \n",
       "[1181] \"Comedy\"      \"Adventure\"   \"Fantasy\"     \"Family\"      \"Drama\"      \n",
       "[1186] \"History\"     \"War\"         \"Animation\"   \"Comedy\"      \"Adventure\"  \n",
       "[1191] \"Fantasy\"     \"Family\"      \"Thriller\"    \"Action\"      \"Thriller\"   \n",
       "[1196] \"Adventure\"   \"Action\"      \"Animation\"   \"Comedy\"      \"Drama\"      \n",
       "[1201] \"Adventure\"   \"Family\"      \"Drama\"       \"Crime\"       \"Comedy\"     \n",
       "[1206] \"Thriller\"    \"Action\"      \"Crime\"       \"Comedy\"      \"Action\"     \n",
       "[1211] \"Animation\"   \"Comedy\"      \"Adventure\"   \"Fantasy\"     \"Family\"     \n",
       "[1216] \"Animation\"   \"Adventure\"   \"Action\"      \"Family\"      \"Drama\"      \n",
       "[1221] \"Thriller\"    \"Action\"      \"Crime\"       \"Mystery\"     \"Drama\"      \n",
       "[1226] \"Thriller\"    \"Action\"      \"Crime\"       \"Drama\"       \"Sci-Fi\"     \n",
       "[1231] \"Adventure\"   \"Action\"      \"Crime\"       \"Fantasy\"     \"Animation\"  \n",
       "[1236] \"Comedy\"      \"Fantasy\"     \"Family\"      \"Thriller\"    \"Action\"     \n",
       "[1241] \"Drama\"       \"Comedy\"      \"Sci-Fi\"      \"Drama\"       \"Thriller\"   \n",
       "[1246] \"Comedy\"      \"Adventure\"   \"Action\"      \"Thriller\"    \"Sci-Fi\"     \n",
       "[1251] \"Action\"      \"Crime\"       \"Fantasy\"     \"Comedy\"      \"Thriller\"   \n",
       "[1256] \"Animation\"   \"Comedy\"      \"Adventure\"   \"Action\"      \"Fantasy\"    \n",
       "[1261] \"Comedy\"      \"Thriller\"    \"Action\"      \"Horror\"      \"Animation\"  \n",
       "[1266] \"Comedy\"      \"Adventure\"   \"Fantasy\"     \"Family\"      \"Comedy\"     \n",
       "[1271] \"Family\"      \"Comedy\"      \"Adventure\"   \"Horror\"      \"Thriller\"   \n",
       "[1276] \"Action\"      \"Crime\"       \"Adventure\"   \"Fantasy\"     \"Family\"     \n",
       "[1281] \"Drama\"       \"Thriller\"    \"Crime\"       \"Biography\"   \"Sci-Fi\"     \n",
       "[1286] \"Action\"      \"Comedy\"      \"Thriller\"    \"Sci-Fi\"      \"Action\"     \n",
       "[1291] \"Drama\"       \"Thriller\"    \"Thriller\"    \"Sci-Fi\"      \"Action\"     \n",
       "[1296] \"Mystery\"     \"Animation\"   \"Comedy\"      \"Adventure\"   \"Romance\"    \n",
       "[1301] \"Fantasy\"     \"Family\"      \"Drama\"       \"Adventure\"   \"Romance\"    \n",
       "[1306] \"Fantasy\"     \"Drama\"       \"Animation\"   \"Comedy\"      \"Family\"     \n",
       "[1311] \"Music\"       \"Sport\"       \"Documentary\" \"Adventure\"   \"Romance\"    \n",
       "[1316] \"Action\"      \"Fantasy\"     \"Family\"      \"Drama\"       \"Thriller\"   \n",
       "[1321] \"Sci-Fi\"      \"Adventure\"   \"Drama\"       \"Thriller\"    \"Sci-Fi\"     \n",
       "[1326] \"Drama\"       \"Adventure\"   \"Romance\"     \"Fantasy\"     \"Sci-Fi\"     \n",
       "[1331] \"Adventure\"   \"Action\"      \"Western\"     \"Drama\"       \"Sci-Fi\"     \n",
       "[1336] \"Adventure\"   \"Drama\"       \"Romance\"     \"Comedy\"      \"Action\"     \n",
       "[1341] \"Western\"     \"Animation\"   \"Comedy\"      \"Sci-Fi\"      \"Adventure\"  \n",
       "[1346] \"Action\"      \"Crime\"       \"Fantasy\"     \"Drama\"       \"Animation\"  \n",
       "[1351] \"Comedy\"      \"Adventure\"   \"Fantasy\"     \"Family\"      \"Thriller\"   \n",
       "[1356] \"Action\"      \"Drama\"       \"Comedy\"      \"Thriller\"    \"Thriller\"   \n",
       "[1361] \"Sci-Fi\"      \"Adventure\"   \"Action\"      \"Horror\"      \"Drama\"      \n",
       "[1366] \"Thriller\"    \"Action\"      \"Crime\"       \"Animation\"   \"Comedy\"     \n",
       "[1371] \"Adventure\"   \"Family\"      \"Drama\"       \"Comedy\"      \"War\"        \n",
       "[1376] \"Sci-Fi\"      \"Adventure\"   \"Action\"      \"Drama\"       \"Adventure\"  \n",
       "[1381] \"Romance\"     \"Fantasy\"     \"Animation\"   \"Adventure\"   \"Action\"     \n",
       "[1386] \"Fantasy\"     \"Thriller\"    \"Adventure\"   \"Action\"      \"Crime\"      \n",
       "[1391] \"Mystery\"     \"Drama\"       \"Thriller\"    \"Romance\"     \"Crime\"      \n",
       "[1396] \"Mystery\"     \"Adventure\"   \"Action\"      \"Fantasy\"     \"Horror\"     \n",
       "[1401] \"Horror\"      \"Animation\"   \"Comedy\"      \"Sci-Fi\"      \"Adventure\"  \n",
       "[1406] \"Action\"      \"Family\"      \"Sci-Fi\"      \"Action\"      \"Sci-Fi\"     \n",
       "[1411] \"Adventure\"   \"Action\"      \"Drama\"       \"Romance\"     \"Drama\"      \n",
       "[1416] \"Comedy\"      \"Adventure\"   \"Fantasy\"     \"Family\"      \"Thriller\"   \n",
       "[1421] \"Sci-Fi\"      \"Horror\"      \"Drama\"       \"Comedy\"      \"Romance\"    \n",
       "[1426] \"Drama\"       \"Adventure\"   \"Romance\"     \"Fantasy\"     \"Comedy\"     \n",
       "[1431] \"Romance\"     \"Animation\"   \"Adventure\"   \"Action\"      \"Crime\"      \n",
       "[1436] \"Fantasy\"     \"History\"     \"Mystery\"     \"Action\"      \"Crime\"      \n",
       "[1441] \"Drama\"       \"Drama\"       \"Romance\"     \"Drama\"       \"Comedy\"     \n",
       "[1446] \"Drama\"       \"Adventure\"   \"Action\"      \"Fantasy\"     \"Adventure\"  \n",
       "[1451] \"Action\"      \"Fantasy\"     \"Animation\"   \"Comedy\"      \"Adventure\"  \n",
       "[1456] \"Romance\"     \"Fantasy\"     \"Family\"      \"Drama\"       \"Comedy\"     \n",
       "[1461] \"Crime\"       \"Adventure\"   \"Fantasy\"     \"Drama\"       \"Thriller\"   \n",
       "[1466] \"Crime\"       \"History\"     \"Biography\"   \"Drama\"       \"Thriller\"   \n",
       "[1471] \"Adventure\"   \"Romance\"     \"Action\"      \"Drama\"       \"Thriller\"   \n",
       "[1476] \"Action\"      \"Thriller\"    \"Horror\"      \"Thriller\"    \"Mystery\"    \n",
       "[1481] \"Horror\"      \"Comedy\"      \"Adventure\"   \"Romance\"     \"Drama\"      \n",
       "[1486] \"Biography\"   \"Drama\"       \"Adventure\"   \"Fantasy\"     \"Family\"     \n",
       "[1491] \"Adventure\"   \"Fantasy\"     \"Drama\"       \"Crime\"       \"Drama\"      \n",
       "[1496] \"Romance\"     \"Thriller\"    \"Action\"      \"Crime\"       \"Drama\"      \n",
       "[1501] \"Romance\"     \"Animation\"   \"Comedy\"      \"Adventure\"   \"Fantasy\"    \n",
       "[1506] \"Family\"      \"Thriller\"    \"Mystery\"     \"Horror\"      \"Comedy\"     \n",
       "[1511] \"Adventure\"   \"Action\"      \"Fantasy\"     \"Family\"      \"Animation\"  \n",
       "[1516] \"Comedy\"      \"Sci-Fi\"      \"Fantasy\"     \"Horror\"      \"Thriller\"   \n",
       "[1521] \"Sci-Fi\"      \"Adventure\"   \"Action\"      \"Thriller\"    \"Drama\"      \n",
       "[1526] \"Thriller\"    \"Comedy\"      \"Crime\"       \"Mystery\"     \"Drama\"      \n",
       "[1531] \"Thriller\"    \"Fantasy\"     \"Thriller\"    \"Action\"      \"Crime\"      \n",
       "[1536] \"Drama\"       \"Comedy\"      \"Crime\"       \"War\"         \"Drama\"      \n",
       "[1541] \"Thriller\"    \"Action\"      \"Crime\"       \"Sci-Fi\"      \"Adventure\"  \n",
       "[1546] \"Action\"      \"Fantasy\"     \"Sci-Fi\"      \"Adventure\"   \"Action\"     \n",
       "[1551] \"Action\"      \"Drama\"       \"Thriller\"    \"Crime\"       \"Drama\"      \n",
       "[1556] \"Biography\"   \"Comedy\"      \"Drama\"       \"Romance\"     \"Drama\"      \n",
       "[1561] \"Thriller\"    \"Crime\"       \"Adventure\"   \"Fantasy\"     \"Family\"     \n",
       "[1566] \"Drama\"       \"Drama\"       \"Animation\"   \"Comedy\"      \"Adventure\"  \n",
       "[1571] \"Fantasy\"     \"Family\"      \"Thriller\"    \"Action\"      \"Crime\"      \n",
       "[1576] \"Comedy\"      \"Romance\"     \"Thriller\"    \"Sci-Fi\"      \"Drama\"      \n",
       "[1581] \"Drama\"       \"Sci-Fi\"      \"Adventure\"   \"Romance\"     \"Horror\"     \n",
       "[1586] \"Drama\"       \"Action\"      \"History\"     \"Biography\"   \"Animation\"  \n",
       "[1591] \"Comedy\"      \"Adventure\"   \"Action\"      \"Fantasy\"     \"Family\"     \n",
       "[1596] \"Drama\"       \"Adventure\"   \"Romance\"     \"Fantasy\"     \"Drama\"      \n",
       "[1601] \"Thriller\"    \"Comedy\"      \"Action\"      \"Crime\"       \"History\"    \n",
       "[1606] \"Biography\"   \"Adventure\"   \"Action\"      \"Drama\"       \"History\"    \n",
       "[1611] \"Biography\"   \"Animation\"   \"Comedy\"      \"Adventure\"   \"Fantasy\"    \n",
       "[1616] \"Family\"      \"Adventure\"   \"Fantasy\"     \"Animation\"   \"Comedy\"     \n",
       "[1621] \"Adventure\"   \"Romance\"     \"Fantasy\"     \"Family\"      \"Mystery\"    \n",
       "[1626] \"Drama\"       \"Thriller\"    \"Horror\"      \"Drama\"       \"Comedy\"     \n",
       "[1631] \"Romance\"     \"Comedy\"      \"Sci-Fi\"      \"Adventure\"   \"Action\"     \n",
       "[1636] \"Fantasy\"     \"Drama\"       \"Action\"      \"History\"     \"Biography\"  \n",
       "[1641] \"Sci-Fi\"      \"Adventure\"   \"Action\"      \"Fantasy\"     \"Drama\"      \n",
       "[1646] \"Comedy\"      \"Romance\"     \"Drama\"       \"Animation\"   \"Romance\"    \n",
       "[1651] \"Fantasy\"     \"Family\"      \"Animation\"   \"Comedy\"      \"Sci-Fi\"     \n",
       "[1656] \"Adventure\"   \"Action\"      \"Family\"      \"Comedy\"      \"Sci-Fi\"     \n",
       "[1661] \"Adventure\"   \"Mystery\"     \"Action\"      \"Crime\"       \"Comedy\"     \n",
       "[1666] \"Romance\"     \"Music\"       \"Drama\"       \"Action\"      \"Sci-Fi\"     \n",
       "[1671] \"Adventure\"   \"Action\"      \"Thriller\"    \"Fantasy\"     \"Mystery\"    \n",
       "[1676] \"Horror\"      \"Biography\"   \"Comedy\"      \"Horror\"      \"Thriller\"   \n",
       "[1681] \"Sci-Fi\"      \"Adventure\"   \"Action\"      \"Mystery\"     \"Animation\"  \n",
       "[1686] \"Comedy\"      \"Adventure\"   \"Family\"      \"Adventure\"   \"Comedy\"     \n",
       "[1691] \"Thriller\"    \"Sci-Fi\"      \"Horror\"      \"Sci-Fi\"      \"Action\"     \n",
       "[1696] \"Adventure\"   \"Action\"      \"Fantasy\"     \"Animation\"   \"Comedy\"     \n",
       "[1701] \"Sci-Fi\"      \"Adventure\"   \"Action\"      \"Fantasy\"     \"Comedy\"     \n",
       "[1706] \"Fantasy\"     \"Family\"      \"Comedy\"      \"Adventure\"   \"Family\"     \n",
       "[1711] \"Adventure\"   \"Action\"      \"Fantasy\"     \"Drama\"       \"Comedy\"     \n",
       "[1716] \"Romance\"     \"Animation\"   \"Comedy\"      \"Fantasy\"     \"Family\"     \n",
       "[1721] \"Thriller\"    \"Action\"      \"Documentary\" \"Drama\"       \"Adventure\"  \n",
       "[1726] \"Sci-Fi\"      \"Adventure\"   \"Action\"      \"Fantasy\"     \"Drama\"      \n",
       "[1731] \"Thriller\"    \"Action\"      \"War\"         \"Drama\"       \"Crime\"      \n",
       "[1736] \"Comedy\"      \"Sci-Fi\"      \"Romance\"     \"Action\"      \"Fantasy\"    \n",
       "[1741] \"Drama\"       \"Adventure\"   \"Action\"      \"Fantasy\"     \"Sci-Fi\"     \n",
       "[1746] \"Adventure\"   \"Action\"      \"Western\"     \"Mystery\"     \"Comedy\"     \n",
       "[1751] \"Horror\"      \"Thriller\"    \"Mystery\"     \"Horror\"      \"Thriller\"   \n",
       "[1756] \"Sci-Fi\"      \"Drama\"       \"Comedy\"      \"Action\"      \"Animation\"  \n",
       "[1761] \"Comedy\"      \"Sci-Fi\"      \"Adventure\"   \"Family\"      \"Adventure\"  \n",
       "[1766] \"Action\"      \"Fantasy\"     \"Drama\"       \"Thriller\"    \"Adventure\"  \n",
       "[1771] \"Action\"      \"Animation\"   \"Comedy\"      \"Adventure\"   \"Family\"     \n",
       "[1776] \"Comedy\"      \"Thriller\"    \"Action\"      \"Mystery\"     \"Comedy\"     \n",
       "[1781] \"Action\"      \"Sci-Fi\"      \"Adventure\"   \"Action\"      \"Fantasy\"    \n",
       "[1786] \"Drama\"       \"Thriller\"    \"Horror\"      \"Drama\"       \"Sci-Fi\"     \n",
       "[1791] \"Drama\"       \"Drama\"       \"Comedy\"      \"History\"     \"Biography\"  \n",
       "[1796] \"Thriller\"    \"Adventure\"   \"Action\"      \"Comedy\"      \"Sci-Fi\"     \n",
       "[1801] \"Adventure\"   \"War\"         \"Drama\"       \"Thriller\"    \"Mystery\"    \n",
       "[1806] \"Drama\"       \"Action\"      \"War\"         \"Drama\"       \"Thriller\"   \n",
       "[1811] \"Crime\"       \"Animation\"   \"Animation\"   \"Comedy\"      \"Adventure\"  \n",
       "[1816] \"Fantasy\"     \"Family\"      \"Drama\"       \"Sport\"       \"Drama\"      \n",
       "[1821] \"Thriller\"    \"Fantasy\"     \"Horror\"      \"Drama\"       \"Thriller\"   \n",
       "[1826] \"Action\"      \"Thriller\"    \"Adventure\"   \"Action\"      \"Fantasy\"    \n",
       "[1831] \"Mystery\"     \"Drama\"       \"Comedy\"      \"History\"     \"Biography\"  \n",
       "[1836] \"Thriller\"    \"Sci-Fi\"      \"Adventure\"   \"Adventure\"   \"Action\"     \n",
       "[1841] \"Fantasy\"     \"Drama\"       \"Action\"      \"Comedy\"      \"Crime\"      \n",
       "[1846] \"Comedy\"      \"Thriller\"    \"Sci-Fi\"      \"Action\"      \"Comedy\"     \n",
       "[1851] \"Crime\"       \"Drama\"       \"Thriller\"    \"Sci-Fi\"      \"Mystery\"    \n",
       "[1856] \"Drama\"       \"Comedy\"      \"Romance\"     \"Drama\"       \"Sci-Fi\"     \n",
       "[1861] \"Adventure\"   \"Action\"      \"Sci-Fi\"      \"Comedy\"      \"Thriller\"   \n",
       "[1866] \"Action\"      \"Crime\"       \"Drama\"       \"Thriller\"    \"Adventure\"  \n",
       "[1871] \"Action\"      \"Adventure\"   \"Fantasy\"     \"Drama\"       \"Thriller\"   \n",
       "[1876] \"Sci-Fi\"      \"Mystery\"     \"Sci-Fi\"      \"Action\"      \"Horror\"     \n",
       "[1881] \"Comedy\"      \"Romance\"     \"Fantasy\"     \"Family\"      \"Comedy\"     \n",
       "[1886] \"Drama\"       \"History\"     \"Biography\"   \"Reality-TV\"  \"Animation\"  \n",
       "[1891] \"Comedy\"      \"Adventure\"   \"Fantasy\"     \"Family\"      \"Drama\"      \n",
       "[1896] \"Drama\"       \"Thriller\"    \"Adventure\"   \"Crime\"       \"History\"    \n",
       "[1901] \"Mystery\"     \"Drama\"       \"Thriller\"    \"Crime\"       \"Mystery\"    \n",
       "[1906] \"Drama\"       \"Thriller\"    \"Crime\"       \"Mystery\"     \"Comedy\"     \n",
       "[1911] \"Action\"      \"Crime\"       \"Comedy\"      \"Adventure\"   \"Horror\"     \n",
       "[1916] \"Animation\"   \"Comedy\"      \"Adventure\"   \"Family\"      \"Sport\"      \n",
       "[1921] \"Comedy\"      \"Adventure\"   \"Action\"      \"Family\"      \"Animation\"  \n",
       "[1926] \"Comedy\"      \"Family\"      \"Drama\"       \"Horror\"      \"Comedy\"     \n",
       "[1931] \"Romance\"     \"Drama\"       \"Romance\"     \"Animation\"   \"Adventure\"  \n",
       "[1936] \"Fantasy\"     \"Family\"      \"Comedy\"      \"Adventure\"   \"Action\"     \n",
       "[1941] \"Comedy\"      \"Romance\"     \"Comedy\"      \"Adventure\"   \"Action\"     \n",
       "[1946] \"Drama\"       \"Romance\"     \"Music\"       \"Drama\"       \"Thriller\"   \n",
       "[1951] \"Crime\"       \"Mystery\"     \"Animation\"   \"Comedy\"      \"Adventure\"  \n",
       "[1956] \"Family\"      \"Mystery\"     \"Animation\"   \"Adventure\"   \"Action\"     \n",
       "[1961] \"Mystery\"     \"Horror\"      \"Animation\"   \"Sci-Fi\"      \"Fantasy\"    \n",
       "[1966] \"Drama\"       \"Thriller\"    \"Adventure\"   \"Action\"      \"Crime\"      \n",
       "[1971] \"Mystery\"     \"Comedy\"      \"Drama\"       \"Music\"       \"Biography\"  \n",
       "[1976] \"Romance\"     \"Drama\"       \"Romance\"     \"Comedy\"      \"Thriller\"   \n",
       "[1981] \"Mystery\"     \"Horror\"      \"Animation\"   \"Comedy\"      \"Adventure\"  \n",
       "[1986] \"Fantasy\"     \"Family\"      \"Music\"       \"Adventure\"   \"Action\"     \n",
       "[1991] \"Fantasy\"     \"Drama\"       \"Romance\"     \"Drama\"       \"Sci-Fi\"     \n",
       "[1996] \"Drama\"       \"Comedy\"      \"Adventure\"   \"Action\"      \"Crime\"      \n",
       "[2001] \"Thriller\"    \"Drama\"       \"Drama\"       \"Thriller\"    \"Animation\"  \n",
       "[2006] \"Action\"      \"Crime\"       \"Drama\"       \"Crime\"       \"Drama\"      \n",
       "[2011] \"Comedy\"      \"Sci-Fi\"      \"Adventure\"   \"Action\"      \"Fantasy\"    \n",
       "[2016] \"Sci-Fi\"      \"Adventure\"   \"Action\"      \"Drama\"       \"Comedy\"     \n",
       "[2021] \"Action\"      \"Crime\"       \"Drama\"       \"Comedy\"      \"Crime\"      \n",
       "[2026] \"Sci-Fi\"      \"Adventure\"   \"Fantasy\"     \"Family\"      \"Drama\"      \n",
       "[2031] \"Mystery\"     \"Comedy\"      \"Adventure\"   \"Action\"      \"Crime\"      \n",
       "[2036] \"Drama\"       \"Crime\"       \"Biography\"   \"Thriller\"    \"Sci-Fi\"     \n",
       "[2041] \"Adventure\"   \"Action\"      \"Sci-Fi\"      \"Adventure\"   \"Fantasy\"    \n",
       "[2046] \"Family\"      \"Sci-Fi\"      \"Adventure\"   \"Action\"      \"Drama\"      \n",
       "[2051] \"Thriller\"    \"Action\"      \"History\"     \"War\"         \"Biography\"  \n",
       "[2056] \"Drama\"       \"Comedy\"      \"Animation\"   \"Comedy\"      \"Adventure\"  \n",
       "[2061] \"Fantasy\"     \"Family\"      \"Drama\"       \"Drama\"       \"Crime\"      \n",
       "[2066] \"Biography\"   \"Drama\"       \"History\"     \"Biography\"   \"Sci-Fi\"     \n",
       "[2071] \"Adventure\"   \"Action\"      \"Fantasy\"     \"Romance\"     \"Drama\"      \n",
       "[2076] \"Romance\"     \"Adventure\"   \"Drama\"       \"Comedy\"      \"Romance\"    \n",
       "[2081] \"Comedy\"      \"Thriller\"    \"Sci-Fi\"      \"Adventure\"   \"Action\"     \n",
       "[2086] \"Horror\"      \"Animation\"   \"Sci-Fi\"      \"Comedy\"      \"Romance\"    \n",
       "[2091] \"Thriller\"    \"Comedy\"      \"Fantasy\"     \"Drama\"       \"Thriller\"   \n",
       "[2096] \"Mystery\"     \"Horror\"      \"Sci-Fi\"      \"Adventure\"   \"Action\"     \n",
       "[2101] \"Fantasy\"     \"Drama\"       \"Comedy\"      \"Family\"      \"Drama\"      \n",
       "[2106] \"Romance\"     \"Drama\"       \"Thriller\"    \"Mystery\"     \"Thriller\"   \n",
       "[2111] \"Sci-Fi\"      \"Adventure\"   \"Drama\"       \"Thriller\"    \"Sci-Fi\"     \n",
       "[2116] \"Horror\"      \"Thriller\"    \"Mystery\"     \"Drama\"       \"Thriller\"   \n",
       "[2121] \"Sci-Fi\"      \"Action\"      \"Crime\"       \"Mystery\"     \"Animation\"  \n",
       "[2126] \"Fantasy\"     \"Family\"      \"Animation\"   \"Comedy\"      \"Adventure\"  \n",
       "[2131] \"Fantasy\"     \"Drama\"       \"Romance\"     \"Drama\"       \"Animation\"  \n",
       "[2136] \"Romance\"     \"Fantasy\"     \"Drama\"       \"Thriller\"    \"Crime\"      \n",
       "[2141] \"Mystery\"     \"Biography\"   \"Comedy\"      \"Comedy\"      \"Sci-Fi\"     \n",
       "[2146] \"Adventure\"   \"Action\"      \"Drama\"       \"Comedy\"      \"Adventure\"  \n",
       "[2151] \"Fantasy\"     \"Family\"      \"Drama\"       \"Comedy\"      \"Romance\"    \n",
       "[2156] \"Drama\"       \"Thriller\"    \"Action\"      \"Crime\"       \"Thriller\"   \n",
       "[2161] \"Sci-Fi\"      \"Horror\"      \"Drama\"       \"Music\"       \"Mystery\"    \n",
       "[2166] \"Animation\"   \"Sci-Fi\"      \"Action\"      \"Sci-Fi\"      \"Adventure\"  \n",
       "[2171] \"Action\"      \"Fantasy\"     \"Drama\"       \"Comedy\"      \"Romance\"    \n",
       "[2176] \"Fantasy\"     \"Drama\"       \"Drama\"       \"Romance\"     \"Drama\"      \n",
       "[2181] \"Comedy\"      \"Romance\"     \"Sci-Fi\"      \"Adventure\"   \"Action\"     \n",
       "[2186] \"Western\"     \"Fantasy\"     \"Horror\"      \"Adventure\"   \"Fantasy\"    \n",
       "[2191] \"Family\"      \"Adventure\"   \"Action\"      \"Crime\"       \"Fantasy\"    \n",
       "[2196] \"Horror\"      \"Drama\"       \"Comedy\"      \"Fantasy\"     \"Family\"     \n",
       "[2201] \"Horror\"      \"Comedy\"      \"Romance\"     \"Drama\"       \"Comedy\"     \n",
       "[2206] \"Romance\"     \"Sci-Fi\"      \"Adventure\"   \"Action\"      \"Comedy\"     \n",
       "[2211] \"Drama\"       \"Comedy\"      \"Drama\"       \"Sci-Fi\"      \"Adventure\"  \n",
       "[2216] \"Romance\"     \"Drama\"       \"Comedy\"      \"Romance\"     \"Thriller\"   \n",
       "[2221] \"Horror\"      \"Drama\"       \"Romance\"     \"Drama\"       \"Sci-Fi\"     \n",
       "[2226] \"Action\"      \"Comedy\"      \"Romance\"     \"Comedy\"      \"Animation\"  \n",
       "[2231] \"Adventure\"   \"Romance\"     \"Family\"      \"Drama\"       \"Comedy\"     \n",
       "[2236] \"Crime\"       \"Comedy\"      \"Drama\"       \"Romance\"     \"Animation\"  \n",
       "[2241] \"Adventure\"   \"Fantasy\"     \"Family\"      \"War\"         \"Drama\"      \n",
       "[2246] \"Sport\"       \"Biography\"   \"Sci-Fi\"      \"Adventure\"   \"Action\"     \n",
       "[2251] \"Fantasy\"     \"Drama\"       \"Comedy\"      \"Romance\"     \"Family\"     \n",
       "[2256] \"Sci-Fi\"      \"Action\"      \"Horror\"      \"Comedy\"      \"Drama\"      \n",
       "[2261] \"Animation\"   \"Fantasy\"     \"Drama\"       \"Comedy\"      \"Fantasy\"    \n",
       "[2266] \"Family\"      \"Animation\"   \"Adventure\"   \"Fantasy\"     \"Family\"     \n",
       "[2271] \"Thriller\"    \"Action\"      \"Comedy\"      \"Drama\"       \"Thriller\"   \n",
       "[2276] \"Sci-Fi\"      \"Horror\"      \"Drama\"       \"Comedy\"      \"Thriller\"   \n",
       "[2281] \"Comedy\"      \"Romance\"     \"Drama\"       \"Comedy\"      \"Action\"     \n",
       "[2286] \"Crime\"       \"Thriller\"    \"Comedy\"      \"Action\"      \"Crime\"      \n",
       "[2291] \"Mystery\"     \"Horror\"      \"Drama\"       \"Drama\"       \"Thriller\"   \n",
       "[2296] \"Action\"      \"Drama\"       \"Crime\"       \"Drama\"       \"Biography\"  \n",
       "[2301] \"Comedy\"      \"Sci-Fi\"      \"Adventure\"   \"Action\"      \"Drama\"      \n",
       "[2306] \"Sci-Fi\"      \"Adventure\"   \"Action\"      \"Animation\"   \"Comedy\"     \n",
       "[2311] \"Adventure\"   \"Action\"      \"Fantasy\"     \"Family\"      \"Adventure\"  \n",
       "[2316] \"Action\"      \"Sci-Fi\"      \"Documentary\" \"Drama\"       \"Comedy\"     \n",
       "[2321] \"Drama\"       \"Thriller\"    \"Sci-Fi\"      \"Drama\"       \"Crime\"      \n",
       "[2326] \"Biography\"   \"Drama\"       \"Action\"      \"War\"         \"Comedy\"     \n",
       "[2331] \"Comedy\"      \"Documentary\" \"Animation\"   \"Comedy\"      \"Adventure\"  \n",
       "[2336] \"Fantasy\"     \"Family\"      \"Drama\"       \"Thriller\"    \"Crime\"      \n",
       "[2341] \"Mystery\"     \"Drama\"       \"Biography\"   \"Animation\"   \"Adventure\"  \n",
       "[2346] \"Action\"      \"Fantasy\"     \"Drama\"       \"Thriller\"    \"Crime\"      \n",
       "[2351] \"Mystery\"     \"Drama\"       \"History\"     \"Comedy\"      \"Romance\"    \n",
       "[2356] \"Comedy\"      \"Action\"      \"Crime\"       \"Animation\"   \"Comedy\"     \n",
       "[2361] \"Sci-Fi\"      \"Action\"      \"Family\"      \"Animation\"   \"Comedy\"     \n",
       "[2366] \"Family\"      \"Drama\"       \"Comedy\"      \"Comedy\"      \"Drama\"      \n",
       "[2371] \"Thriller\"    \"Sci-Fi\"      \"Action\"      \"Animation\"   \"Adventure\"  \n",
       "[2376] \"Action\"      \"Fantasy\"     \"Family\"      \"Drama\"       \"Romance\"    \n",
       "[2381] \"Drama\"       \"Thriller\"    \"Crime\"       \"Biography\"   \"Thriller\"   \n",
       "[2386] \"Sci-Fi\"      \"Adventure\"   \"Drama\"       \"Comedy\"      \"Biography\"  \n",
       "[2391] \"Comedy\"      \"Fantasy\"     \"Drama\"       \"Adventure\"   \"Action\"     \n",
       "[2396] \"Fantasy\"     \"Comedy\"      \"Drama\"       \"Comedy\"      \"Romance\"    \n",
       "[2401] \"Thriller\"    \"Comedy\"      \"Action\"      \"Crime\"       \"Mystery\"    \n",
       "[2406] \"Drama\"       \"Action\"      \"Crime\"       \"Drama\"       \"Romance\"    \n",
       "[2411] \"Drama\"       \"Thriller\"    \"Adventure\"   \"Romance\"     \"Action\"     \n",
       "[2416] \"Drama\"       \"Biography\"   \"Drama\"       \"Action\"      \"Family\"     \n",
       "[2421] \"Sport\"       \"Thriller\"    \"Action\"      \"Drama\"       \"Thriller\"   \n",
       "[2426] \"Fantasy\"     \"Mystery\"     \"Horror\"      \"Drama\"       \"Comedy\"     \n",
       "[2431] \"Crime\"       \"Drama\"       \"Sci-Fi\"      \"Horror\"      \"Comedy\"     \n",
       "[2436] \"Romance\"     \"Drama\"       \"Action\"      \"Drama\"       \"Drama\"      \n",
       "[2441] \"Thriller\"    \"Adventure\"   \"Action\"      \"Comedy\"      \"Drama\"      \n",
       "[2446] \"Romance\"     \"Comedy\"      \"Animation\"   \"Romance\"     \"Fantasy\"    \n",
       "[2451] \"Family\"      \"Sci-Fi\"      \"Adventure\"   \"Action\"      \"Drama\"      \n",
       "[2456] \"Animation\"   \"Comedy\"      \"Sci-Fi\"      \"Adventure\"   \"Action\"     \n",
       "[2461] \"Fantasy\"     \"Family\"      \"Mystery\"     \"Romance\"     \"Drama\"      \n",
       "[2466] \"Drama\"       \"Biography\"   \"Documentary\" \"Drama\"       \"Thriller\"   \n",
       "[2471] \"Fantasy\"     \"Horror\"      \"Thriller\"    \"Thriller\"    \"Mystery\"    \n",
       "[2476] \"Thriller\"    \"Sci-Fi\"      \"Comedy\"      \"Action\"      \"Comedy\"     \n",
       "[2481] \"Family\"      \"Drama\"       \"Thriller\"    \"Sci-Fi\"      \"Drama\"      \n",
       "[2486] \"Comedy\"      \"Crime\"       \"Drama\"       \"Thriller\"    \"Fantasy\"    \n",
       "[2491] \"Horror\"      \"Drama\"       \"Adventure\"   \"Romance\"     \"Action\"     \n",
       "[2496] \"Biography\"   \"Thriller\"    \"Sci-Fi\"      \"Mystery\"     \"Horror\"     \n",
       "[2501] \"Thriller\"    \"Drama\"       \"Comedy\"      \"Music\"       \"Drama\"      \n",
       "[2506] \"Thriller\"    \"Action\"      \"Drama\"       \"Adventure\"   \"Drama\"      \n",
       "[2511] \"Animation\"   \"Drama\"       \"Crime\"       \"Mystery\"     \"Romance\"    \n",
       "[2516] \"Drama\"       \"Crime\"       \"Western\"     \"Comedy\"      \"Action\"     \n",
       "[2521] \"Family\"      \"Drama\"       \"Western\"     \"Biography\"   \"Thriller\"   \n",
       "[2526] \"Action\"      \"Crime\"       \"Mystery\"     \"Drama\"       \"Thriller\"   \n",
       "[2531] \"Adventure\"   \"Horror\"      \"Drama\"       \"Romance\"     \"Thriller\"   \n",
       "[2536] \"Action\"      \"Crime\"       \"Drama\"       \"Drama\"       \"Action\"     \n",
       "[2541] \"Thriller\"    \"Horror\"      \"Animation\"   \"Comedy\"      \"Family\"     \n",
       "[2546] \"Drama\"       \"Romance\"     \"Thriller\"    \"Action\"      \"Crime\"      \n",
       "[2551] \"Drama\"       \"Thriller\"    \"Crime\"       \"Drama\"       \"Comedy\"     \n",
       "[2556] \"Romance\"     \"Drama\"       \"Comedy\"      \"Romance\"     \"Animation\"  \n",
       "[2561] \"Comedy\"      \"Family\"      \"Fantasy\"     \"Family\"      \"Drama\"      \n",
       "[2566] \"Thriller\"    \"Action\"      \"Crime\"       \"Sci-Fi\"      \"Adventure\"  \n",
       "[2571] \"Action\"      \"Drama\"       \"Crime\"       \"Drama\"       \"Comedy\"     \n",
       "[2576] \"Romance\"     \"Action\"      \"Fantasy\"     \"War\"         \"Drama\"      \n",
       "[2581] \"Comedy\"      \"Romance\"     \"Documentary\" \"Animation\"   \"Comedy\"     \n",
       "[2586] \"Action\"      \"Fantasy\"     \"Drama\"       \"Thriller\"    \"Mystery\"    \n",
       "[2591] \"Horror\"      \"Kungfu\"      \"Animation\"   \"Action\"      \"Comedy\"     \n",
       "[2596] \"Comedy\"      \"Action\"      \"Crime\"       \"Drama\"       \"Thriller\"   \n",
       "[2601] \"Action\"      \"War\"         \"Comedy\"      \"Fantasy\"     \"Thriller\"   \n",
       "[2606] \"Action\"      \"Drama\"       \"Comedy\"      \"Romance\"     \"Thriller\"   \n",
       "[2611] \"Fantasy\"     \"Mystery\"     \"Horror\"      \"Thriller\"    \"Action\"     \n",
       "[2616] \"Thriller\"    \"Horror\"      \"Drama\"       \"Romance\"     \"Comedy\"     \n",
       "[2621] \"Romance\"     \"Drama\"       \"Romance\"     \"Drama\"       \"Romance\"    \n",
       "[2626] \"History\"     \"War\"         \"Biography\"   \"Comedy\"      \"Romance\"    \n",
       "[2631] \"Animation\"   \"Adventure\"   \"Action\"      \"Animation\"   \"Adventure\"  \n",
       "[2636] \"Family\"      \"Thriller\"    \"Horror\"      \"Adventure\"   \"Fantasy\"    \n",
       "[2641] \"Family\"      \"Drama\"       \"Comedy\"      \"Drama\"       \"Mystery\"    \n",
       "[2646] \"Horror\"      \"Documentary\" \"Drama\"       \"Romance\"     \"History\"    \n",
       "[2651] \"Drama\"       \"Action\"      \"Comedy\"      \"Adventure\"   \"Action\"     \n",
       "[2656] \"Crime\"       \"Comedy\"      \"Drama\"       \"Comedy\"      \"Biography\"  \n",
       "[2661] \"Adventure\"   \"Drama\"       \"Thriller\"    \"Crime\"       \"Horror\"     \n",
       "[2666] \"Comedy\"      \"Romance\"     \"Drama\"       \"Thriller\"    \"Sci-Fi\"     \n",
       "[2671] \"Action\"      \"Animation\"   \"Comedy\"      \"Adventure\"   \"Fantasy\"    \n",
       "[2676] \"Family\"      \"Drama\"       \"Thriller\"    \"Action\"      \"Crime\"      \n",
       "[2681] \"Thriller\"    \"Sci-Fi\"      \"Action\"      \"Horror\"      \"Comedy\"     \n",
       "[2686] \"Drama\"       \"Thriller\"    \"Action\"      \"Fantasy\"     \"Thriller\"   \n",
       "[2691] \"Mystery\"     \"Drama\"       \"Thriller\"    \"Action\"      \"Thriller\"   \n",
       "[2696] \"Animation\"   \"Comedy\"      \"Sci-Fi\"      \"Adventure\"   \"Action\"     \n",
       "[2701] \"Fantasy\"     \"Drama\"       \"Thriller\"    \"Mystery\"     \"Biography\"  \n",
       "[2706] \"Thriller\"    \"Sci-Fi\"      \"Adventure\"   \"War\"         \"Drama\"      \n",
       "[2711] \"History\"     \"Drama\"       \"Thriller\"    \"Horror\"      \"Drama\"      \n",
       "[2716] \"Crime\"       \"Drama\"       \"Romance\"     \"Family\"      \"Drama\"      \n",
       "[2721] \"Sport\"       \"Biography\"   \"Drama\"       \"Thriller\"    \"Action\"     \n",
       "[2726] \"Crime\"       \"Mystery\"     \"Animation\"   \"Comedy\"      \"Sci-Fi\"     \n",
       "[2731] \"Action\"      \"Thriller\"    \"Fantasy\"     \"Horror\"      \"Adventure\"  \n",
       "[2736] \"Fantasy\"     \"Family\"      \"Comedy\"      \"Romance\"     \"Family\"     \n",
       "[2741] \"Drama\"       \"Romance\"     \"Drama\"       \"Romance\"     \"Drama\"      \n",
       "[2746] \"Thriller\"    \"Action\"      \"Biography\"   \"Drama\"       \"Romance\"    \n",
       "[2751] \"Thriller\"    \"Sci-Fi\"      \"Action\"      \"Horror\"      \"Drama\"      \n",
       "[2756] \"Comedy\"      \"Romance\"     \"Romance\"     \"Thriller\"    \"Sci-Fi\"     \n",
       "[2761] \"Drama\"       \"Animation\"   \"Sci-Fi\"      \"Adventure\"   \"Fantasy\"    \n",
       "[2766] \"Thriller\"    \"Mystery\"     \"Horror\"      \"Thriller\"    \"Adventure\"  \n",
       "[2771] \"Fantasy\"     \"Family\"      \"Sci-Fi\"      \"Action\"      \"Comedy\"     \n",
       "[2776] \"Thriller\"    \"Sci-Fi\"      \"Mystery\"     \"Drama\"       \"Thriller\"   \n",
       "[2781] \"History\"     \"Biography\"   \"Drama\"       \"Thriller\"    \"Mystery\"    \n",
       "[2786] \"Sci-Fi\"      \"Action\"      \"Comedy\"      \"Romance\"     \"Drama\"      \n",
       "[2791] \"Action\"      \"Fantasy\"     \"War\"         \"Drama\"       \"Comedy\"     \n",
       "[2796] \"Drama\"       \"Sci-Fi\"      \"Adventure\"   \"Fantasy\"     \"Family\"     \n",
       "[2801] \"Thriller\"    \"Thriller\"    \"Action\"      \"Drama\"       \"Comedy\"     \n",
       "[2806] \"Drama\"       \"Drama\"       \"History\"     \"War\"         \"Biography\"  \n",
       "[2811] \"Comedy\"      \"Adventure\"   \"Fantasy\"     \"Family\"      \"Thriller\"   \n",
       "[2816] \"Comedy\"      \"Romance\"     \"Action\"      \"Crime\"       \"Drama\"      \n",
       "[2821] \"Thriller\"    \"Horror\"      \"Comedy\"      \"Romance\"     \"Animation\"  \n",
       "[2826] \"Comedy\"      \"Adventure\"   \"Fantasy\"     \"Family\"      \"Action\"     \n",
       "[2831] \"Drama\"       \"History\"     \"War\"         \"Drama\"       \"Family\"     \n",
       "[2836] \"Sport\"       \"Horror\"      \"Drama\"       \"Action\"      \"War\"        \n",
       "[2841] \"Thriller\"    \"Comedy\"      \"Action\"      \"Crime\"       \"Drama\"      \n",
       "[2846] \"Comedy\"      \"Drama\"       \"Drama\"       \"Comedy\"      \"Sci-Fi\"     \n",
       "[2851] \"Adventure\"   \"Action\"      \"Drama\"       \"Thriller\"    \"Sci-Fi\"     \n",
       "[2856] \"Drama\"       \"Drama\"       \"Biography\"   \"Drama\"       \"Sci-Fi\"     \n",
       "[2861] \"Adventure\"   \"Romance\"     \"Thriller\"    \"Mystery\"     \"Horror\"     \n",
       "[2866] \"Drama\"       \"Thriller\"    \"Crime\"       \"Thriller\"    \"Crime\"      \n",
       "[2871] \"Biography\"   \"Animation\"   \"Action\"      \"Animation\"   \"Comedy\"     \n",
       "[2876] \"Adventure\"   \"Fantasy\"     \"Family\"      \"Drama\"       \"Adventure\"  \n",
       "[2881] \"Action\"      \"History\"     \"War\"         \"Animation\"   \"Adventure\"  \n",
       "[2886] \"Fantasy\"     \"Family\"      \"Drama\"       \"Crime\"       \"Drama\"      \n",
       "[2891] \"Drama\"       \"Thriller\"    \"Action\"      \"Fantasy\"     \"Sci-Fi\"     \n",
       "[2896] \"Adventure\"   \"Action\"      \"Drama\"       \"Comedy\"      \"Horror\"     \n",
       "[2901] \"Drama\"       \"Thriller\"    \"History\"     \"Comedy\"      \"Comedy\"     \n",
       "[2906] \"Adventure\"   \"Fantasy\"     \"Horror\"      \"Animation\"   \"Comedy\"     \n",
       "[2911] \"Adventure\"   \"Action\"      \"Fantasy\"     \"Family\"      \"Drama\"      \n",
       "[2916] \"Thriller\"    \"Action\"      \"Drama\"       \"Comedy\"      \"Fantasy\"    \n",
       "[2921] \"Horror\"      \"Drama\"       \"Thriller\"    \"Sci-Fi\"      \"Comedy\"     \n",
       "[2926] \"Animation\"   \"Action\"      \"Fantasy\"     \"Comedy\"      \"Romance\"    \n",
       "[2931] \"Comedy\"      \"Drama\"       \"Crime\"       \"Drama\"       \"Romance\"    \n",
       "[2936] \"Drama\"       \"Thriller\"    \"History\"     \"Biography\"   \"Drama\"      \n",
       "[2941] \"Action\"      \"History\"     \"War\"         \"Biography\"   \"Drama\"      \n",
       "[2946] \"Animation\"   \"Comedy\"      \"Sci-Fi\"      \"Adventure\"   \"Fantasy\"    \n",
       "[2951] \"Family\"      \"Animation\"   \"Adventure\"   \"Fantasy\"     \"Family\"     \n",
       "[2956] \"Drama\"       \"Adventure\"   \"Western\"     \"Documentary\" \"Animation\"  \n",
       "[2961] \"Comedy\"      \"Adventure\"   \"Family\"      \"Sport\"       \"Comedy\"     \n",
       "[2966] \"Sci-Fi\"      \"Adventure\"   \"Action\"      \"Crime\"       \"Drama\"      \n",
       "[2971] \"Drama\"       \"Thriller\"    \"Crime\"       \"Mystery\"     \"Drama\"      \n",
       "[2976] \"Comedy\"      \"Romance\"     \"Romance\"     \"Animation\"   \"Comedy\"     \n",
       "[2981] \"Adventure\"   \"Fantasy\"     \"Family\"      \"Drama\"       \"Fantasy\"    \n",
       "[2986] \"Mystery\"     \"Horror\"      \"Drama\"       \"Romance\"     \"Music\"      \n",
       "[2991] \"Drama\"       \"Comedy\"      \"Crime\"       \"Drama\"       \"Sci-Fi\"     \n",
       "[2996] \"Adventure\"   \"Comedy\"      \"Drama\"       \"Thriller\"    \"Horror\"     \n",
       "[3001] \"Drama\"       \"Thriller\"    \"Crime\"       \"Mystery\"     \"Thriller\"   \n",
       "[3006] \"Sci-Fi\"      \"Fantasy\"     \"Mystery\"     \"Horror\"      \"Drama\"      \n",
       "[3011] \"Action\"      \"History\"     \"Biography\"   \"Comedy\"      \"Sci-Fi\"     \n",
       "[3016] \"Adventure\"   \"Action\"      \"Comedy\"      \"Action\"      \"Crime\"      \n",
       "[3021] \"Comedy\"      \"Action\"      \"Thriller\"    \"Action\"      \"Mystery\"    \n",
       "[3026] \"Drama\"       \"Action\"      \"Sport\"       \"History\"     \"Biography\"  \n",
       "[3031] \"Drama\"       \"Thriller\"    \"Mystery\"     \"Horror\"      \"Drama\"      \n",
       "[3036] \"Thriller\"    \"Sci-Fi\"      \"Romance\"     \"Drama\"       \"Thriller\"   \n",
       "[3041] \"Adventure\"   \"Crime\"       \"Drama\"       \"Drama\"       \"Romance\"    \n",
       "[3046] \"Action\"      \"Horror\"      \"Drama\"       \"Thriller\"    \"Mystery\"    \n",
       "[3051] \"Thriller\"    \"Drama\"       \"Comedy\"      \"Adventure\"   \"Fantasy\"    \n",
       "[3056] \"Thriller\"    \"Sci-Fi\"      \"Adventure\"   \"Action\"      \"Animation\"  \n",
       "[3061] \"Comedy\"      \"Action\"      \"Family\"      \"Animation\"   \"Comedy\"     \n",
       "[3066] \"Sci-Fi\"      \"Adventure\"   \"Action\"      \"Family\"      \"Comedy\"     \n",
       "[3071] \"Drama\"       \"Thriller\"    \"Sci-Fi\"      \"Drama\"       \"Crime\"      \n",
       "[3076] \"Mystery\"     \"Thriller\"    \"Romance\"     \"History\"     \"Drama\"      \n",
       "[3081] \"Thriller\"    \"Sci-Fi\"      \"Adventure\"   \"Sci-Fi\"      \"Comedy\"     \n",
       "[3086] \"Action\"      \"Thriller\"    \"Adventure\"   \"Action\"      \"Drama\"      \n",
       "[3091] \"Sci-Fi\"      \"Adventure\"   \"Mystery\"     \"Horror\"      \"Comedy\"     \n",
       "[3096] \"Sci-Fi\"      \"Adventure\"   \"Drama\"       \"Romance\"     \"Comedy\"     \n",
       "[3101] \"Romance\"     \"Drama\"       \"Thriller\"    \"Horror\"      \"Drama\"      \n",
       "[3106] \"Thriller\"    \"Comedy\"      \"Action\"      \"Crime\"       \"Action\"     \n",
       "[3111] \"War\"         \"Drama\"       \"Comedy\"      \"Animation\"   \"Comedy\"     \n",
       "[3116] \"Adventure\"   \"Fantasy\"     \"Family\"      \"Comedy\"      \"Adventure\"  \n",
       "[3121] \"Fantasy\"     \"Family\"      \"Animation\"   \"Comedy\"      \"Adventure\"  \n",
       "[3126] \"Fantasy\"     \"Family\"      \"Adventure\"   \"Action\"      \"Fantasy\"    \n",
       "[3131] \"Drama\"       \"Sci-Fi\"      \"Romance\"     \"Adventure\"   \"Action\"     \n",
       "[3136] \"Drama\"       \"Comedy\"      \"Romance\"     \"Family\"      \"Drama\"      \n",
       "[3141] \"Music\"       \"Drama\"       \"Action\"      \"Crime\"       \"Drama\"      \n",
       "[3146] \"Thriller\"    \"Comedy\"      \"Romance\"     \"Family\"      \"Thriller\"   \n",
       "[3151] \"Sci-Fi\"      \"Crime\"       \"Mystery\"     \"Drama\"       \"Thriller\"   \n",
       "[3156] \"Comedy\"      \"Sport\"       \"Thriller\"    \"Action\"      \"Crime\"      \n",
       "[3161] \"Mystery\"     \"Drama\"       \"Action\"      \"History\"     \"Drama\"      \n",
       "[3166] \"Comedy\"      \"Drama\"       \"Action\"      \"Comedy\"      \"Comedy\"     \n",
       "[3171] \"Drama\"       \"Romance\"     \"Drama\"       \"Comedy\"      \"Comedy\"     \n",
       "[3176] \"Action\"      \"Crime\"       \"Documentary\" \"Documentary\" \"Drama\"      \n",
       "[3181] \"Horror\"      \"Animation\"   \"Sci-Fi\"      \"Action\"      \"Drama\"      \n",
       "[3186] \"Family\"      \"Music\"       \"Drama\"       \"Kungfu\"      \"Comedy\"     \n",
       "[3191] \"Adventure\"   \"Action\"      \"Thriller\"    \"Action\"      \"Crime\"      \n",
       "[3196] \"Mystery\"     \"Drama\"       \"Sport\"       \"Drama\"       \"Drama\"      \n",
       "[3201] \"Romance\"     \"Drama\"       \"Crime\"       \"Drama\"       \"Mystery\"    \n",
       "[3206] \"Horror\"      \"Thriller\"    \"Action\"      \"Crime\"       \"Mystery\"    \n",
       "[3211] \"Adventure\"   \"Sci-Fi\"      \"Drama\"       \"Sci-Fi\"      \"Action\"     \n",
       "[3216] \"Sport\"       \"Drama\"       \"Action\"      \"Crime\"       \"Animation\"  \n",
       "[3221] \"Romance\"     \"Fantasy\"     \"Family\"      \"Action\"      \"Drama\"      \n",
       "[3226] \"Crime\"       \"Drama\"       \"Romance\"     \"Crime\"       \"Comedy\"     \n",
       "[3231] \"Romance\"     \"Thriller\"    \"Mystery\"     \"Horror\"      \"Drama\"      \n",
       "[3236] \"Romance\"     \"Comedy\"      \"Comedy\"      \"Action\"      \"Crime\"      \n",
       "[3241] \"Drama\"       \"Romance\"     \"Drama\"       \"Thriller\"    \"Action\"     \n",
       "[3246] \"War\"         \"Biography\"   \"Comedy\"      \"Romance\"     \"Animation\"  \n",
       "[3251] \"Comedy\"      \"Adventure\"   \"Action\"      \"Family\"      \"Drama\"      \n",
       "[3256] \"Comedy\"      \"Romance\"     \"Drama\"       \"Comedy\"      \"Drama\"      \n",
       "[3261] \"Romance\"     \"Thriller\"    \"Action\"      \"Crime\"       \"Drama\"      \n",
       "[3266] \"Adventure\"   \"Comedy\"      \"Drama\"       \"Thriller\"    \"Crime\"      \n",
       "[3271] \"Drama\"       \"Comedy\"      \"Comedy\"      \"Fantasy\"     \"Comedy\"     \n",
       "[3276] \"Fantasy\"     \"Family\"      \"Drama\"       \"Animation\"   \"Action\"     \n",
       "[3281] \"Fantasy\"     \"Horror\"      \"Thriller\"    \"Action\"      \"Horror\"     \n",
       "[3286] \"Thriller\"    \"Action\"      \"Crime\"       \"Thriller\"    \"Mystery\"    \n",
       "[3291] \"Drama\"       \"Thriller\"    \"Crime\"       \"Mystery\"     \"Horror\"     \n",
       "[3296] \"Thriller\"    \"Action\"      \"Drama\"       \"Thriller\"    \"Action\"     \n",
       "[3301] \"Horror\"      \"Comedy\"      \"Drama\"       \"Sci-Fi\"      \"Romance\"    \n",
       "[3306] \"Thriller\"    \"Sci-Fi\"      \"Adventure\"   \"Action\"      \"Comedy\"     \n",
       "[3311] \"Drama\"       \"Action\"      \"Crime\"       \"Drama\"       \"Thriller\"   \n",
       "[3316] \"Crime\"       \"Thriller\"    \"Drama\"       \"Drama\"       \"Thriller\"   \n",
       "[3321] \"Crime\"       \"Drama\"       \"Thriller\"    \"Romance\"     \"Action\"     \n",
       "[3326] \"Crime\"       \"Mystery\"     \"History\"     \"Drama\"       \"Comedy\"     \n",
       "[3331] \"Romance\"     \"Drama\"       \"Crime\"       \"Comedy\"      \"Drama\"      \n",
       "[3336] \"Comedy\"      \"Thriller\"    \"Comedy\"      \"Sci-Fi\"      \"Romance\"    \n",
       "[3341] \"Drama\"       \"Reality-TV\"  \"Comedy\"      \"Fantasy\"     \"Horror\"     \n",
       "[3346] \"Drama\"       \"Thriller\"    \"Crime\"       \"Thriller\"    \"Action\"     \n",
       "[3351] \"Crime\"       \"Fantasy\"     \"Horror\"      \"Drama\"       \"Thriller\"   \n",
       "[3356] \"Mystery\"     \"Horror\"      \"Action\"      \"Adventure\"   \"Fantasy\"    \n",
       "[3361] \"Family\"      \"Drama\"       \"Romance\"     \"Mystery\"     \"Comedy\"     \n",
       "[3366] \"Drama\"       \"Comedy\"      \"Romance\"     \"Drama\"       \"Sci-Fi\"     \n",
       "[3371] \"Animation\"   \"Comedy\"      \"Adventure\"   \"Action\"      \"Fantasy\"    \n",
       "[3376] \"Family\"      \"Drama\"       \"Action\"      \"Documentary\" \"Sci-Fi\"     \n",
       "[3381] \"Adventure\"   \"Mystery\"     \"Drama\"       \"Adventure\"   \"Fantasy\"    \n",
       "[3386] \"Action\"      \"Crime\"       \"Thriller\"    \"Mystery\"     \"Horror\"     \n",
       "[3391] \"Comedy\"      \"Sci-Fi\"      \"Sci-Fi\"      \"Action\"      \"Mystery\"    \n",
       "[3396] \"Drama\"       \"Thriller\"    \"Action\"      \"Horror\"      \"Thriller\"   \n",
       "[3401] \"Sci-Fi\"      \"Action\"      \"Action\"      \"Sci-Fi\"      \"Adventure\"  \n",
       "[3406] \"Fantasy\"     \"Family\"      \"Drama\"       \"Comedy\"      \"Romance\"    \n",
       "[3411] \"Comedy\"      \"Romance\"     \"Drama\"       \"Thriller\"    \"Crime\"      \n",
       "[3416] \"Animation\"   \"Comedy\"      \"Sci-Fi\"      \"Drama\"       \"Romance\"    \n",
       "[3421] \"War\"         \"Drama\"       \"Romance\"     \"Music\"       \"Comedy\"     \n",
       "[3426] \"Drama\"       \"Romance\"     \"Music\"       \"Comedy\"      \"Sci-Fi\"     \n",
       "[3431] \"Adventure\"   \"Action\"      \"Fantasy\"     \"Drama\"       \"Romance\"    \n",
       "[3436] \"Documentary\" \"Thriller\"    \"Mystery\"     \"Comedy\"      \"Sci-Fi\"     \n",
       "[3441] \"Fantasy\"     \"Drama\"       \"Romance\"     \"Comedy\"      \"Family\"     \n",
       "[3446] \"Thriller\"    \"Drama\"       \"Music\"       \"Drama\"       \"Romance\"    \n",
       "[3451] \"Fantasy\"     \"Drama\"       \"Thriller\"    \"Action\"      \"Crime\"      \n",
       "[3456] \"Drama\"       \"Thriller\"    \"Fantasy\"     \"Horror\"      \"Drama\"      \n",
       "[3461] \"Romance\"     \"Drama\"       \"Drama\"       \"Thriller\"    \"Sci-Fi\"     \n",
       "[3466] \"Action\"      \"Drama\"       \"Comedy\"      \"Comedy\"      \"Comedy\"     \n",
       "[3471] \"Sci-Fi\"      \"Action\"      \"Drama\"       \"Thriller\"    \"Romance\"    \n",
       "[3476] \"Mystery\"     \"Biography\"   \"Comedy\"      \"Drama\"       \"Romance\"    \n",
       "[3481] \"Drama\"       \"Biography\"   \"Drama\"       \"Thriller\"    \"Animation\"  \n",
       "[3486] \"Sci-Fi\"      \"Adventure\"   \"Action\"      \"Crime\"       \"Mystery\"    \n",
       "[3491] \"Drama\"       \"Adventure\"   \"Drama\"       \"Comedy\"      \"Romance\"    \n",
       "[3496] \"Thriller\"    \"Mystery\"     \"Thriller\"    \"Action\"      \"Drama\"      \n",
       "[3501] \"Thriller\"    \"Mystery\"     \"Thriller\"    \"Animation\"   \"Sci-Fi\"     \n",
       "[3506] \"Action\"      \"Fantasy\"     \"Drama\"       \"Comedy\"      \"Adventure\"  \n",
       "[3511] \"Crime\"       \"Western\"     \"Drama\"       \"Sci-Fi\"      \"Action\"     \n",
       "[3516] \"Drama\"       \"Sci-Fi\"      \"Animation\"   \"Sci-Fi\"      \"Action\"     \n",
       "[3521] \"Animation\"   \"Sci-Fi\"      \"Adventure\"   \"Family\"      \"Drama\"      \n",
       "[3526] \"Romance\"     \"Crime\"       \"History\"     \"Drama\"       \"Thriller\"   \n",
       "[3531] \"Crime\"       \"Mystery\"     \"Horror\"      \"Sci-Fi\"      \"Adventure\"  \n",
       "[3536] \"Action\"      \"Drama\"       \"Thriller\"    \"Action\"      \"Crime\"      \n",
       "[3541] \"Comedy\"      \"Romance\"     \"Drama\"       \"Action\"      \"History\"    \n",
       "[3546] \"War\"         \"Thriller\"    \"Horror\"      \"Comedy\"      \"Comedy\"     \n",
       "[3551] \"Romance\"     \"Sci-Fi\"      \"Adventure\"   \"Action\"      \"Drama\"      \n",
       "[3556] \"Adventure\"   \"War\"         \"Drama\"       \"Romance\"     \"Action\"     \n",
       "[3561] \"Thriller\"    \"Mystery\"     \"Comedy\"      \"Comedy\"      \"Sci-Fi\"     \n",
       "[3566] \"Action\"      \"Drama\"       \"Comedy\"      \"Biography\"   \"Drama\"      \n",
       "[3571] \"Animation\"   \"Comedy\"      \"Romance\"     \"Adventure\"   \"Action\"     \n",
       "[3576] \"Kungfu\"      \"Drama\"       \"Comedy\"      \"Drama\"       \"Comedy\"     \n",
       "[3581] \"Adventure\"   \"Romance\"     \"Family\"      \"Comedy\"      \"Fantasy\"    \n",
       "[3586] \"Drama\"       \"Drama\"       \"Drama\"       \"Drama\"       \"Comedy\"     \n",
       "[3591] \"Family\"      \"Drama\"       \"Thriller\"    \"Drama\"       \"Thriller\"   \n",
       "[3596] \"Crime\"       \"Mystery\"     \"Drama\"       \"Thriller\"    \"Sci-Fi\"     \n",
       "[3601] \"Sci-Fi\"      \"Horror\"      \"Drama\"       \"Horror\"      \"Animation\"  \n",
       "[3606] \"Comedy\"      \"Adventure\"   \"Drama\"       \"Thriller\"    \"Adventure\"  \n",
       "[3611] \"Action\"      \"History\"     \"Biography\"   \"Comedy\"      \"Fantasy\"    \n",
       "[3616] \"Drama\"       \"Sci-Fi\"      \"Crime\"       \"Drama\"       \"Thriller\"   \n",
       "[3621] \"Crime\"       \"Comedy\"      \"Romance\"     \"Drama\"       \"Comedy\"     \n",
       "[3626] \"Romance\"     \"Family\"      \"Music\"       \"Thriller\"    \"Horror\"     \n",
       "[3631] \"Thriller\"    \"Animation\"   \"Adventure\"   \"Action\"      \"Fantasy\"    \n",
       "[3636] \"Family\"      \"Drama\"       \"Sport\"       \"Animation\"   \"Comedy\"     \n",
       "[3641] \"Reality-TV\"  \"Thriller\"    \"Mystery\"     \"Horror\"      \"Animation\"  \n",
       "[3646] \"Comedy\"      \"Adventure\"   \"Family\"      \"Comedy\"      \"Fantasy\"    \n",
       "[3651] \"Family\"      \"Drama\"       \"Drama\"       \"Romance\"     \"Drama\"      \n",
       "[3656] \"Thriller\"    \"Crime\"       \"Mystery\"     \"Adventure\"   \"Fantasy\"    \n",
       "[3661] \"Drama\"       \"Comedy\"      \"History\"     \"Documentary\" \"Drama\"      \n",
       "[3666] \"Comedy\"      \"Romance\"     \"Thriller\"    \"Action\"      \"Sci-Fi\"     \n",
       "[3671] \"Adventure\"   \"Action\"      \"Drama\"       \"Thriller\"    \"Comedy\"     \n",
       "[3676] \"Horror\"      \"Drama\"       \"Romance\"     \"Fantasy\"     \"Family\"     \n",
       "[3681] \"Drama\"       \"Thriller\"    \"Drama\"       \"Thriller\"    \"Action\"     \n",
       "[3686] \"Drama\"       \"Thriller\"    \"Sci-Fi\"      \"Mystery\"     \"Action\"     \n",
       "[3691] \"Drama\"       \"Thriller\"    \"Action\"      \"Crime\"       \"Mystery\"    \n",
       "[3696] \"Drama\"       \"Comedy\"      \"Romance\"     \"Thriller\"    \"Adventure\"  \n",
       "[3701] \"Action\"      \"Comedy\"      \"Crime\"       \"Mystery\"     \"Animation\"  \n",
       "[3706] \"Adventure\"   \"Action\"      \"Drama\"       \"Drama\"       \"Romance\"    \n",
       "[3711] \"History\"     \"War\"         \"Drama\"       \"Thriller\"    \"Action\"     \n",
       "[3716] \"War\"         \"Action\"      \"History\"     \"War\"         \"Horror\"     \n",
       "[3721] \"Animation\"   \"Comedy\"      \"Adventure\"   \"Fantasy\"     \"Family\"     \n",
       "[3726] \"Adventure\"   \"Action\"      \"Fantasy\"     \"Action\"      \"Drama\"      \n",
       "[3731] \"Sci-Fi\"      \"Romance\"     \"Action\"      \"Drama\"       \"Thriller\"   \n",
       "[3736] \"Action\"      \"Crime\"       \"Thriller\"    \"Comedy\"      \"Drama\"      \n",
       "[3741] \"Comedy\"      \"Family\"      \"Drama\"       \"Action\"      \"Drama\"      \n",
       "[3746] \"Animation\"   \"Comedy\"      \"Adventure\"   \"Fantasy\"     \"Comedy\"     \n",
       "[3751] \"Adventure\"   \"Action\"      \"Drama\"       \"Comedy\"      \"Romance\"    \n",
       "[3756] \"Comedy\"      \"Romance\"     \"Thriller\"    \"Drama\"       \"Action\"     \n",
       "[3761] \"Horror\"      \"Comedy\"      \"Romance\"     \"Family\"      \"Comedy\"     \n",
       "[3766] \"Thriller\"    \"Action\"      \"Drama\"       \"Crime\"       \"Action\"     \n",
       "[3771] \"Drama\"       \"Action\"      \"Sport\"       \"Thriller\"    \"Action\"     \n",
       "[3776] \"Crime\"       \"Thriller\"    \"Action\"      \"Crime\"       \"Fantasy\"    \n",
       "[3781] \"Thriller\"    \"Comedy\"      \"Action\"      \"Drama\"       \"Mystery\"    \n",
       "[3786] \"Drama\"       \"Comedy\"      \"Romance\"    "
      ]
     },
     "metadata": {},
     "output_type": "display_data"
    }
   ],
   "source": [
    "movie$Genre"
   ]
  },
  {
   "cell_type": "code",
   "execution_count": 32,
   "metadata": {},
   "outputs": [
    {
     "data": {
      "image/png": "[encoded data removed]",
      "text/plain": [
       "plot without title"
      ]
     },
     "metadata": {
      "image/png": {
       "height": 420,
       "width": 420
      }
     },
     "output_type": "display_data"
    }
   ],
   "source": [
    "# correlation graph between tv and movie ratings\n",
    "p <- ggplot() + \n",
    "    geom_line(data = movie, aes(x=Imdb, y=LocalUserReviews, colour=\"green\")) +\n",
    "    geom_line(data = tv, aes(x=IMDB, y=USER_REVIEWS_LOCAL, colour=\"pink\")) +\n",
    "    xlab('Imdb') +\n",
    "    ylab('LocalUserReviews') +\n",
    "    ggtitle(\"Movies VS Tv Ratings\") +\n",
    "    theme_bw() +\n",
    "    scale_color_discrete(name = \"Legend\", labels = c(\"Movies\", \"TV\"))\n",
    "\n",
    "p"
   ]
  },
  {
   "cell_type": "markdown",
   "metadata": {},
   "source": [
    "We can see Tv has higher rating than movies in respect to IMDB"
   ]
  },
  {
   "cell_type": "code",
   "execution_count": 33,
   "metadata": {},
   "outputs": [],
   "source": [
    "# tv"
   ]
  },
  {
   "cell_type": "code",
   "execution_count": 34,
   "metadata": {},
   "outputs": [
    {
     "data": {
      "image/png": "[encoded data removed]",
      "text/plain": [
       "plot without title"
      ]
     },
     "metadata": {
      "image/png": {
       "height": 420,
       "width": 420
      }
     },
     "output_type": "display_data"
    }
   ],
   "source": [
    "df_movie = sqldf(\"select Imdb, LocalUserReviews from movie\")\n",
    "ggpairs(df_movie)"
   ]
  },
  {
   "cell_type": "code",
   "execution_count": 35,
   "metadata": {
    "scrolled": false
   },
   "outputs": [
    {
     "data": {
      "image/png": "[encoded data removed]",
      "text/plain": [
       "Plot with title \"\""
      ]
     },
     "metadata": {
      "image/png": {
       "height": 420,
       "width": 420
      }
     },
     "output_type": "display_data"
    }
   ],
   "source": [
    "df_movie.cor = cor(df_movie)\n",
    "df_movie.cor = cor(df_movie, method = \"pearson\")\n",
    "corrplot(df_movie.cor)"
   ]
  },
  {
   "cell_type": "code",
   "execution_count": 36,
   "metadata": {},
   "outputs": [
    {
     "data": {
      "image/png": "[encoded data removed]",
      "text/plain": [
       "plot without title"
      ]
     },
     "metadata": {
      "image/png": {
       "height": 420,
       "width": 420
      }
     },
     "output_type": "display_data"
    }
   ],
   "source": [
    "df_tv = sqldf(\"select IMDB, USER_REVIEWS_LOCAL from tv\")\n",
    "ggpairs(df_tv)"
   ]
  },
  {
   "cell_type": "code",
   "execution_count": 37,
   "metadata": {},
   "outputs": [
    {
     "data": {
      "image/png": "[encoded data removed]",
      "text/plain": [
       "Plot with title \"\""
      ]
     },
     "metadata": {
      "image/png": {
       "height": 420,
       "width": 420
      }
     },
     "output_type": "display_data"
    }
   ],
   "source": [
    "df_tv.cor = cor(df_tv)\n",
    "df_tv.cor = cor(df_tv, method = \"pearson\")\n",
    "corrplot(df_tv.cor)"
   ]
  },
  {
   "cell_type": "code",
   "execution_count": 38,
   "metadata": {},
   "outputs": [],
   "source": [
    "#  used for joining/merging different datasets\n",
    "# rbind(movie,tv)"
   ]
  },
  {
   "cell_type": "markdown",
   "metadata": {},
   "source": [
    "## Central Tendency\n",
    "It describes the middle of the data, where most the observations lie"
   ]
  },
  {
   "cell_type": "code",
   "execution_count": 39,
   "metadata": {},
   "outputs": [
    {
     "data": {
      "text/html": [
       "6.67133051742344"
      ],
      "text/latex": [
       "6.67133051742344"
      ],
      "text/markdown": [
       "6.67133051742344"
      ],
      "text/plain": [
       "[1] 6.671331"
      ]
     },
     "metadata": {},
     "output_type": "display_data"
    },
    {
     "data": {
      "text/html": [
       "6.8"
      ],
      "text/latex": [
       "6.8"
      ],
      "text/markdown": [
       "6.8"
      ],
      "text/plain": [
       "[1] 6.8"
      ]
     },
     "metadata": {},
     "output_type": "display_data"
    },
    {
     "data": {
      "text/html": [
       "<style>\n",
       ".dl-inline {width: auto; margin:0; padding: 0}\n",
       ".dl-inline>dt, .dl-inline>dd {float: none; width: auto; display: inline-block}\n",
       ".dl-inline>dt::after {content: \":\\0020\"; padding-right: .5ex}\n",
       ".dl-inline>dt:not(:first-of-type) {padding-left: .5ex}\n",
       "</style><dl class=dl-inline><dt>0%</dt><dd>0</dd><dt>25%</dt><dd>6</dd><dt>50%</dt><dd>6.8</dd><dt>75%</dt><dd>7.5</dd><dt>100%</dt><dd>9.4</dd></dl>\n"
      ],
      "text/latex": [
       "\\begin{description*}\n",
       "\\item[0\\textbackslash{}\\%] 0\n",
       "\\item[25\\textbackslash{}\\%] 6\n",
       "\\item[50\\textbackslash{}\\%] 6.8\n",
       "\\item[75\\textbackslash{}\\%] 7.5\n",
       "\\item[100\\textbackslash{}\\%] 9.4\n",
       "\\end{description*}\n"
      ],
      "text/markdown": [
       "0%\n",
       ":   025%\n",
       ":   650%\n",
       ":   6.875%\n",
       ":   7.5100%\n",
       ":   9.4\n",
       "\n"
      ],
      "text/plain": [
       "  0%  25%  50%  75% 100% \n",
       " 0.0  6.0  6.8  7.5  9.4 "
      ]
     },
     "metadata": {},
     "output_type": "display_data"
    }
   ],
   "source": [
    "# Central tendency for movies ratings\n",
    "mean(movie$Imdb)\n",
    "median(movie$Imdb)\n",
    "quantile(movie$Imdb)"
   ]
  },
  {
   "cell_type": "code",
   "execution_count": 40,
   "metadata": {},
   "outputs": [
    {
     "data": {
      "text/html": [
       "7.68874345549738"
      ],
      "text/latex": [
       "7.68874345549738"
      ],
      "text/markdown": [
       "7.68874345549738"
      ],
      "text/plain": [
       "[1] 7.688743"
      ]
     },
     "metadata": {},
     "output_type": "display_data"
    },
    {
     "data": {
      "text/html": [
       "7.9"
      ],
      "text/latex": [
       "7.9"
      ],
      "text/markdown": [
       "7.9"
      ],
      "text/plain": [
       "[1] 7.9"
      ]
     },
     "metadata": {},
     "output_type": "display_data"
    },
    {
     "data": {
      "text/html": [
       "<style>\n",
       ".dl-inline {width: auto; margin:0; padding: 0}\n",
       ".dl-inline>dt, .dl-inline>dd {float: none; width: auto; display: inline-block}\n",
       ".dl-inline>dt::after {content: \":\\0020\"; padding-right: .5ex}\n",
       ".dl-inline>dt:not(:first-of-type) {padding-left: .5ex}\n",
       "</style><dl class=dl-inline><dt>0%</dt><dd>0</dd><dt>25%</dt><dd>7.3</dd><dt>50%</dt><dd>7.9</dd><dt>75%</dt><dd>8.4</dd><dt>100%</dt><dd>9.5</dd></dl>\n"
      ],
      "text/latex": [
       "\\begin{description*}\n",
       "\\item[0\\textbackslash{}\\%] 0\n",
       "\\item[25\\textbackslash{}\\%] 7.3\n",
       "\\item[50\\textbackslash{}\\%] 7.9\n",
       "\\item[75\\textbackslash{}\\%] 8.4\n",
       "\\item[100\\textbackslash{}\\%] 9.5\n",
       "\\end{description*}\n"
      ],
      "text/markdown": [
       "0%\n",
       ":   025%\n",
       ":   7.350%\n",
       ":   7.975%\n",
       ":   8.4100%\n",
       ":   9.5\n",
       "\n"
      ],
      "text/plain": [
       "  0%  25%  50%  75% 100% \n",
       " 0.0  7.3  7.9  8.4  9.5 "
      ]
     },
     "metadata": {},
     "output_type": "display_data"
    }
   ],
   "source": [
    "# cental tendency for tv ratings\n",
    "mean(tv$IMDB)\n",
    "median(tv$IMDB)\n",
    "quantile(tv$IMDB)"
   ]
  },
  {
   "cell_type": "code",
   "execution_count": 41,
   "metadata": {},
   "outputs": [
    {
     "data": {
      "text/plain": [
       "      Date             MovieName          WatchLink        \n",
       " Min.   :1972-03-24   Length:3788        Length:3788       \n",
       " 1st Qu.:2014-03-21   Class :character   Class :character  \n",
       " Median :2017-08-08   Mode  :character   Mode  :character  \n",
       " Mean   :2014-12-05                                        \n",
       " 3rd Qu.:2019-01-31                                        \n",
       " Max.   :2020-07-03                                        \n",
       "   DateAdded             SiteRank         Stars                Imdb      \n",
       " Min.   :2020-07-14   Min.   :   1.0   Length:3788        Min.   :0.000  \n",
       " 1st Qu.:2020-07-14   1st Qu.: 361.0   Class :character   1st Qu.:6.000  \n",
       " Median :2020-07-14   Median : 738.0   Mode  :character   Median :6.800  \n",
       " Mean   :2020-07-14   Mean   : 764.6                      Mean   :6.671  \n",
       " 3rd Qu.:2020-07-14   3rd Qu.:1172.0                      3rd Qu.:7.500  \n",
       " Max.   :2020-07-14   Max.   :1600.0                      Max.   :9.400  \n",
       "   Director           Country             Genre           LocalUserReviews\n",
       " Length:3788        Length:3788        Length:3788        Min.   :4.500   \n",
       " Class :character   Class :character   Class :character   1st Qu.:6.300   \n",
       " Mode  :character   Mode  :character   Mode  :character   Median :6.700   \n",
       "                                                          Mean   :6.652   \n",
       "                                                          3rd Qu.:7.000   \n",
       "                                                          Max.   :8.300   \n",
       " NumberOfLocalReviews\n",
       " Length:3788         \n",
       " Class :character    \n",
       " Mode  :character    \n",
       "                     \n",
       "                     \n",
       "                     "
      ]
     },
     "metadata": {},
     "output_type": "display_data"
    }
   ],
   "source": [
    "summary(movie)"
   ]
  },
  {
   "cell_type": "markdown",
   "metadata": {},
   "source": [
    "## Correlation\n",
    "Its a relationship between two variables. \n",
    "So, will be calculating correlating cofficient between Imdb ratings and LocalUserReviews ratings."
   ]
  },
  {
   "cell_type": "code",
   "execution_count": 42,
   "metadata": {},
   "outputs": [
    {
     "data": {
      "text/html": [
       "0.451902324589587"
      ],
      "text/latex": [
       "0.451902324589587"
      ],
      "text/markdown": [
       "0.451902324589587"
      ],
      "text/plain": [
       "[1] 0.4519023"
      ]
     },
     "metadata": {},
     "output_type": "display_data"
    }
   ],
   "source": [
    "# using peasons coefficient \n",
    "cor(movie$Imdb, movie$LocalUserReviews, use='complete.obs', method='pearson')"
   ]
  },
  {
   "cell_type": "code",
   "execution_count": 43,
   "metadata": {},
   "outputs": [
    {
     "data": {
      "text/html": [
       "0.438113853856033"
      ],
      "text/latex": [
       "0.438113853856033"
      ],
      "text/markdown": [
       "0.438113853856033"
      ],
      "text/plain": [
       "[1] 0.4381139"
      ]
     },
     "metadata": {},
     "output_type": "display_data"
    }
   ],
   "source": [
    "# using spearman coefficient\n",
    "cor(movie$Imdb, movie$LocalUserReviews, use='complete.obs', method='spearman')"
   ]
  },
  {
   "cell_type": "markdown",
   "metadata": {},
   "source": [
    "So, as we can see up there ^^, the both peason and spearman correlation are close to 1 which means that they have strong positive relationships"
   ]
  },
  {
   "cell_type": "code",
   "execution_count": 44,
   "metadata": {},
   "outputs": [
    {
     "data": {
      "text/plain": [
       "\n",
       "     Action   Adventure   Animation   Biography      Comedy       Crime \n",
       "        448         365         143          60         408         183 \n",
       "Documentary       Drama      Family     Fantasy     History      Horror \n",
       "         14         541         172         245          46         142 \n",
       "     Kungfu       Music     Mystery  Reality-TV     Romance      Sci-Fi \n",
       "          3          22         135           4         185         247 \n",
       "      Sport    Thriller         War     Western \n",
       "         20         361          34          10 "
      ]
     },
     "metadata": {},
     "output_type": "display_data"
    }
   ],
   "source": [
    "# representation of different Genre types\n",
    "table(movie$Genre)"
   ]
  },
  {
   "cell_type": "markdown",
   "metadata": {},
   "source": [
    "## Bar Plots\n",
    "They represent the categorical data with rectangular bars with height or lenghts proportional to the values that they represent.\n",
    "\n",
    "So, will create a bar plot for first column as there are many genre columns so, wont be able to show properly if uses all of them."
   ]
  },
  {
   "cell_type": "code",
   "execution_count": 45,
   "metadata": {},
   "outputs": [
    {
     "data": {
      "image/png": "[encoded data removed]",
      "text/plain": [
       "plot without title"
      ]
     },
     "metadata": {
      "image/png": {
       "height": 420,
       "width": 420
      }
     },
     "output_type": "display_data"
    }
   ],
   "source": [
    "# now we'll plot that on the bar graph with the help of ggplot\n",
    "ggplot(data = movie, aes(x=Genre))+\n",
    "    geom_bar() + theme_bw()"
   ]
  },
  {
   "cell_type": "code",
   "execution_count": 46,
   "metadata": {},
   "outputs": [
    {
     "data": {
      "image/png": "[encoded data removed]",
      "text/plain": [
       "plot without title"
      ]
     },
     "metadata": {
      "image/png": {
       "height": 420,
       "width": 420
      }
     },
     "output_type": "display_data"
    }
   ],
   "source": [
    "#  use of diff random colors to represent the bars\n",
    "#  and as we can see clearly number of drama movies are the maximum on Fmovies website\n",
    "ggplot(data = movie, aes(x=Genre, fill=Genre))+\n",
    "    geom_bar() + xlab('Genre') +\n",
    "    ylab('Number of Movies') + theme_bw()"
   ]
  },
  {
   "cell_type": "markdown",
   "metadata": {},
   "source": [
    "## Pie Chart\n",
    "They are used for displaying the whole quantity of data which can be divided into proportions."
   ]
  },
  {
   "cell_type": "code",
   "execution_count": 47,
   "metadata": {},
   "outputs": [
    {
     "data": {
      "image/png": "[encoded data removed]",
      "text/plain": [
       "plot without title"
      ]
     },
     "metadata": {
      "image/png": {
       "height": 420,
       "width": 420
      }
     },
     "output_type": "display_data"
    }
   ],
   "source": [
    "# pie chart for genre column for movie dataset \\\n",
    "# we can clearly see that data is not properly communicating well\n",
    "# thats one of the disadvantages for visualising the data with it.\n",
    "pie(table(movie$Genre))"
   ]
  },
  {
   "cell_type": "markdown",
   "metadata": {},
   "source": [
    "## Histograms\n",
    "This histogram represents the Imdb ratings for movie dataset and is visualized using 20 bins."
   ]
  },
  {
   "cell_type": "code",
   "execution_count": 48,
   "metadata": {},
   "outputs": [
    {
     "data": {
      "image/png": "[encoded data removed]",
      "text/plain": [
       "plot without title"
      ]
     },
     "metadata": {
      "image/png": {
       "height": 420,
       "width": 420
      }
     },
     "output_type": "display_data"
    }
   ],
   "source": [
    "ggplot(data=movie,aes(x=Imdb))+\n",
    "    geom_histogram(bins=20)+ xlab('Imdb') +\n",
    "    ylab('Count') +\n",
    "    theme_bw()"
   ]
  },
  {
   "cell_type": "markdown",
   "metadata": {},
   "source": [
    "## Q-Q plots \n",
    "Analyzing camparison b/w our Imdb rating data and normal distribution"
   ]
  },
  {
   "cell_type": "code",
   "execution_count": 49,
   "metadata": {},
   "outputs": [
    {
     "data": {
      "image/png": "[encoded data removed]",
      "text/plain": [
       "plot without title"
      ]
     },
     "metadata": {
      "image/png": {
       "height": 420,
       "width": 420
      }
     },
     "output_type": "display_data"
    }
   ],
   "source": [
    "ggplot(data=movie,aes(sample=Imdb))+\n",
    "    geom_qq() + geom_qq_line() + xlab('Imdb') +\n",
    "    ylab('Count') + ggtitle(\"Q-Q Plot for Imdb ratings\") +\n",
    "    theme_bw()"
   ]
  },
  {
   "cell_type": "markdown",
   "metadata": {},
   "source": [
    "After looking at the qq plot, we can say that there's not a good straight line representing the distribution of Imdb ratings dataset and which is approx normal."
   ]
  },
  {
   "cell_type": "markdown",
   "metadata": {},
   "source": [
    "## Creation of lolipop plot\n",
    "In order to perform that, first we need to genrate the scratter and the bar plot"
   ]
  },
  {
   "cell_type": "code",
   "execution_count": 50,
   "metadata": {},
   "outputs": [
    {
     "data": {
      "image/png": "[encoded data removed]",
      "text/plain": [
       "plot without title"
      ]
     },
     "metadata": {
      "image/png": {
       "height": 420,
       "width": 420
      }
     },
     "output_type": "display_data"
    }
   ],
   "source": [
    "# so we'll generate a plot to see what movies were added at what time.\n",
    "# use of MovieName & Date attributes from the movie dataset.\n",
    "\n",
    "date_added <- movie %>%\n",
    "    group_by(MovieName) %>%\n",
    "    summarize(Date = mean(Date))\n",
    "\n",
    "date_added %>%\n",
    "    ggplot(aes(x = MovieName, y = Date)) + geom_col() +\n",
    "    xlab('MovieName') +\n",
    "    ylab('DateAdded On the website') + ggtitle(\"Bar plot for Movies and when they were added on website\") +\n",
    "    theme_bw()"
   ]
  },
  {
   "cell_type": "markdown",
   "metadata": {},
   "source": [
    "As we can see above, due to high volume of rows the data cannot be seen properly and i would thats also not a good way of representing anything as any new audience wont get that properly.\n",
    "\n",
    "In general, movies were added in around 1970s and most of the movies were added in 2020."
   ]
  },
  {
   "cell_type": "code",
   "execution_count": 51,
   "metadata": {},
   "outputs": [
    {
     "data": {
      "image/png": "[encoded data removed]",
      "text/plain": [
       "plot without title"
      ]
     },
     "metadata": {
      "image/png": {
       "height": 420,
       "width": 420
      }
     },
     "output_type": "display_data"
    }
   ],
   "source": [
    "# scatter plot for the same attributes above \n",
    "date_added %>%\n",
    "    ggplot(aes(x = MovieName, y = Date)) + geom_point(size = 3, color = \"black\") +\n",
    "    xlab('MovieName') +\n",
    "    ylab('DateAdded On the website') + ggtitle(\"Scatter plot for Movies and when they were added on website\") +\n",
    "    theme_bw()"
   ]
  },
  {
   "cell_type": "markdown",
   "metadata": {},
   "source": [
    "We can see that scatter plot have exactly the same information as bar plot and I know it doesn't make sense here. but its used for making the lolipop plot."
   ]
  },
  {
   "cell_type": "markdown",
   "metadata": {},
   "source": [
    "## Note working below code"
   ]
  },
  {
   "cell_type": "code",
   "execution_count": 52,
   "metadata": {},
   "outputs": [],
   "source": [
    "# # Finally Lolipop plot for the above barplot & scatter plot\n",
    "# date_added %>%\n",
    "#     ggplot(aes(x = MovieName, y = Date)) + geom_point(size = 3, color = \"black\") +\n",
    "#     geom_segment(aes(xend = MovieName, yend = 0)) +\n",
    "#     xlab('MovieName') +\n",
    "#     ylab('DateAdded On the website') + ggtitle(\"Scatter plot for Movies and when they were added on website\") +\n",
    "#     theme_bw()"
   ]
  },
  {
   "cell_type": "code",
   "execution_count": null,
   "metadata": {},
   "outputs": [],
   "source": []
  },
  {
   "cell_type": "code",
   "execution_count": 53,
   "metadata": {},
   "outputs": [
    {
     "data": {
      "text/html": [
       "<style>\n",
       ".list-inline {list-style: none; margin:0; padding: 0}\n",
       ".list-inline>li {display: inline-block}\n",
       ".list-inline>li:not(:last-child)::after {content: \"\\00b7\"; padding: 0 .5ex}\n",
       "</style>\n",
       "<ol class=list-inline><li>'Date'</li><li>'MovieName'</li><li>'WatchLink'</li><li>'DateAdded'</li><li>'SiteRank'</li><li>'Stars'</li><li>'Imdb'</li><li>'Director'</li><li>'Country'</li><li>'Genre'</li><li>'LocalUserReviews'</li><li>'NumberOfLocalReviews'</li></ol>\n"
      ],
      "text/latex": [
       "\\begin{enumerate*}\n",
       "\\item 'Date'\n",
       "\\item 'MovieName'\n",
       "\\item 'WatchLink'\n",
       "\\item 'DateAdded'\n",
       "\\item 'SiteRank'\n",
       "\\item 'Stars'\n",
       "\\item 'Imdb'\n",
       "\\item 'Director'\n",
       "\\item 'Country'\n",
       "\\item 'Genre'\n",
       "\\item 'LocalUserReviews'\n",
       "\\item 'NumberOfLocalReviews'\n",
       "\\end{enumerate*}\n"
      ],
      "text/markdown": [
       "1. 'Date'\n",
       "2. 'MovieName'\n",
       "3. 'WatchLink'\n",
       "4. 'DateAdded'\n",
       "5. 'SiteRank'\n",
       "6. 'Stars'\n",
       "7. 'Imdb'\n",
       "8. 'Director'\n",
       "9. 'Country'\n",
       "10. 'Genre'\n",
       "11. 'LocalUserReviews'\n",
       "12. 'NumberOfLocalReviews'\n",
       "\n",
       "\n"
      ],
      "text/plain": [
       " [1] \"Date\"                 \"MovieName\"            \"WatchLink\"           \n",
       " [4] \"DateAdded\"            \"SiteRank\"             \"Stars\"               \n",
       " [7] \"Imdb\"                 \"Director\"             \"Country\"             \n",
       "[10] \"Genre\"                \"LocalUserReviews\"     \"NumberOfLocalReviews\""
      ]
     },
     "metadata": {},
     "output_type": "display_data"
    }
   ],
   "source": [
    "colnames(movie)"
   ]
  },
  {
   "cell_type": "code",
   "execution_count": 54,
   "metadata": {},
   "outputs": [
    {
     "data": {
      "text/html": [
       "<style>\n",
       ".list-inline {list-style: none; margin:0; padding: 0}\n",
       ".list-inline>li {display: inline-block}\n",
       ".list-inline>li:not(:last-child)::after {content: \"\\00b7\"; padding: 0 .5ex}\n",
       "</style>\n",
       "<ol class=list-inline><li>3788</li><li>12</li></ol>\n"
      ],
      "text/latex": [
       "\\begin{enumerate*}\n",
       "\\item 3788\n",
       "\\item 12\n",
       "\\end{enumerate*}\n"
      ],
      "text/markdown": [
       "1. 3788\n",
       "2. 12\n",
       "\n",
       "\n"
      ],
      "text/plain": [
       "[1] 3788   12"
      ]
     },
     "metadata": {},
     "output_type": "display_data"
    }
   ],
   "source": [
    "dim(movie)"
   ]
  },
  {
   "cell_type": "code",
   "execution_count": 55,
   "metadata": {},
   "outputs": [],
   "source": [
    "movie = movie[!duplicated(movie$Country),]"
   ]
  },
  {
   "cell_type": "code",
   "execution_count": 56,
   "metadata": {},
   "outputs": [
    {
     "data": {
      "text/html": [
       "<style>\n",
       ".list-inline {list-style: none; margin:0; padding: 0}\n",
       ".list-inline>li {display: inline-block}\n",
       ".list-inline>li:not(:last-child)::after {content: \"\\00b7\"; padding: 0 .5ex}\n",
       "</style>\n",
       "<ol class=list-inline><li>132</li><li>12</li></ol>\n"
      ],
      "text/latex": [
       "\\begin{enumerate*}\n",
       "\\item 132\n",
       "\\item 12\n",
       "\\end{enumerate*}\n"
      ],
      "text/markdown": [
       "1. 132\n",
       "2. 12\n",
       "\n",
       "\n"
      ],
      "text/plain": [
       "[1] 132  12"
      ]
     },
     "metadata": {},
     "output_type": "display_data"
    }
   ],
   "source": [
    "dim(movie)"
   ]
  },
  {
   "cell_type": "code",
   "execution_count": 57,
   "metadata": {},
   "outputs": [
    {
     "data": {
      "text/html": [
       "<style>\n",
       ".list-inline {list-style: none; margin:0; padding: 0}\n",
       ".list-inline>li {display: inline-block}\n",
       ".list-inline>li:not(:last-child)::after {content: \"\\00b7\"; padding: 0 .5ex}\n",
       "</style>\n",
       "<ol class=list-inline><li>'United States'</li><li>'United States,Australia'</li><li>'United States,United Kingdom'</li><li>'United States,Canada'</li><li>'United States,Canada,Argentina'</li><li>'United States,Spain'</li><li>'Japan'</li><li>'United States,France,Japan'</li><li>'United States,China'</li><li>'United States,United Kingdom,Japan'</li><li>'United States,Hong Kong'</li><li>'United States,United Kingdom,China'</li><li>'United States,France,Canada'</li><li>'United States,Poland'</li><li>'United States,New Zealand'</li><li>'United States,Mexico'</li><li>'Korea'</li><li>'United States,United Kingdom,Canada,Norway'</li><li>'United States,South Africa'</li><li>'United States,France'</li><li>'United States,Finland'</li><li>'United States,United Kingdom,West Germany'</li><li>'United States,Japan,Canada'</li><li>'United States,United Kingdom,France'</li><li>'United States,Italy'</li><li>'United States,Japan'</li><li>'United States,China,Hong Kong'</li><li>'France,Belgium'</li><li>'United States,Australia,Denmark,Norway'</li><li>'Australia'</li><li>'United Kingdom'</li><li>'United States,United Kingdom,Canada'</li><li>'China,Hong Kong'</li><li>'United States,China,Brazil'</li><li>'United States,International'</li><li>'United States,Australia,Canada'</li><li>'United States,France,Italy,Brazil'</li><li>'Poland'</li><li>'United States,United Kingdom,International,Canada'</li><li>'United States,Taiwan,Hong Kong'</li><li>'United States,India,Australia'</li><li>'India'</li><li>'France,Belgium,Spain'</li><li>'United States,United Kingdom,France,Netherlands'</li><li>'United States,Sweden'</li><li>'United States,Thailand,China'</li><li>'United States,China,Australia,Canada'</li><li>'United States,China,Netherlands'</li><li>'United States,Japan,China,Canada'</li><li>'United States,China,Hong Kong,Canada'</li><li>'United States,South Africa,Canada,Ireland'</li><li>'United States,Hong Kong,Canada'</li><li>'United States,United Kingdom,Belgium'</li><li>'United States,United Kingdom,Canada,West Germany,Sweden'</li><li>'France'</li><li>'United States,United Kingdom,Australia'</li><li>'United States,China,Canada'</li><li>'United Kingdom,New Zealand,West Germany'</li><li>'United Kingdom,Spain'</li><li>'New Zealand,Czech Republic'</li><li>'United States,India'</li><li>'Spain'</li><li>'United States,United Kingdom,International'</li><li>'International'</li><li>'United Kingdom,West Germany'</li><li>'United States,West Germany'</li><li>'Canada'</li><li>'United States,United Kingdom,New Zealand,Australia,Canada'</li><li>'United States,United Kingdom,France,International,Taiwan,Hong Kong,Canada'</li><li>'United States,United Kingdom,France,Belgium'</li><li>'United States,Australia,Canada,Norway'</li><li>'United States,China,Hong Kong,Australia,Canada'</li><li>'United States,United Kingdom,Ireland'</li><li>'Hong Kong'</li><li>'United States,United Kingdom,Spain'</li><li>'Italy'</li><li>'United Kingdom,France'</li><li>'United Kingdom,Ireland,West Germany,Sweden'</li><li>'United States,Czech Republic,Spain'</li><li>'United States,Hungary'</li><li>'United States,United Kingdom,France,Switzerland'</li><li>'Russia'</li><li>'West Germany'</li><li>'United States,Argentina'</li><li>'Thailand'</li><li>'United States,Ireland'</li><li>'United States,United Kingdom,India,China,New Zealand,Canada'</li><li>'United Kingdom,France,Spain,West Germany'</li><li>'Romania'</li><li>'Denmark,Sweden'</li><li>'United States,Denmark'</li><li>'Belgium'</li><li>'Argentina'</li><li>'United Kingdom,West Germany,Sweden'</li><li>'China'</li><li>'United Kingdom,Australia,Hungary'</li><li>'United States,United Kingdom,International,Italy,Czech Republic,West Germany'</li><li>'Ireland'</li><li>'United States,France,West Germany'</li><li>'United States,United Kingdom,France,Japan,South Africa,Australia,Canada,West Germany'</li><li>'United States,United Kingdom,France,Ireland'</li><li>'United States,India,West Germany'</li><li>'Belgium,West Germany,Finland'</li><li>'United States,France,Netherlands,Ireland'</li><li>'United States,United Kingdom,France,West Germany,Poland'</li><li>'United States,International,Czech Republic'</li><li>'United States,United Kingdom,Canada,Ireland'</li><li>'United States,United Kingdom,France,Australia,Canada,West Germany'</li><li>'United States,United Kingdom,Sweden'</li><li>'United States,Korea'</li><li>'United Kingdom,France,International,Netherlands,Ireland'</li><li>'United States,Australia,Denmark'</li><li>'United States,United Kingdom,France,Luxembourg'</li><li>'United States,United Kingdom,France,India,Taiwan,Canada'</li><li>'United States,Canada,West Germany'</li><li>'United States,United Kingdom,France,International'</li><li>'Sweden'</li><li>'United Kingdom,Australia'</li><li>'United States,Israel'</li><li>'United States,France,Belgium,Spain,Romania'</li><li>'United Kingdom,France,Belgium,Denmark,West Germany'</li><li>'Netherlands'</li><li>'United States,United Kingdom,India,Japan,West Germany'</li><li>'Austria'</li><li>'Canada,Ireland'</li><li>'United States,France,International'</li><li>'United Kingdom,France,Italy,Switzerland'</li><li>'United States,Australia,Spain'</li><li>'United States,France,Denmark'</li><li>'China,Russia'</li><li>'France,Denmark,West Germany,Sweden'</li><li>'United States,International,India'</li></ol>\n"
      ],
      "text/latex": [
       "\\begin{enumerate*}\n",
       "\\item 'United States'\n",
       "\\item 'United States,Australia'\n",
       "\\item 'United States,United Kingdom'\n",
       "\\item 'United States,Canada'\n",
       "\\item 'United States,Canada,Argentina'\n",
       "\\item 'United States,Spain'\n",
       "\\item 'Japan'\n",
       "\\item 'United States,France,Japan'\n",
       "\\item 'United States,China'\n",
       "\\item 'United States,United Kingdom,Japan'\n",
       "\\item 'United States,Hong Kong'\n",
       "\\item 'United States,United Kingdom,China'\n",
       "\\item 'United States,France,Canada'\n",
       "\\item 'United States,Poland'\n",
       "\\item 'United States,New Zealand'\n",
       "\\item 'United States,Mexico'\n",
       "\\item 'Korea'\n",
       "\\item 'United States,United Kingdom,Canada,Norway'\n",
       "\\item 'United States,South Africa'\n",
       "\\item 'United States,France'\n",
       "\\item 'United States,Finland'\n",
       "\\item 'United States,United Kingdom,West Germany'\n",
       "\\item 'United States,Japan,Canada'\n",
       "\\item 'United States,United Kingdom,France'\n",
       "\\item 'United States,Italy'\n",
       "\\item 'United States,Japan'\n",
       "\\item 'United States,China,Hong Kong'\n",
       "\\item 'France,Belgium'\n",
       "\\item 'United States,Australia,Denmark,Norway'\n",
       "\\item 'Australia'\n",
       "\\item 'United Kingdom'\n",
       "\\item 'United States,United Kingdom,Canada'\n",
       "\\item 'China,Hong Kong'\n",
       "\\item 'United States,China,Brazil'\n",
       "\\item 'United States,International'\n",
       "\\item 'United States,Australia,Canada'\n",
       "\\item 'United States,France,Italy,Brazil'\n",
       "\\item 'Poland'\n",
       "\\item 'United States,United Kingdom,International,Canada'\n",
       "\\item 'United States,Taiwan,Hong Kong'\n",
       "\\item 'United States,India,Australia'\n",
       "\\item 'India'\n",
       "\\item 'France,Belgium,Spain'\n",
       "\\item 'United States,United Kingdom,France,Netherlands'\n",
       "\\item 'United States,Sweden'\n",
       "\\item 'United States,Thailand,China'\n",
       "\\item 'United States,China,Australia,Canada'\n",
       "\\item 'United States,China,Netherlands'\n",
       "\\item 'United States,Japan,China,Canada'\n",
       "\\item 'United States,China,Hong Kong,Canada'\n",
       "\\item 'United States,South Africa,Canada,Ireland'\n",
       "\\item 'United States,Hong Kong,Canada'\n",
       "\\item 'United States,United Kingdom,Belgium'\n",
       "\\item 'United States,United Kingdom,Canada,West Germany,Sweden'\n",
       "\\item 'France'\n",
       "\\item 'United States,United Kingdom,Australia'\n",
       "\\item 'United States,China,Canada'\n",
       "\\item 'United Kingdom,New Zealand,West Germany'\n",
       "\\item 'United Kingdom,Spain'\n",
       "\\item 'New Zealand,Czech Republic'\n",
       "\\item 'United States,India'\n",
       "\\item 'Spain'\n",
       "\\item 'United States,United Kingdom,International'\n",
       "\\item 'International'\n",
       "\\item 'United Kingdom,West Germany'\n",
       "\\item 'United States,West Germany'\n",
       "\\item 'Canada'\n",
       "\\item 'United States,United Kingdom,New Zealand,Australia,Canada'\n",
       "\\item 'United States,United Kingdom,France,International,Taiwan,Hong Kong,Canada'\n",
       "\\item 'United States,United Kingdom,France,Belgium'\n",
       "\\item 'United States,Australia,Canada,Norway'\n",
       "\\item 'United States,China,Hong Kong,Australia,Canada'\n",
       "\\item 'United States,United Kingdom,Ireland'\n",
       "\\item 'Hong Kong'\n",
       "\\item 'United States,United Kingdom,Spain'\n",
       "\\item 'Italy'\n",
       "\\item 'United Kingdom,France'\n",
       "\\item 'United Kingdom,Ireland,West Germany,Sweden'\n",
       "\\item 'United States,Czech Republic,Spain'\n",
       "\\item 'United States,Hungary'\n",
       "\\item 'United States,United Kingdom,France,Switzerland'\n",
       "\\item 'Russia'\n",
       "\\item 'West Germany'\n",
       "\\item 'United States,Argentina'\n",
       "\\item 'Thailand'\n",
       "\\item 'United States,Ireland'\n",
       "\\item 'United States,United Kingdom,India,China,New Zealand,Canada'\n",
       "\\item 'United Kingdom,France,Spain,West Germany'\n",
       "\\item 'Romania'\n",
       "\\item 'Denmark,Sweden'\n",
       "\\item 'United States,Denmark'\n",
       "\\item 'Belgium'\n",
       "\\item 'Argentina'\n",
       "\\item 'United Kingdom,West Germany,Sweden'\n",
       "\\item 'China'\n",
       "\\item 'United Kingdom,Australia,Hungary'\n",
       "\\item 'United States,United Kingdom,International,Italy,Czech Republic,West Germany'\n",
       "\\item 'Ireland'\n",
       "\\item 'United States,France,West Germany'\n",
       "\\item 'United States,United Kingdom,France,Japan,South Africa,Australia,Canada,West Germany'\n",
       "\\item 'United States,United Kingdom,France,Ireland'\n",
       "\\item 'United States,India,West Germany'\n",
       "\\item 'Belgium,West Germany,Finland'\n",
       "\\item 'United States,France,Netherlands,Ireland'\n",
       "\\item 'United States,United Kingdom,France,West Germany,Poland'\n",
       "\\item 'United States,International,Czech Republic'\n",
       "\\item 'United States,United Kingdom,Canada,Ireland'\n",
       "\\item 'United States,United Kingdom,France,Australia,Canada,West Germany'\n",
       "\\item 'United States,United Kingdom,Sweden'\n",
       "\\item 'United States,Korea'\n",
       "\\item 'United Kingdom,France,International,Netherlands,Ireland'\n",
       "\\item 'United States,Australia,Denmark'\n",
       "\\item 'United States,United Kingdom,France,Luxembourg'\n",
       "\\item 'United States,United Kingdom,France,India,Taiwan,Canada'\n",
       "\\item 'United States,Canada,West Germany'\n",
       "\\item 'United States,United Kingdom,France,International'\n",
       "\\item 'Sweden'\n",
       "\\item 'United Kingdom,Australia'\n",
       "\\item 'United States,Israel'\n",
       "\\item 'United States,France,Belgium,Spain,Romania'\n",
       "\\item 'United Kingdom,France,Belgium,Denmark,West Germany'\n",
       "\\item 'Netherlands'\n",
       "\\item 'United States,United Kingdom,India,Japan,West Germany'\n",
       "\\item 'Austria'\n",
       "\\item 'Canada,Ireland'\n",
       "\\item 'United States,France,International'\n",
       "\\item 'United Kingdom,France,Italy,Switzerland'\n",
       "\\item 'United States,Australia,Spain'\n",
       "\\item 'United States,France,Denmark'\n",
       "\\item 'China,Russia'\n",
       "\\item 'France,Denmark,West Germany,Sweden'\n",
       "\\item 'United States,International,India'\n",
       "\\end{enumerate*}\n"
      ],
      "text/markdown": [
       "1. 'United States'\n",
       "2. 'United States,Australia'\n",
       "3. 'United States,United Kingdom'\n",
       "4. 'United States,Canada'\n",
       "5. 'United States,Canada,Argentina'\n",
       "6. 'United States,Spain'\n",
       "7. 'Japan'\n",
       "8. 'United States,France,Japan'\n",
       "9. 'United States,China'\n",
       "10. 'United States,United Kingdom,Japan'\n",
       "11. 'United States,Hong Kong'\n",
       "12. 'United States,United Kingdom,China'\n",
       "13. 'United States,France,Canada'\n",
       "14. 'United States,Poland'\n",
       "15. 'United States,New Zealand'\n",
       "16. 'United States,Mexico'\n",
       "17. 'Korea'\n",
       "18. 'United States,United Kingdom,Canada,Norway'\n",
       "19. 'United States,South Africa'\n",
       "20. 'United States,France'\n",
       "21. 'United States,Finland'\n",
       "22. 'United States,United Kingdom,West Germany'\n",
       "23. 'United States,Japan,Canada'\n",
       "24. 'United States,United Kingdom,France'\n",
       "25. 'United States,Italy'\n",
       "26. 'United States,Japan'\n",
       "27. 'United States,China,Hong Kong'\n",
       "28. 'France,Belgium'\n",
       "29. 'United States,Australia,Denmark,Norway'\n",
       "30. 'Australia'\n",
       "31. 'United Kingdom'\n",
       "32. 'United States,United Kingdom,Canada'\n",
       "33. 'China,Hong Kong'\n",
       "34. 'United States,China,Brazil'\n",
       "35. 'United States,International'\n",
       "36. 'United States,Australia,Canada'\n",
       "37. 'United States,France,Italy,Brazil'\n",
       "38. 'Poland'\n",
       "39. 'United States,United Kingdom,International,Canada'\n",
       "40. 'United States,Taiwan,Hong Kong'\n",
       "41. 'United States,India,Australia'\n",
       "42. 'India'\n",
       "43. 'France,Belgium,Spain'\n",
       "44. 'United States,United Kingdom,France,Netherlands'\n",
       "45. 'United States,Sweden'\n",
       "46. 'United States,Thailand,China'\n",
       "47. 'United States,China,Australia,Canada'\n",
       "48. 'United States,China,Netherlands'\n",
       "49. 'United States,Japan,China,Canada'\n",
       "50. 'United States,China,Hong Kong,Canada'\n",
       "51. 'United States,South Africa,Canada,Ireland'\n",
       "52. 'United States,Hong Kong,Canada'\n",
       "53. 'United States,United Kingdom,Belgium'\n",
       "54. 'United States,United Kingdom,Canada,West Germany,Sweden'\n",
       "55. 'France'\n",
       "56. 'United States,United Kingdom,Australia'\n",
       "57. 'United States,China,Canada'\n",
       "58. 'United Kingdom,New Zealand,West Germany'\n",
       "59. 'United Kingdom,Spain'\n",
       "60. 'New Zealand,Czech Republic'\n",
       "61. 'United States,India'\n",
       "62. 'Spain'\n",
       "63. 'United States,United Kingdom,International'\n",
       "64. 'International'\n",
       "65. 'United Kingdom,West Germany'\n",
       "66. 'United States,West Germany'\n",
       "67. 'Canada'\n",
       "68. 'United States,United Kingdom,New Zealand,Australia,Canada'\n",
       "69. 'United States,United Kingdom,France,International,Taiwan,Hong Kong,Canada'\n",
       "70. 'United States,United Kingdom,France,Belgium'\n",
       "71. 'United States,Australia,Canada,Norway'\n",
       "72. 'United States,China,Hong Kong,Australia,Canada'\n",
       "73. 'United States,United Kingdom,Ireland'\n",
       "74. 'Hong Kong'\n",
       "75. 'United States,United Kingdom,Spain'\n",
       "76. 'Italy'\n",
       "77. 'United Kingdom,France'\n",
       "78. 'United Kingdom,Ireland,West Germany,Sweden'\n",
       "79. 'United States,Czech Republic,Spain'\n",
       "80. 'United States,Hungary'\n",
       "81. 'United States,United Kingdom,France,Switzerland'\n",
       "82. 'Russia'\n",
       "83. 'West Germany'\n",
       "84. 'United States,Argentina'\n",
       "85. 'Thailand'\n",
       "86. 'United States,Ireland'\n",
       "87. 'United States,United Kingdom,India,China,New Zealand,Canada'\n",
       "88. 'United Kingdom,France,Spain,West Germany'\n",
       "89. 'Romania'\n",
       "90. 'Denmark,Sweden'\n",
       "91. 'United States,Denmark'\n",
       "92. 'Belgium'\n",
       "93. 'Argentina'\n",
       "94. 'United Kingdom,West Germany,Sweden'\n",
       "95. 'China'\n",
       "96. 'United Kingdom,Australia,Hungary'\n",
       "97. 'United States,United Kingdom,International,Italy,Czech Republic,West Germany'\n",
       "98. 'Ireland'\n",
       "99. 'United States,France,West Germany'\n",
       "100. 'United States,United Kingdom,France,Japan,South Africa,Australia,Canada,West Germany'\n",
       "101. 'United States,United Kingdom,France,Ireland'\n",
       "102. 'United States,India,West Germany'\n",
       "103. 'Belgium,West Germany,Finland'\n",
       "104. 'United States,France,Netherlands,Ireland'\n",
       "105. 'United States,United Kingdom,France,West Germany,Poland'\n",
       "106. 'United States,International,Czech Republic'\n",
       "107. 'United States,United Kingdom,Canada,Ireland'\n",
       "108. 'United States,United Kingdom,France,Australia,Canada,West Germany'\n",
       "109. 'United States,United Kingdom,Sweden'\n",
       "110. 'United States,Korea'\n",
       "111. 'United Kingdom,France,International,Netherlands,Ireland'\n",
       "112. 'United States,Australia,Denmark'\n",
       "113. 'United States,United Kingdom,France,Luxembourg'\n",
       "114. 'United States,United Kingdom,France,India,Taiwan,Canada'\n",
       "115. 'United States,Canada,West Germany'\n",
       "116. 'United States,United Kingdom,France,International'\n",
       "117. 'Sweden'\n",
       "118. 'United Kingdom,Australia'\n",
       "119. 'United States,Israel'\n",
       "120. 'United States,France,Belgium,Spain,Romania'\n",
       "121. 'United Kingdom,France,Belgium,Denmark,West Germany'\n",
       "122. 'Netherlands'\n",
       "123. 'United States,United Kingdom,India,Japan,West Germany'\n",
       "124. 'Austria'\n",
       "125. 'Canada,Ireland'\n",
       "126. 'United States,France,International'\n",
       "127. 'United Kingdom,France,Italy,Switzerland'\n",
       "128. 'United States,Australia,Spain'\n",
       "129. 'United States,France,Denmark'\n",
       "130. 'China,Russia'\n",
       "131. 'France,Denmark,West Germany,Sweden'\n",
       "132. 'United States,International,India'\n",
       "\n",
       "\n"
      ],
      "text/plain": [
       "  [1] \"United States\"                                                                       \n",
       "  [2] \"United States,Australia\"                                                             \n",
       "  [3] \"United States,United Kingdom\"                                                        \n",
       "  [4] \"United States,Canada\"                                                                \n",
       "  [5] \"United States,Canada,Argentina\"                                                      \n",
       "  [6] \"United States,Spain\"                                                                 \n",
       "  [7] \"Japan\"                                                                               \n",
       "  [8] \"United States,France,Japan\"                                                          \n",
       "  [9] \"United States,China\"                                                                 \n",
       " [10] \"United States,United Kingdom,Japan\"                                                  \n",
       " [11] \"United States,Hong Kong\"                                                             \n",
       " [12] \"United States,United Kingdom,China\"                                                  \n",
       " [13] \"United States,France,Canada\"                                                         \n",
       " [14] \"United States,Poland\"                                                                \n",
       " [15] \"United States,New Zealand\"                                                           \n",
       " [16] \"United States,Mexico\"                                                                \n",
       " [17] \"Korea\"                                                                               \n",
       " [18] \"United States,United Kingdom,Canada,Norway\"                                          \n",
       " [19] \"United States,South Africa\"                                                          \n",
       " [20] \"United States,France\"                                                                \n",
       " [21] \"United States,Finland\"                                                               \n",
       " [22] \"United States,United Kingdom,West Germany\"                                           \n",
       " [23] \"United States,Japan,Canada\"                                                          \n",
       " [24] \"United States,United Kingdom,France\"                                                 \n",
       " [25] \"United States,Italy\"                                                                 \n",
       " [26] \"United States,Japan\"                                                                 \n",
       " [27] \"United States,China,Hong Kong\"                                                       \n",
       " [28] \"France,Belgium\"                                                                      \n",
       " [29] \"United States,Australia,Denmark,Norway\"                                              \n",
       " [30] \"Australia\"                                                                           \n",
       " [31] \"United Kingdom\"                                                                      \n",
       " [32] \"United States,United Kingdom,Canada\"                                                 \n",
       " [33] \"China,Hong Kong\"                                                                     \n",
       " [34] \"United States,China,Brazil\"                                                          \n",
       " [35] \"United States,International\"                                                         \n",
       " [36] \"United States,Australia,Canada\"                                                      \n",
       " [37] \"United States,France,Italy,Brazil\"                                                   \n",
       " [38] \"Poland\"                                                                              \n",
       " [39] \"United States,United Kingdom,International,Canada\"                                   \n",
       " [40] \"United States,Taiwan,Hong Kong\"                                                      \n",
       " [41] \"United States,India,Australia\"                                                       \n",
       " [42] \"India\"                                                                               \n",
       " [43] \"France,Belgium,Spain\"                                                                \n",
       " [44] \"United States,United Kingdom,France,Netherlands\"                                     \n",
       " [45] \"United States,Sweden\"                                                                \n",
       " [46] \"United States,Thailand,China\"                                                        \n",
       " [47] \"United States,China,Australia,Canada\"                                                \n",
       " [48] \"United States,China,Netherlands\"                                                     \n",
       " [49] \"United States,Japan,China,Canada\"                                                    \n",
       " [50] \"United States,China,Hong Kong,Canada\"                                                \n",
       " [51] \"United States,South Africa,Canada,Ireland\"                                           \n",
       " [52] \"United States,Hong Kong,Canada\"                                                      \n",
       " [53] \"United States,United Kingdom,Belgium\"                                                \n",
       " [54] \"United States,United Kingdom,Canada,West Germany,Sweden\"                             \n",
       " [55] \"France\"                                                                              \n",
       " [56] \"United States,United Kingdom,Australia\"                                              \n",
       " [57] \"United States,China,Canada\"                                                          \n",
       " [58] \"United Kingdom,New Zealand,West Germany\"                                             \n",
       " [59] \"United Kingdom,Spain\"                                                                \n",
       " [60] \"New Zealand,Czech Republic\"                                                          \n",
       " [61] \"United States,India\"                                                                 \n",
       " [62] \"Spain\"                                                                               \n",
       " [63] \"United States,United Kingdom,International\"                                          \n",
       " [64] \"International\"                                                                       \n",
       " [65] \"United Kingdom,West Germany\"                                                         \n",
       " [66] \"United States,West Germany\"                                                          \n",
       " [67] \"Canada\"                                                                              \n",
       " [68] \"United States,United Kingdom,New Zealand,Australia,Canada\"                           \n",
       " [69] \"United States,United Kingdom,France,International,Taiwan,Hong Kong,Canada\"           \n",
       " [70] \"United States,United Kingdom,France,Belgium\"                                         \n",
       " [71] \"United States,Australia,Canada,Norway\"                                               \n",
       " [72] \"United States,China,Hong Kong,Australia,Canada\"                                      \n",
       " [73] \"United States,United Kingdom,Ireland\"                                                \n",
       " [74] \"Hong Kong\"                                                                           \n",
       " [75] \"United States,United Kingdom,Spain\"                                                  \n",
       " [76] \"Italy\"                                                                               \n",
       " [77] \"United Kingdom,France\"                                                               \n",
       " [78] \"United Kingdom,Ireland,West Germany,Sweden\"                                          \n",
       " [79] \"United States,Czech Republic,Spain\"                                                  \n",
       " [80] \"United States,Hungary\"                                                               \n",
       " [81] \"United States,United Kingdom,France,Switzerland\"                                     \n",
       " [82] \"Russia\"                                                                              \n",
       " [83] \"West Germany\"                                                                        \n",
       " [84] \"United States,Argentina\"                                                             \n",
       " [85] \"Thailand\"                                                                            \n",
       " [86] \"United States,Ireland\"                                                               \n",
       " [87] \"United States,United Kingdom,India,China,New Zealand,Canada\"                         \n",
       " [88] \"United Kingdom,France,Spain,West Germany\"                                            \n",
       " [89] \"Romania\"                                                                             \n",
       " [90] \"Denmark,Sweden\"                                                                      \n",
       " [91] \"United States,Denmark\"                                                               \n",
       " [92] \"Belgium\"                                                                             \n",
       " [93] \"Argentina\"                                                                           \n",
       " [94] \"United Kingdom,West Germany,Sweden\"                                                  \n",
       " [95] \"China\"                                                                               \n",
       " [96] \"United Kingdom,Australia,Hungary\"                                                    \n",
       " [97] \"United States,United Kingdom,International,Italy,Czech Republic,West Germany\"        \n",
       " [98] \"Ireland\"                                                                             \n",
       " [99] \"United States,France,West Germany\"                                                   \n",
       "[100] \"United States,United Kingdom,France,Japan,South Africa,Australia,Canada,West Germany\"\n",
       "[101] \"United States,United Kingdom,France,Ireland\"                                         \n",
       "[102] \"United States,India,West Germany\"                                                    \n",
       "[103] \"Belgium,West Germany,Finland\"                                                        \n",
       "[104] \"United States,France,Netherlands,Ireland\"                                            \n",
       "[105] \"United States,United Kingdom,France,West Germany,Poland\"                             \n",
       "[106] \"United States,International,Czech Republic\"                                          \n",
       "[107] \"United States,United Kingdom,Canada,Ireland\"                                         \n",
       "[108] \"United States,United Kingdom,France,Australia,Canada,West Germany\"                   \n",
       "[109] \"United States,United Kingdom,Sweden\"                                                 \n",
       "[110] \"United States,Korea\"                                                                 \n",
       "[111] \"United Kingdom,France,International,Netherlands,Ireland\"                             \n",
       "[112] \"United States,Australia,Denmark\"                                                     \n",
       "[113] \"United States,United Kingdom,France,Luxembourg\"                                      \n",
       "[114] \"United States,United Kingdom,France,India,Taiwan,Canada\"                             \n",
       "[115] \"United States,Canada,West Germany\"                                                   \n",
       "[116] \"United States,United Kingdom,France,International\"                                   \n",
       "[117] \"Sweden\"                                                                              \n",
       "[118] \"United Kingdom,Australia\"                                                            \n",
       "[119] \"United States,Israel\"                                                                \n",
       "[120] \"United States,France,Belgium,Spain,Romania\"                                          \n",
       "[121] \"United Kingdom,France,Belgium,Denmark,West Germany\"                                  \n",
       "[122] \"Netherlands\"                                                                         \n",
       "[123] \"United States,United Kingdom,India,Japan,West Germany\"                               \n",
       "[124] \"Austria\"                                                                             \n",
       "[125] \"Canada,Ireland\"                                                                      \n",
       "[126] \"United States,France,International\"                                                  \n",
       "[127] \"United Kingdom,France,Italy,Switzerland\"                                             \n",
       "[128] \"United States,Australia,Spain\"                                                       \n",
       "[129] \"United States,France,Denmark\"                                                        \n",
       "[130] \"China,Russia\"                                                                        \n",
       "[131] \"France,Denmark,West Germany,Sweden\"                                                  \n",
       "[132] \"United States,International,India\"                                                   "
      ]
     },
     "metadata": {},
     "output_type": "display_data"
    }
   ],
   "source": [
    "movie$Country"
   ]
  },
  {
   "cell_type": "code",
   "execution_count": null,
   "metadata": {},
   "outputs": [],
   "source": []
  },
  {
   "cell_type": "code",
   "execution_count": null,
   "metadata": {},
   "outputs": [],
   "source": []
  },
  {
   "cell_type": "code",
   "execution_count": null,
   "metadata": {},
   "outputs": [],
   "source": []
  },
  {
   "cell_type": "code",
   "execution_count": null,
   "metadata": {},
   "outputs": [],
   "source": []
  },
  {
   "cell_type": "code",
   "execution_count": null,
   "metadata": {},
   "outputs": [],
   "source": []
  },
  {
   "cell_type": "code",
   "execution_count": null,
   "metadata": {},
   "outputs": [],
   "source": []
  },
  {
   "cell_type": "code",
   "execution_count": null,
   "metadata": {},
   "outputs": [],
   "source": []
  }
 ],
 "metadata": {
  "kernelspec": {
   "display_name": "R",
   "language": "R",
   "name": "ir"
  },
  "language_info": {
   "codemirror_mode": "r",
   "file_extension": ".r",
   "mimetype": "text/x-r-source",
   "name": "R",
   "pygments_lexer": "r",
   "version": "4.0.4"
  }
 },
 "nbformat": 4,
 "nbformat_minor": 4
}
